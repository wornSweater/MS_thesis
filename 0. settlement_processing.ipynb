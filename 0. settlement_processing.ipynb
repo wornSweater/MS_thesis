{
 "cells": [
  {
   "cell_type": "code",
   "execution_count": 1,
   "id": "5df52798-d8ec-448a-a3f2-47443e058371",
   "metadata": {},
   "outputs": [],
   "source": [
    "import pandas as pd\n",
    "import numpy as np\n",
    "import matplotlib.pyplot as plt\n",
    "import os\n",
    "import json\n",
    "from tqdm import tqdm\n",
    "from utils import *\n",
    "from bs4 import BeautifulSoup\n",
    "from collections import Counter"
   ]
  },
  {
   "cell_type": "markdown",
   "id": "3837ef5c",
   "metadata": {},
   "source": [
    "# Settlement value"
   ]
  },
  {
   "cell_type": "markdown",
   "id": "3caf5144",
   "metadata": {},
   "source": [
    "## 1. Read files"
   ]
  },
  {
   "cell_type": "markdown",
   "id": "d57dd183",
   "metadata": {},
   "source": [
    "read files and define the folder address"
   ]
  },
  {
   "cell_type": "code",
   "execution_count": 2,
   "id": "d0df3e5f-a97f-4a96-b100-83206a4285bf",
   "metadata": {},
   "outputs": [
    {
     "name": "stderr",
     "output_type": "stream",
     "text": [
      "C:\\Users\\55479\\AppData\\Local\\Temp\\ipykernel_11956\\3047742581.py:2: DtypeWarning: Columns (24,25) have mixed types. Specify dtype option on import or set low_memory=False.\n",
      "  oneDTE_df = pd.read_csv(r\"raw_data\\OpitonMetrics\\options_data\\1DTE.csv\")\n"
     ]
    },
    {
     "name": "stdout",
     "output_type": "stream",
     "text": [
      "Security close prices dict has been created\n",
      "Official US_holidays csv file has been created\n"
     ]
    }
   ],
   "source": [
    "# load 1DTE option data\n",
    "oneDTE_df = pd.read_csv(r\"raw_data\\OpitonMetrics\\options_data\\1DTE.csv\")\n",
    "\n",
    "# load the security price data\n",
    "security_prices_df = pd.read_csv(r\"raw_data\\OpitonMetrics\\securities_data\\security_prices.csv\")\n",
    "\n",
    "# create the security close prices dict, date as the key and close price as the value\n",
    "security_close_prices = {}\n",
    "for index, row in security_prices_df.iterrows():\n",
    "    security_close_prices[row['date']] = float(row['close'])\n",
    "print(f'Security close prices dict has been created')\n",
    "\n",
    "# create the US holidays list\n",
    "# store the holidays as official csv file\n",
    "raw_holidays = pd.read_csv(r\"raw_data\\US_holidays\\raw_US_holidays.csv\")\n",
    "holidays = []\n",
    "for key in raw_holidays.keys():\n",
    "    for holiday in raw_holidays[key]:\n",
    "        if pd.isna(holiday):\n",
    "            continue\n",
    "        holidays.append(holiday)\n",
    "\n",
    "holidays.sort()\n",
    "holidays_df = pd.DataFrame(holidays, columns=['date'])\n",
    "holidays_df.to_csv(r\"raw_data\\US_holidays\\US_holidays.csv\")\n",
    "print(f'Official US_holidays csv file has been created')"
   ]
  },
  {
   "cell_type": "code",
   "execution_count": 3,
   "id": "51be5827-527c-4298-8452-6202a5ea3e59",
   "metadata": {},
   "outputs": [],
   "source": [
    "EOM_json_folder = os.getcwd() + r\"\\raw_data\\CboeSettlementValues\\EOM\\json\"\n",
    "regular_json_folder = os.getcwd() + r\"\\raw_data\\CboeSettlementValues\\regular\\json\"\n",
    "weekly_json_folder = os.getcwd() + r\"\\raw_data\\CboeSettlementValues\\weekly\\json\"\n",
    "quarterly_json_folder = os.getcwd() + r\"\\raw_data\\CboeSettlementValues\\quarterly\\json\""
   ]
  },
  {
   "cell_type": "markdown",
   "id": "fab53621-541f-4544-9a48-8f0644b214bb",
   "metadata": {},
   "source": [
    "convert html to json files"
   ]
  },
  {
   "cell_type": "code",
   "execution_count": 4,
   "id": "32ac8e28-a161-4eb9-9b42-4aeb15d23a4b",
   "metadata": {},
   "outputs": [
    {
     "name": "stdout",
     "output_type": "stream",
     "text": [
      "All htmls of settlement values have been converted to json files\n"
     ]
    }
   ],
   "source": [
    "convert_all_htmls_to_jsons()\n",
    "print(f'All htmls of settlement values have been converted to json files')"
   ]
  },
  {
   "cell_type": "markdown",
   "id": "37f747de",
   "metadata": {},
   "source": [
    "## 2. OSI analysis and processing"
   ]
  },
  {
   "cell_type": "markdown",
   "id": "1b4fa5d3",
   "metadata": {},
   "source": [
    "Option types in 1DTE data"
   ]
  },
  {
   "cell_type": "code",
   "execution_count": 5,
   "id": "dbeb1e32-c7a1-479a-a532-e82021ade57f",
   "metadata": {},
   "outputs": [
    {
     "data": {
      "text/plain": [
       "{'SPX', 'SPXPM', 'SPXQ', 'SPXW'}"
      ]
     },
     "execution_count": 5,
     "metadata": {},
     "output_type": "execute_result"
    }
   ],
   "source": [
    "# types before OSI of data\n",
    "symbols = []\n",
    "for i in oneDTE_df['symbol']:\n",
    "    if '.' not in i.split(' ')[0] and 'SPX' in i.split(' ')[0]:\n",
    "        symbols.append(i.split(' ')[0])\n",
    "set(symbols)\n",
    "\n",
    "# after a period, there are only SPX, SPXPM, SPXQ and SPXW"
   ]
  },
  {
   "cell_type": "markdown",
   "id": "3c924b42",
   "metadata": {},
   "source": [
    "Settlement value types in json file"
   ]
  },
  {
   "cell_type": "code",
   "execution_count": 6,
   "id": "b94f6f98-cfc8-41f0-898f-64d101de84ce",
   "metadata": {},
   "outputs": [
    {
     "data": {
      "text/plain": [
       "{('S&P 500 CLOSE', 'SPX')}"
      ]
     },
     "execution_count": 6,
     "metadata": {},
     "output_type": "execute_result"
    }
   ],
   "source": [
    "# EOM settlement values description\n",
    "pair_list = []\n",
    "for root, dirs, files in os.walk(EOM_json_folder):\n",
    "    for file in files:\n",
    "        with open(EOM_json_folder + '\\\\' + file, 'r') as f:\n",
    "            sv = json.load(f)['data']\n",
    "        year_list = [(i['description'], i['settlement_symbol']) for i in sv if 'S&P 500' in i['description']]\n",
    "        pair_list += year_list\n",
    "\n",
    "set(pair_list)"
   ]
  },
  {
   "cell_type": "code",
   "execution_count": 7,
   "id": "5cb457af-1da1-447b-83be-4ba28dd470f2",
   "metadata": {},
   "outputs": [
    {
     "data": {
      "text/plain": [
       "{('S&P 500', 'SPX'), ('S&P 500 MINI', 'XSP')}"
      ]
     },
     "execution_count": 7,
     "metadata": {},
     "output_type": "execute_result"
    }
   ],
   "source": [
    "# quaterly settlement values description\n",
    "pair_list = []\n",
    "for root, dirs, files in os.walk(quarterly_json_folder):\n",
    "    for file in files:\n",
    "        with open(quarterly_json_folder + '\\\\' + file, 'r') as f:\n",
    "            sv = json.load(f)['data']\n",
    "        year_list = [(i['description'], i['settlement_symbol']) for i in sv if 'S&P 500' in i['description']]\n",
    "        pair_list += year_list\n",
    "\n",
    "set(pair_list)"
   ]
  },
  {
   "cell_type": "code",
   "execution_count": 8,
   "id": "48bcec43-cd54-4546-a760-9f530738cd93",
   "metadata": {},
   "outputs": [
    {
     "data": {
      "text/plain": [
       "{('Cboe NANOS S&P 500 Index Options Close', 'NANOS'),\n",
       " ('S&P 500', 'SET'),\n",
       " ('S&P 500', 'SPX'),\n",
       " ('S&P 500 CLOSE', 'SPX')}"
      ]
     },
     "execution_count": 8,
     "metadata": {},
     "output_type": "execute_result"
    }
   ],
   "source": [
    "# weekly settlement values description\n",
    "pair_list = []\n",
    "for root, dirs, files in os.walk(weekly_json_folder):\n",
    "    for file in files:\n",
    "        with open(weekly_json_folder + '\\\\' + file, 'r') as f:\n",
    "            sv = json.load(f)['data']\n",
    "        year_list = [(i['description'], i['settlement_symbol']) for i in sv if 'S&P 500' in i['description']]\n",
    "        pair_list += year_list\n",
    "\n",
    "set(pair_list)"
   ]
  },
  {
   "cell_type": "code",
   "execution_count": 9,
   "id": "40a2959c-d8ef-4b2c-8b64-7a5d42fa4452",
   "metadata": {},
   "outputs": [
    {
     "data": {
      "text/plain": [
       "{('S&P 500', 'SET'),\n",
       " ('S&P 500 (SET)', 'SET'),\n",
       " ('S&P 500 PM Settled Options', 'SPX'),\n",
       " ('S&P 500 PM Settled Options', 'SPXPM'),\n",
       " ('S&P 500 PM-Settled', 'SPX'),\n",
       " ('S&P 500 Scored & Screened Index', 'ESGST')}"
      ]
     },
     "execution_count": 9,
     "metadata": {},
     "output_type": "execute_result"
    }
   ],
   "source": [
    "# regular settlement values description\n",
    "pair_list = []\n",
    "for root, dirs, files in os.walk(regular_json_folder):\n",
    "    for file in files:\n",
    "        with open(regular_json_folder + '\\\\' + file, 'r') as f:\n",
    "            sv = json.load(f)['data']\n",
    "        year_list = [(i['description'], i['settlement_symbol']) for i in sv if 'S&P 500' in i['description']]\n",
    "        pair_list += year_list\n",
    "\n",
    "set(pair_list)"
   ]
  },
  {
   "cell_type": "code",
   "execution_count": 10,
   "id": "0be40105",
   "metadata": {},
   "outputs": [],
   "source": [
    "# for EOM and quarterly, they have dupliates and all the same (have been checked manually)"
   ]
  },
  {
   "cell_type": "markdown",
   "id": "40a02d6d",
   "metadata": {},
   "source": [
    "Get all SP500 option settlement values"
   ]
  },
  {
   "cell_type": "code",
   "execution_count": 11,
   "id": "27dd1e59-9829-4c32-b1da-3e780ac12ee5",
   "metadata": {},
   "outputs": [
    {
     "name": "stdout",
     "output_type": "stream",
     "text": [
      "The json file containing all settlement values has been created\n"
     ]
    }
   ],
   "source": [
    "generate_all_settlement_values_json()\n",
    "print(f'The json file containing all settlement values has been created')"
   ]
  },
  {
   "cell_type": "markdown",
   "id": "bb76bab2",
   "metadata": {},
   "source": [
    "Analysis of SPXQ, SPXPM, SPXW, SPX in data"
   ]
  },
  {
   "cell_type": "code",
   "execution_count": 12,
   "id": "60b95751",
   "metadata": {},
   "outputs": [
    {
     "name": "stdout",
     "output_type": "stream",
     "text": [
      "2022-04-14\n"
     ]
    }
   ],
   "source": [
    "# check if all existing dates in regular settlement values are all close 3rd Friday\n",
    "for date in list(set(create_regular_dates())):\n",
    "    if not is_third_friday(date):\n",
    "        print(date)\n",
    "\n",
    "# 2022-04-14 is OK since Friday is good Friday\n",
    "# the dates in regular settlement values are all close 3rd Friday\n",
    "# partially prove that regular only for the 3rd Friday or close expiration"
   ]
  },
  {
   "cell_type": "markdown",
   "id": "51241a60",
   "metadata": {},
   "source": [
    "SPXQ"
   ]
  },
  {
   "cell_type": "code",
   "execution_count": 13,
   "id": "43fe2b32",
   "metadata": {},
   "outputs": [
    {
     "name": "stdout",
     "output_type": "stream",
     "text": [
      "The starting and ending time of SPXQ are ('2011-06-30', '2013-12-31')\n",
      "\n",
      "\n",
      "['2011-06-30', '2011-09-30', '2011-12-30', '2012-03-30', '2012-06-29', '2012-09-28', '2013-03-28', '2013-06-28', '2013-12-31']\n",
      "\n",
      "\n",
      "{'m'}\n"
     ]
    }
   ],
   "source": [
    "# check the starting and ending dates for SPXQ\n",
    "SPXQ_df = oneDTE_df[oneDTE_df['symbol'].str.split(\" \").str[0] == \"SPXQ\"]\n",
    "dates = list(set(SPXQ_df['exdate']))\n",
    "dates.sort()\n",
    "print(f'The starting and ending time of SPXQ are {dates[0], dates[-1]}')\n",
    "print('\\n')\n",
    "print(dates)\n",
    "print('\\n')\n",
    "\n",
    "# check if SPXQ is all represented by m for expiry indicator\n",
    "print(set(SPXQ_df['expiry_indicator']))\n",
    "\n",
    "# all represented by m\n",
    "\n",
    "# {'2013-06-28', \n",
    "#  '2011-12-30', \n",
    "#  '2012-09-28', \n",
    "#  '2011-06-30', \n",
    "#  '2013-03-28', \n",
    "#  '2011-09-30', \n",
    "#  '2013-12-31', \n",
    "#  '2012-03-30', \n",
    "#  '2012-06-29'}\n",
    "\n",
    "# all after 2010-12-10, close to end of month, cannot be SET, cannot be SPXPM (cannot find in regular), can only be SPX\n",
    "# search in weekly, EOM and quarterly, all with SPX\n",
    "# need to assume that regular does not provide any dates that cover close to end of month (partially prove)\n",
    "# need to assume the PM settlement of SPXQ, so we can extract not found price in security close price"
   ]
  },
  {
   "cell_type": "markdown",
   "id": "f1048258",
   "metadata": {},
   "source": [
    "SPXPM"
   ]
  },
  {
   "cell_type": "code",
   "execution_count": 14,
   "id": "05af8ac6",
   "metadata": {},
   "outputs": [
    {
     "name": "stdout",
     "output_type": "stream",
     "text": [
      "The starting and ending time of SPXPM are ('2010-06-30', '2011-03-31')\n",
      "\n",
      "\n",
      "['2010-06-30', '2010-09-30', '2010-12-31', '2011-03-31']\n",
      "\n",
      "\n",
      "{'m'}\n"
     ]
    }
   ],
   "source": [
    "# check the starting and ending dates for SPXPM\n",
    "SPXPM_df = oneDTE_df[oneDTE_df['symbol'].str.split(\" \").str[0] == \"SPXPM\"]\n",
    "dates = list(set(SPXPM_df['exdate']))\n",
    "dates.sort()\n",
    "print(f'The starting and ending time of SPXPM are {dates[0], dates[-1]}')\n",
    "print('\\n')\n",
    "print(dates)\n",
    "print('\\n')\n",
    "# check if SPXPM is all represented by m for expiry indicator\n",
    "print(set(SPXPM_df['expiry_indicator']))\n",
    "\n",
    "# all represented by m\n",
    "\n",
    "# {'2010-12-31', \n",
    "#  '2010-09-30', even maybe not SPX but SET\n",
    "#  '2011-03-31', \n",
    "#  '2010-06-30'} even maybe not SPX but SET\n",
    "\n",
    "# tricky, need to consider if all are weeklies, so skip at this moment"
   ]
  },
  {
   "cell_type": "markdown",
   "id": "7f49840e",
   "metadata": {},
   "source": [
    "SPXW"
   ]
  },
  {
   "cell_type": "code",
   "execution_count": 15,
   "id": "b1775f52",
   "metadata": {},
   "outputs": [
    {
     "name": "stdout",
     "output_type": "stream",
     "text": [
      "2010-12-10 2023-09-01\n",
      "\n",
      "\n",
      "{'m', nan, 'w'}\n",
      "\n",
      "\n",
      "2021-05-28\n",
      "2021-05-28 is completely right since it is recorded in end of month, so it can be a weekly as well as an end of month option\n",
      "SPXW_m can all be found in weekly, EOM and quarterly\n",
      "The starting and ending time of SPXW_w are ('2011-04-29', '2023-08-31')\n",
      "for this starting time there is not SET for SPXW_m\n",
      "\n",
      "\n",
      "The starting time and ending time of SPXW_w are ('2010-12-10', '2023-09-01')\n",
      "2022-10-21\n",
      "2018-12-05\n",
      "2017-10-25\n",
      "\n",
      "\n",
      "The starting time and ending time of SPXW_r are ('2017-05-19', '2023-08-29')\n",
      "2019-04-18\n",
      "2022-04-14\n"
     ]
    }
   ],
   "source": [
    "weekly_dates = create_weekly_dates()\n",
    "EOM_dates = create_EOM_dates()\n",
    "quarterly_dates = create_quarterly_dates()\n",
    "\n",
    "# check some info on the SPXW\n",
    "SPXW_df = oneDTE_df[oneDTE_df['symbol'].str.split(\" \").str[0] == \"SPXW\"]\n",
    "dates = list(set(SPXW_df['exdate']))\n",
    "dates.sort()\n",
    "print(dates[0], dates[-1])\n",
    "print('\\n')\n",
    "\n",
    "# check if SPXW is all represented by w for expiry indicator\n",
    "# for SPXW, all 3 types \n",
    "print(set(SPXW_df['expiry_indicator']))\n",
    "print('\\n')\n",
    "\n",
    "# check if for all SPXW symbol from 2010-12-10, the settlement symbol is SPX for weekly json\n",
    "# yes they are, all the settlement symbols are SPX after 2010-12-10\n",
    "input_file= os.getcwd() + r\"\\all_settlement_values.json\"\n",
    "with open(input_file, 'r') as f:\n",
    "    settlement_values = json.load(f)\n",
    "for year, data in settlement_values['weekly'].items():\n",
    "    for i in data:\n",
    "        if (\n",
    "            i['expiration_date'] != 'ONE' and\n",
    "            i['expiration_date'] != 'TWO' and\n",
    "            i['expiration_date'] != 'FOUR' and\n",
    "            i['expiration_date'] != 'FIVE'\n",
    "        ):\n",
    "            assert not (\n",
    "                i['expiration_date'] >= '2010-12-10' and\n",
    "                i['settlement_symbol'] != 'SPX'\n",
    "            )\n",
    "\n",
    "SPXW_m_df = SPXW_df[SPXW_df['expiry_indicator'] == 'm']\n",
    "SPXW_w_df = SPXW_df[SPXW_df['expiry_indicator'] == 'w']\n",
    "SPXW_r_df = SPXW_df[pd.isna(SPXW_df['expiry_indicator'])]\n",
    "\n",
    "# ---------------------------------------------------------------------------------------------\n",
    "\n",
    "# check the m for SPXW\n",
    "for i in list(set(SPXW_m_df['exdate'])):\n",
    "    date = pd.to_datetime(i)\n",
    "    if not (date.is_month_end or (date + pd.Timedelta(days=1)).is_month_end or (date + pd.Timedelta(days=2)).is_month_end):\n",
    "        print(i)\n",
    "print('2021-05-28 is completely right since it is recorded in end of month, so it can be a weekly as well as an end of month option')\n",
    "\n",
    "# check if SPXW_m can be all found in weekly\n",
    "for date in list(set(SPXW_m_df['exdate'])):\n",
    "    assert date in weekly_dates + EOM_dates + quarterly_dates\n",
    "print('SPXW_m can all be found in weekly, EOM and quarterly')\n",
    "\n",
    "# check the starting and ending time of SPXW_m\n",
    "# for the time there is not SET\n",
    "SPXW_m_dates = list(set(SPXW_m_df['exdate']))\n",
    "SPXW_m_dates.sort()\n",
    "print(f'The starting and ending time of SPXW_w are {SPXW_m_dates[0], SPXW_m_dates[-1]}')\n",
    "print('for this starting time there is not SET for SPXW_m')\n",
    "print('\\n')\n",
    "\n",
    "#-----------------------------------------------------------------------------------------------\n",
    "\n",
    "# check the w for SPXW, if all SPXW_w dates can be found in weekly\n",
    "# check if the dates not in weekly are 3rd Friday\n",
    "dates = list(set(SPXW_w_df['exdate']))\n",
    "dates.sort()\n",
    "print(f'The starting time and ending time of SPXW_w are {dates[0], dates[-1]}')\n",
    "for date in list(set(SPXW_w_df['exdate'])):\n",
    "    if (date not in weekly_dates):\n",
    "        print(date)\n",
    "print('\\n')\n",
    "\n",
    "#------------------------------------------------------------------------------------------------\n",
    "\n",
    "# check SPXW_r\n",
    "# not all are regular close 3rd Friday to expire, but most of them are covered by weekly\n",
    "dates = list(set(SPXW_r_df['exdate']))\n",
    "dates.sort()\n",
    "print(f'The starting time and ending time of SPXW_r are {dates[0], dates[-1]}')\n",
    "for date in dates:\n",
    "    if date not in weekly_dates and not is_third_friday(date):\n",
    "        print(date)\n",
    "\n",
    "# SPXW_m, search in weekly, EOM and quarterly\n",
    "# SPXW_r, search in regular and weekly, assume to be PM\n",
    "# SPWX_W, \n"
   ]
  },
  {
   "cell_type": "markdown",
   "id": "4a557a67",
   "metadata": {},
   "source": [
    "SPX"
   ]
  },
  {
   "cell_type": "code",
   "execution_count": 16,
   "id": "c1ae3225",
   "metadata": {},
   "outputs": [
    {
     "name": "stdout",
     "output_type": "stream",
     "text": [
      "The starting and ending time of SPX are ('2010-05-28', '2023-08-18')\n",
      "\n",
      "\n",
      "{'m', nan, 'w'}\n",
      "\n",
      "\n",
      "SPX_w are all weeklies, since all Friday but not the 3rd Friday\n",
      "SPX_w dates can all be found in weekly\n",
      "\n",
      "\n",
      "{'2010-10-29', '2010-07-30', '2010-05-28'}\n",
      "SPX_m are all weeklies and can be found in weekly\n",
      "\n",
      "\n",
      "2019-04-18\n",
      "2022-04-14\n"
     ]
    }
   ],
   "source": [
    "weekly_dates = create_weekly_dates()\n",
    "\n",
    "# check some info on the SPX\n",
    "SPX_df = oneDTE_df[oneDTE_df['symbol'].str.split(\" \").str[0] == \"SPX\"]\n",
    "dates = list(set(SPX_df['exdate']))\n",
    "dates.sort()\n",
    "print(f'The starting and ending time of SPX are {dates[0], dates[-1]}')\n",
    "print('\\n')\n",
    "\n",
    "# for SPX, it has 3 types of expiry indicators\n",
    "print(set(SPX_df['expiry_indicator']))\n",
    "print('\\n')\n",
    "\n",
    "# create 3 sub datasets for w, m and r\n",
    "SPX_w_df = SPX_df[SPX_df['expiry_indicator'] == 'w']\n",
    "SPX_m_df = SPX_df[SPX_df['expiry_indicator'] == 'm']\n",
    "SPX_r_df = SPX_df[pd.isna(SPX_df['expiry_indicator'])]\n",
    "\n",
    "#--------------------------------------------------------------------------------\n",
    "\n",
    "# check if SPX_w_df are all Friday but not 3rd Friday\n",
    "# check if SPX_w_df dates can be found in weekly settelment values\n",
    "for date in list(set(SPX_w_df['exdate'])):\n",
    "    assert (not is_third_friday(date)) and is_friday(date) and date in weekly_dates\n",
    "print(\"SPX_w are all weeklies, since all Friday but not the 3rd Friday\")\n",
    "print(\"SPX_w dates can all be found in weekly\")\n",
    "print('\\n')\n",
    "\n",
    "#---------------------------------------------------------------------------------\n",
    "\n",
    "# check SPX with m, all options should be weekly options in weekly settlement values\n",
    "for date in list(set(SPX_m_df['exdate'])):\n",
    "    assert date in weekly_dates\n",
    "print(set(SPX_m_df['exdate']))\n",
    "print('SPX_m are all weeklies and can be found in weekly')\n",
    "print('\\n')\n",
    "\n",
    "#---------------------------------------------------------------------------------\n",
    "\n",
    "# check SPX_r_df dates are all 3rd Friday or 1 or 2 days around\n",
    "# meaning that for SPX with r, directly use regular settlement values and AM settlement SET\n",
    "for date in list(set(SPX_r_df['exdate'])):\n",
    "    if not is_third_friday(date):\n",
    "        print(date)\n",
    "\n",
    "# SPX_w, weekly (all weekly features and covered in weekly)\n",
    "# SPX_m, weekly (1. close to end of month, cannot found in regular 2. dates not in EOM or quarterly 3. dates covered in weekly)\n",
    "# SPX_r, regular (use year month) (assume SPX_r give the right type, so AM SET) (if PM, then should be represented by SPXW, can be checked)"
   ]
  },
  {
   "cell_type": "code",
   "execution_count": 17,
   "id": "a3c0322d",
   "metadata": {},
   "outputs": [],
   "source": [
    "# for weekly, the complete date starts since 2010 - Oct - 01\n",
    "# for weekly, EOM and quarterly have the same settlement symbol since 2010 - Dec - 10, which is SPX (proved in SPXW)\n",
    "# for weekly, the index change from JXD to SPX since 2010 forth week of May (2010-05-28)"
   ]
  },
  {
   "cell_type": "markdown",
   "id": "c3334a02",
   "metadata": {},
   "source": [
    "Compare SPX settlement value with security prices"
   ]
  },
  {
   "cell_type": "code",
   "execution_count": 18,
   "id": "b4a070f6",
   "metadata": {},
   "outputs": [
    {
     "name": "stdout",
     "output_type": "stream",
     "text": [
      "All SPX or SPXPM settlement values are exactly the same as security close prices\n"
     ]
    }
   ],
   "source": [
    "# compare the settlement values for SPX with security price\n",
    "# they are all the same, meaning that for all SPX and SPXPM settlement values, we can extract from the security close prices\n",
    "input_file= os.getcwd()+ r\"\\all_settlement_values.json\"\n",
    "with open(input_file, 'r') as f:\n",
    "    settlement_values = json.load(f)\n",
    "for type in settlement_values.keys():\n",
    "    for year, series in settlement_values[type].items():\n",
    "        for i in series:\n",
    "            if i['settlement_symbol'] == 'SPX' or i['settlement_symbol'] == 'SPXPM':\n",
    "                try:\n",
    "                    settlement_value = float(i['settlement_value'])\n",
    "                    close_price = float(security_prices_df[security_prices_df['date'] == i['expiration_date']]['close'].values[0])\n",
    "                except:\n",
    "                    continue\n",
    "                assert np.isclose(settlement_value, close_price, rtol=1e-5, atol=1e-5)\n",
    "\n",
    "print(f'All SPX or SPXPM settlement values are exactly the same as security close prices')"
   ]
  },
  {
   "cell_type": "markdown",
   "id": "1307e8a5",
   "metadata": {},
   "source": [
    "Not all EOM and quarterly can be found in weekly"
   ]
  },
  {
   "cell_type": "code",
   "execution_count": 19,
   "id": "4069f071",
   "metadata": {},
   "outputs": [
    {
     "name": "stdout",
     "output_type": "stream",
     "text": [
      "False False\n",
      "Not all EOM or quarterly settlement values can be also found in weekly settlement values\n"
     ]
    }
   ],
   "source": [
    "weekly_dates = create_weekly_dates()\n",
    "EOM_dates = create_EOM_dates()\n",
    "quarterly_dates = create_quarterly_dates()\n",
    "\n",
    "print(set(EOM_dates).issubset(weekly_dates), set(quarterly_dates).issubset(weekly_dates))\n",
    "print(f'Not all EOM or quarterly settlement values can be also found in weekly settlement values')"
   ]
  },
  {
   "cell_type": "markdown",
   "id": "465d2451",
   "metadata": {},
   "source": [
    "Define OSI unfilled and see the percentage"
   ]
  },
  {
   "cell_type": "code",
   "execution_count": 20,
   "id": "9eb92c70",
   "metadata": {},
   "outputs": [
    {
     "name": "stdout",
     "output_type": "stream",
     "text": [
      "The new OSI accounts for 0.99027 in the 1DTE data\n",
      "The new OSI accounts for 0.47925 in the calendar\n",
      "There is no root for OSI: True\n"
     ]
    }
   ],
   "source": [
    "# create the dataset with new OSI\n",
    "OSI_df = oneDTE_df[oneDTE_df['exdate'] >= '2010-05-28']\n",
    "OSI_security_price_df = security_prices_df[security_prices_df['date'] >= '2010-05-28']\n",
    "\n",
    "# get the proportion of OSI new data set\n",
    "print(f'The new OSI accounts for {len(OSI_df)/len(oneDTE_df):.5f} in the 1DTE data')\n",
    "print(f'The new OSI accounts for {len(OSI_security_price_df)/len(security_prices_df):.5f} in the calendar')\n",
    "\n",
    "# no root of new data set for contract symbol\n",
    "print(f\"There is no root for OSI: {all(pd.isna(i) for i in OSI_df['root'])}\")"
   ]
  },
  {
   "cell_type": "markdown",
   "id": "5537733f",
   "metadata": {},
   "source": [
    "Fill in OSI"
   ]
  },
  {
   "cell_type": "code",
   "execution_count": 21,
   "id": "b047e127",
   "metadata": {},
   "outputs": [
    {
     "name": "stderr",
     "output_type": "stream",
     "text": [
      "100%|██████████| 478104/478104 [01:02<00:00, 7663.35it/s]\n"
     ]
    },
    {
     "name": "stdout",
     "output_type": "stream",
     "text": [
      "OSI dataset has been filled in with settlement values\n"
     ]
    }
   ],
   "source": [
    "OSI_df = generate_filled_OSI_df(OSI_df, security_close_prices)\n",
    "print(f'OSI dataset has been filled in with settlement values')"
   ]
  },
  {
   "cell_type": "markdown",
   "id": "ab518d2f",
   "metadata": {},
   "source": [
    "Dates cannot be filled for OSI"
   ]
  },
  {
   "cell_type": "code",
   "execution_count": 22,
   "id": "f0bb1a92",
   "metadata": {},
   "outputs": [
    {
     "name": "stdout",
     "output_type": "stream",
     "text": [
      "{('2010-06-30', 'm', 'SPXPM'), ('2018-12-05', 'w', 'SPXW'), ('2010-09-30', 'm', 'SPXPM')}\n",
      "Those exdates cannot be filled in with settlement values: settlement values not found\n"
     ]
    }
   ],
   "source": [
    "filled_df = OSI_df\n",
    "missing_filled_df = filled_df[filled_df['settlement_value'] == 0]\n",
    "\n",
    "missing_tuple = []\n",
    "for index, row in missing_filled_df.iterrows():\n",
    "    missing_tuple.append((row['exdate'], row['expiry_indicator'], row['starting_code']))\n",
    "missing_tuple.sort()\n",
    "print(set(missing_tuple))\n",
    "print(f'Those exdates cannot be filled in with settlement values: settlement values not found')\n",
    "\n",
    "# three dates are not filled in for OSI datasets\n",
    "\n",
    "# {('2010-06-30', 'm', 'SPXPM'), SET, cannot find\n",
    "#  ('2010-09-30', 'm', 'SPXPM'), SET, cannot find\n",
    "#  ('2018-12-05', 'w', 'SPXW')}, SPX, error from CBOE, shall be removed since the option price is truly of 12-04 but 12-05 is not expiration day"
   ]
  },
  {
   "cell_type": "markdown",
   "id": "ebf922c4",
   "metadata": {},
   "source": [
    "## 3. Old options analysis and processing"
   ]
  },
  {
   "cell_type": "code",
   "execution_count": 23,
   "id": "031a2475",
   "metadata": {},
   "outputs": [],
   "source": [
    "old_df = oneDTE_df[oneDTE_df['exdate'] < '2010-05-28']"
   ]
  },
  {
   "cell_type": "markdown",
   "id": "b5758503",
   "metadata": {},
   "source": [
    "Old options properties: all Friday, Saturday and quarterly"
   ]
  },
  {
   "cell_type": "code",
   "execution_count": 24,
   "id": "8a21d08f",
   "metadata": {},
   "outputs": [
    {
     "data": {
      "text/plain": [
       "True"
      ]
     },
     "execution_count": 24,
     "metadata": {},
     "output_type": "execute_result"
    }
   ],
   "source": [
    "# check Friday and end of month or end of quarter of all the options\n",
    "thursday_dates = []\n",
    "old_dates = old_df['exdate']\n",
    "for date in old_dates:\n",
    "    assert (is_friday(date) or is_friday(date, -1) or is_friday(date, 1) or is_quarter_end(date))\n",
    "\n",
    "    if not (is_friday(date) or is_friday(date, -1) or is_quarter_end(date)):\n",
    "        thursday_dates.append(date)\n",
    "\n",
    "all((date + pd.Timedelta(days=1)).strftime('%Y-%m-%d') in holidays for date in pd.to_datetime(thursday_dates))\n",
    "\n",
    "# all old options are Thursday, Friday, Saturday and quarterly settlement\n",
    "# for all Thursday, the next day is holiday"
   ]
  },
  {
   "cell_type": "markdown",
   "id": "308f34d7",
   "metadata": {},
   "source": [
    "Fill in the old options"
   ]
  },
  {
   "cell_type": "code",
   "execution_count": 25,
   "id": "5855f4a3",
   "metadata": {},
   "outputs": [
    {
     "name": "stderr",
     "output_type": "stream",
     "text": [
      "100%|██████████| 4700/4700 [00:09<00:00, 477.76it/s]\n"
     ]
    }
   ],
   "source": [
    "old_df = generate_filled_old_df(old_df)"
   ]
  },
  {
   "cell_type": "markdown",
   "id": "a75f3034",
   "metadata": {},
   "source": [
    "Dates cannot be filled for old"
   ]
  },
  {
   "cell_type": "code",
   "execution_count": 26,
   "id": "a1dd77b9",
   "metadata": {},
   "outputs": [
    {
     "name": "stdout",
     "output_type": "stream",
     "text": [
      "{'2008-09-30', '2007-06-29', '2009-03-31', '2008-12-31', '2007-09-28', '2010-03-31', '2009-06-30', '2009-12-31', '2009-09-30'}\n",
      "2007-06-29\n",
      "2007-09-28\n"
     ]
    }
   ],
   "source": [
    "filled_df = old_df\n",
    "missing_filled_df = filled_df[filled_df['settlement_value'] == 0]\n",
    "\n",
    "missing_tuple = []\n",
    "for index, row in missing_filled_df.iterrows():\n",
    "    missing_tuple.append(row['exdate'])\n",
    "missing_tuple.sort()\n",
    "print(set(missing_tuple))\n",
    "\n",
    "for date in list(set(missing_tuple)):\n",
    "    if not is_quarter_end(date):\n",
    "        print(date)\n",
    "\n",
    "# in old, all missing dates that cannot be filled in, in which 2006-06-29 and 2007-09-28 are weekly missing, the others are end of quarter missing\n",
    "# because they are all SET, cannot find"
   ]
  },
  {
   "cell_type": "markdown",
   "id": "66feb9d1",
   "metadata": {},
   "source": [
    "## 4. Checks before concatenation"
   ]
  },
  {
   "cell_type": "markdown",
   "id": "452f866b",
   "metadata": {},
   "source": [
    "Check the trading dates in security price of all"
   ]
  },
  {
   "cell_type": "code",
   "execution_count": 27,
   "id": "049d0cf2",
   "metadata": {},
   "outputs": [
    {
     "name": "stdout",
     "output_type": "stream",
     "text": [
      "2018-12-05\n",
      "2023-09-01\n",
      "The dates are not trading days or not in the dataset range\n"
     ]
    }
   ],
   "source": [
    "# check if all the expiration dates are in the security dates to test the validity of the trading dates\n",
    "# double bi-direction check\n",
    "option_dates = list(set(oneDTE_df['exdate']))\n",
    "not_trading_date = []\n",
    "for date in option_dates:\n",
    "    if date not in security_close_prices.keys():\n",
    "        if not is_friday(date, -1):\n",
    "            print(date)\n",
    "\n",
    "print(f'The dates are not trading days or not in the dataset range')\n",
    "\n",
    "# 2018-12-05 should be 12-04 or 12-03, 12-05 is the mourning day\n",
    "# 2023-09-01 is not included, very normal, since the bound is 2023-08-31\n",
    "# 2017-10-25 is a normal trading day, so in security price, but not an expiration day -> CBOE missing, has been added 2017-10-25 as exdate"
   ]
  },
  {
   "cell_type": "markdown",
   "id": "5f36f83e",
   "metadata": {},
   "source": [
    "Check the close price with filled in PM settlement"
   ]
  },
  {
   "cell_type": "code",
   "execution_count": 28,
   "id": "2fe41c6e",
   "metadata": {},
   "outputs": [
    {
     "name": "stderr",
     "output_type": "stream",
     "text": [
      "100%|██████████| 478104/478104 [00:36<00:00, 13118.26it/s]"
     ]
    },
    {
     "name": "stdout",
     "output_type": "stream",
     "text": [
      "done\n",
      "All PM settlement values are security close prices\n"
     ]
    },
    {
     "name": "stderr",
     "output_type": "stream",
     "text": [
      "\n"
     ]
    }
   ],
   "source": [
    "for index, row in tqdm(OSI_df.iterrows(), total=len(OSI_df)):\n",
    "    if row['settlement_symbol'] == 'SPX' or row['settlement_symbol'] == 'SPXPM':\n",
    "        if row['exdate'] == '2017-10-25':\n",
    "            assert np.isclose(row['settlement_value'], security_close_prices['2017-10-25'], rtol=1e-5, atol=1e-5)\n",
    "        elif row['exdate'] == '2018-12-05':\n",
    "            assert row['settlement_value'] == float(0)\n",
    "        elif row['exdate'] == '2023-09-01':\n",
    "            continue\n",
    "        else:\n",
    "            assert np.isclose(row['settlement_value'], security_close_prices[row['exdate']], rtol=1e-5, atol=1e-5)\n",
    "print(\"done\")\n",
    "print(f'All PM settlement values are security close prices')\n",
    "\n",
    "# the alignment of PM settlement value filled in the data with security close price is perfect"
   ]
  },
  {
   "cell_type": "markdown",
   "id": "a560e6a2",
   "metadata": {},
   "source": [
    "## 5. Final concatenation of OSI and old"
   ]
  },
  {
   "cell_type": "markdown",
   "id": "ebe8fa1a",
   "metadata": {},
   "source": [
    "Concatenate"
   ]
  },
  {
   "cell_type": "code",
   "execution_count": 29,
   "id": "e106e6ea",
   "metadata": {},
   "outputs": [
    {
     "name": "stdout",
     "output_type": "stream",
     "text": [
      "2018-12-05 has been removed: True\n",
      "After data cleaning, we still got 0.99749 of the original data\n"
     ]
    }
   ],
   "source": [
    "# remove dates that are impossible to fill\n",
    "# the split date is 2010-5-28\n",
    "old_df = old_df[old_df['settlement_value'] != float(0)]\n",
    "OSI_df = OSI_df[OSI_df['settlement_value'] != float(0)]\n",
    "\n",
    "print(f\"2018-12-05 has been removed: {'2018-12-05' not in OSI_df['exdate']}\")\n",
    "\n",
    "# combine the two together and store as a csv file\n",
    "whole_df = pd.concat([old_df, OSI_df], axis=0, ignore_index=True)\n",
    "file_path = os.getcwd() + '\\\\' + 'intermediate_files' + '\\\\' + 'cleaned_oneDTE_with_settlements.csv'\n",
    "whole_df.to_csv(file_path, index=False)\n",
    "\n",
    "# calculate the rest data percentage relative to oneDTE\n",
    "print(f'After data cleaning, we still got {len(whole_df)/len(oneDTE_df):.5f} of the original data')"
   ]
  },
  {
   "cell_type": "markdown",
   "id": "eea0e5b1",
   "metadata": {},
   "source": [
    "## 6. Checks after concatenation"
   ]
  },
  {
   "cell_type": "markdown",
   "id": "5fdcffb7",
   "metadata": {},
   "source": [
    "Check how many dates are not filled in"
   ]
  },
  {
   "cell_type": "code",
   "execution_count": 30,
   "id": "7b730a2f",
   "metadata": {},
   "outputs": [
    {
     "name": "stdout",
     "output_type": "stream",
     "text": [
      "{'2008-09-30', '2007-06-29', '2009-03-31', '2010-06-30', '2007-09-28', '2008-12-31', '2010-03-31', '2010-09-30', '2009-06-30', '2009-12-31', '2009-09-30', '2018-12-05'}\n",
      "These are the dates in which settlement values not found\n"
     ]
    }
   ],
   "source": [
    "all_dates = set(oneDTE_df['exdate'])\n",
    "filled_dates = set(whole_df['exdate'])\n",
    "\n",
    "print(all_dates - filled_dates)\n",
    "print(f'These are the dates in which settlement values not found')"
   ]
  },
  {
   "cell_type": "markdown",
   "id": "2c741d8a",
   "metadata": {},
   "source": [
    "Check the one calendar day instead of one trading day"
   ]
  },
  {
   "cell_type": "code",
   "execution_count": 31,
   "id": "be20c5df",
   "metadata": {},
   "outputs": [
    {
     "name": "stdout",
     "output_type": "stream",
     "text": [
      "oneDTE is one calendar day ahead: True\n"
     ]
    }
   ],
   "source": [
    "print(f\"oneDTE is one calendar day ahead: {all(pd.to_datetime(oneDTE_df['date']) + pd.Timedelta(days=1) == pd.to_datetime(oneDTE_df['exdate']))}\")\n",
    "\n",
    "# so oneDTE options are all one calendar day ahead of expiration, not trading days\n",
    "# there is no Friday to Monday or a holiday gap case"
   ]
  },
  {
   "cell_type": "markdown",
   "id": "ebf769a7",
   "metadata": {},
   "source": [
    "Check if cleaned df dates are in trading dates (security price)"
   ]
  },
  {
   "cell_type": "code",
   "execution_count": 32,
   "id": "fe426e23",
   "metadata": {},
   "outputs": [
    {
     "name": "stdout",
     "output_type": "stream",
     "text": [
      "Dates of buying the option (one day before exdate) are all trading days: True\n"
     ]
    }
   ],
   "source": [
    "print(f\"Dates of buying the option (one day before exdate) are all trading days: {all(i in list(set(security_prices_df['date'])) for i in list(set(whole_df['date'])))}\")\n",
    "\n",
    "# this is for current date, not for exdate"
   ]
  },
  {
   "cell_type": "markdown",
   "id": "7f6f2a25",
   "metadata": {},
   "source": [
    "Check the market trading dates"
   ]
  },
  {
   "cell_type": "code",
   "execution_count": 33,
   "id": "317dec50",
   "metadata": {},
   "outputs": [
    {
     "name": "stdout",
     "output_type": "stream",
     "text": [
      "{'1996-01-03', '1996-01-02'}\n",
      "Trading dates in both security prices and vol are exactly the same\n"
     ]
    }
   ],
   "source": [
    "historical_vol_df = pd.read_csv(r\"raw_data\\OpitonMetrics\\options_data\\historical_vol.csv\")\n",
    "print(set(security_prices_df['date']) - set(historical_vol_df['date']))\n",
    "print(f'Trading dates in both security prices and vol are exactly the same')\n",
    "# market trading dates in the two files match perfectly\n",
    "# so we can set the market days from either of the two files"
   ]
  },
  {
   "cell_type": "markdown",
   "id": "b99040ed",
   "metadata": {},
   "source": [
    "OneDTE distribution"
   ]
  },
  {
   "cell_type": "code",
   "execution_count": 34,
   "id": "fe5ec022",
   "metadata": {},
   "outputs": [
    {
     "data": {
      "image/png": "[encoded data removed]",
      "text/plain": [
       "<Figure size 1400x600 with 1 Axes>"
      ]
     },
     "metadata": {},
     "output_type": "display_data"
    }
   ],
   "source": [
    "# Prepare the data\n",
    "years = pd.to_datetime(oneDTE_df['exdate']).dt.year.tolist()\n",
    "counter_dict = dict(Counter(years))\n",
    "\n",
    "# Sort years and counts\n",
    "sorted_years = sorted(counter_dict.keys())\n",
    "counts = [counter_dict[year] for year in sorted_years]\n",
    "\n",
    "# Create a full range of years from min to max (to avoid missing bars)\n",
    "full_year_range = list(range(sorted_years[0], sorted_years[-1] + 1))\n",
    "\n",
    "# Fill missing years with 0 counts\n",
    "counts_full = [counter_dict.get(year, 0) for year in full_year_range]\n",
    "\n",
    "plt.figure(figsize=(14,6))\n",
    "\n",
    "# Bar plot with full range\n",
    "plt.bar(full_year_range, counts_full, color='skyblue')\n",
    "\n",
    "plt.title('Expiration Counts per Year')\n",
    "plt.xlabel('Year')\n",
    "plt.ylabel('Count')\n",
    "\n",
    "# Show **every year** on x-axis, rotate labels for clarity\n",
    "plt.xticks(full_year_range, rotation=45)\n",
    "\n",
    "plt.tight_layout()\n",
    "plt.show()"
   ]
  },
  {
   "cell_type": "code",
   "execution_count": null,
   "id": "6e4846d3",
   "metadata": {},
   "outputs": [],
   "source": [
    "# for weekly, the complete date starts since 2010 - Oct - 01\n",
    "# for weekly, EOM and quarterly have the same settlement symbol since 2010 - Dec - 10, which is SPX (proved in SPXW)\n",
    "# for weekly, the index change from JXD to SPX since 2010 forth week of May (2010-05-28)"
   ]
  }
 ],
 "metadata": {
  "kernelspec": {
   "display_name": ".venv",
   "language": "python",
   "name": "python3"
  },
  "language_info": {
   "codemirror_mode": {
    "name": "ipython",
    "version": 3
   },
   "file_extension": ".py",
   "mimetype": "text/x-python",
   "name": "python",
   "nbconvert_exporter": "python",
   "pygments_lexer": "ipython3",
   "version": "3.10.10"
  }
 },
 "nbformat": 4,
 "nbformat_minor": 5
}
