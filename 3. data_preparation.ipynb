{
 "cells": [
  {
   "cell_type": "code",
   "execution_count": 1,
   "id": "86944a6c",
   "metadata": {},
   "outputs": [],
   "source": [
    "import pandas as pd\n",
    "import os\n",
    "from utils import *\n",
    "from feature_settings import *"
   ]
  },
  {
   "cell_type": "code",
   "execution_count": 2,
   "id": "517adaaf",
   "metadata": {},
   "outputs": [
    {
     "name": "stderr",
     "output_type": "stream",
     "text": [
      "C:\\Users\\55479\\AppData\\Local\\Temp\\ipykernel_12832\\3675190527.py:2: DtypeWarning: Columns (24,25) have mixed types. Specify dtype option on import or set low_memory=False.\n",
      "  whole_df = pd.read_csv(os.getcwd() + '\\\\' + 'intermediate_files' + '\\\\' + 'whole_df.csv')\n"
     ]
    }
   ],
   "source": [
    "# whole_df \n",
    "whole_df = pd.read_csv(os.getcwd() + '\\\\' + 'intermediate_files' + '\\\\' + 'whole_df.csv')\n",
    "assert whole_df['date'].is_monotonic_increasing\n",
    "\n",
    "# straddle_df\n",
    "straddle_df = pd.read_csv(os.getcwd() + '\\\\' + 'intermediate_files' + '\\\\' + 'straddle_df.csv')\n",
    "assert straddle_df['date'].is_monotonic_increasing"
   ]
  },
  {
   "cell_type": "markdown",
   "id": "06880e47",
   "metadata": {},
   "source": [
    "whole_df, all features, simple option return"
   ]
  },
  {
   "cell_type": "code",
   "execution_count": 3,
   "id": "80227120",
   "metadata": {},
   "outputs": [],
   "source": [
    "whole_df_all_features_simple_option_return = whole_df[\n",
    "    FEATURES_YEAR_MONTH_DAY +\n",
    "    FEATRUES_BASIC_OPTION + \n",
    "    FEATURES_VOLUME_OPEN_INTEREST + \n",
    "    FEATURES_INTEREST_RATE + \n",
    "    FEATURES_FORWARD_PRICE + \n",
    "    FEATURES_STOCK + \n",
    "    FEATURES_VIX +\n",
    "    FEATURES_HISTORICAL_VOL +\n",
    "    FEATURES_FAMA +\n",
    "    ['option_return']\n",
    "]\n",
    "\n",
    "whole_df_all_features_simple_option_return.to_csv(os.getcwd() + '\\\\' + 'datasets' + '\\\\' + 'whole_df_all_features_simple_option_return.csv', index=False)"
   ]
  },
  {
   "cell_type": "markdown",
   "id": "0fda4c68",
   "metadata": {},
   "source": [
    "whole_df, all features, settlement value"
   ]
  },
  {
   "cell_type": "code",
   "execution_count": 4,
   "id": "e1947b93",
   "metadata": {},
   "outputs": [],
   "source": [
    "whole_df_all_features_settlement_value = whole_df[\n",
    "    FEATURES_YEAR_MONTH_DAY +\n",
    "    FEATRUES_BASIC_OPTION + \n",
    "    FEATURES_VOLUME_OPEN_INTEREST + \n",
    "    FEATURES_INTEREST_RATE + \n",
    "    FEATURES_FORWARD_PRICE + \n",
    "    FEATURES_STOCK + \n",
    "    FEATURES_VIX +\n",
    "    FEATURES_HISTORICAL_VOL +\n",
    "    FEATURES_FAMA +\n",
    "    ['settlement_value']\n",
    "]\n",
    "\n",
    "whole_df_all_features_settlement_value.to_csv(os.getcwd() + '\\\\' + 'datasets' + '\\\\' + 'whole_df_all_features_settlement_value.csv', index=False)"
   ]
  },
  {
   "cell_type": "markdown",
   "id": "e17811fa",
   "metadata": {},
   "source": [
    "straddle_df, all features, straddle return"
   ]
  },
  {
   "cell_type": "code",
   "execution_count": 5,
   "id": "4893353d",
   "metadata": {},
   "outputs": [],
   "source": [
    "straddle_df_all_features_straddle_return = straddle_df[\n",
    "    FEATURES_YEAR_MONTH_DAY +\n",
    "    FEATURES_GREEKS + \n",
    "    FEATURES_IMPLIED_VOL + \n",
    "    FEATRUES_BASIC_OPTION_NO_INDICATORS + \n",
    "    FEATURES_CALL_ATM + \n",
    "    FEATURES_STRADDLE_PUT + \n",
    "    FEATURES_STRADDLE_EXTRA + \n",
    "    FEATURES_VOLUME_OPEN_INTEREST + \n",
    "    FEATURES_INTEREST_RATE + \n",
    "    FEATURES_FORWARD_PRICE + \n",
    "    FEATURES_STOCK + \n",
    "    FEATURES_VIX +\n",
    "    FEATURES_HISTORICAL_VOL +\n",
    "    FEATURES_FAMA +\n",
    "    ['straddle_return']\n",
    "]\n",
    "\n",
    "straddle_df_all_features_straddle_return.to_csv(os.getcwd() + '\\\\' + 'datasets' + '\\\\' + 'straddle_df_all_features_straddle_return.csv', index=False)"
   ]
  }
 ],
 "metadata": {
  "kernelspec": {
   "display_name": ".venv",
   "language": "python",
   "name": "python3"
  },
  "language_info": {
   "codemirror_mode": {
    "name": "ipython",
    "version": 3
   },
   "file_extension": ".py",
   "mimetype": "text/x-python",
   "name": "python",
   "nbconvert_exporter": "python",
   "pygments_lexer": "ipython3",
   "version": "3.10.10"
  }
 },
 "nbformat": 4,
 "nbformat_minor": 5
}
