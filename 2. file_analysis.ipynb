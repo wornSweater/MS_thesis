{
 "cells": [
  {
   "cell_type": "code",
   "execution_count": 1,
   "id": "d7e9197f",
   "metadata": {},
   "outputs": [],
   "source": [
    "import pandas as pd\n",
    "import numpy as np\n",
    "import matplotlib.pyplot as plt\n",
    "import os\n",
    "import json\n",
    "from tqdm import tqdm\n",
    "from utils import *\n",
    "from bs4 import BeautifulSoup\n",
    "from collections import Counter\n",
    "from feature_settings import *"
   ]
  },
  {
   "cell_type": "markdown",
   "id": "72b4b394",
   "metadata": {},
   "source": [
    "Security prices\n"
   ]
  },
  {
   "cell_type": "code",
   "execution_count": 2,
   "id": "cc68b1aa",
   "metadata": {},
   "outputs": [
    {
     "name": "stdout",
     "output_type": "stream",
     "text": [
      "The secid is only one value: {108105}\n",
      "The cusip is only one value: {64881510}\n",
      "The ticker is only one value: {'SPX'}\n",
      "The sic is only one value: {9999}\n",
      "The index_flag is only one value: {1}\n",
      "The exchange_d is only one value: {32768}\n",
      "The issue_type is only one value: {'A'}\n",
      "The volume is only one value: {0}\n",
      "The cfadj is only one value: {1}\n",
      "The shrout is only one value: {0}\n",
      "The cfret is only one value: {1}\n",
      "\n",
      "\n",
      "The class is all NaN: True\n",
      "The industry_group is all NaN: True\n",
      "The high price is not necessarily greater than close price: True\n"
     ]
    }
   ],
   "source": [
    "# security prices\n",
    "security_prices_df = pd.read_csv(r\"raw_data\\OpitonMetrics\\securities_data\\security_prices.csv\")\n",
    "\n",
    "for i in security_prices_df.keys():\n",
    "    if (\n",
    "        i != 'date' and \n",
    "        i != 'low' and \n",
    "        i != 'high' and\n",
    "        i != 'open' and \n",
    "        i != 'close' and \n",
    "        i != 'return' and \n",
    "        i != 'class' and \n",
    "        i != 'industry_group'\n",
    "    ):\n",
    "        print(f\"The {i} is only one value: {set(security_prices_df[i])}\")\n",
    "print('\\n')\n",
    "\n",
    "print(f\"The class is all NaN: {all(pd.isna(i) for i in security_prices_df['class'])}\")\n",
    "print(f\"The industry_group is all NaN: {all(pd.isna(i) for i in security_prices_df['industry_group'])}\")\n",
    "print(f\"The high price is not necessarily greater than close price: {any(security_prices_df['high'] < security_prices_df['close'])}\")"
   ]
  },
  {
   "cell_type": "markdown",
   "id": "34e908ea",
   "metadata": {},
   "source": [
    "historical volatility"
   ]
  },
  {
   "cell_type": "code",
   "execution_count": 3,
   "id": "2ff64b54",
   "metadata": {},
   "outputs": [
    {
     "name": "stdout",
     "output_type": "stream",
     "text": [
      "The secid is only the value: {108105}\n",
      "The days is only the value: {1825, 547, 10, 365, 14, 273, 182, 152, 730, 122, 91, 60, 30}\n",
      "The cusip is only the value: {64881510}\n",
      "The ticker is only the value: {'SPX'}\n",
      "The sic is only the value: {9999}\n",
      "The index_flag is only the value: {1}\n",
      "The exchange_d is only the value: {32768}\n",
      "The issue_type is only the value: {'A'}\n",
      "\n",
      "\n",
      "The industry_group is all NaN: True\n",
      "The class is all NaN: True\n",
      "\n",
      "\n",
      "There is no missing value after pivot: True\n"
     ]
    }
   ],
   "source": [
    "# historical_vol\n",
    "historical_vol_df = pd.read_csv(r\"raw_data\\OpitonMetrics\\options_data\\historical_vol.csv\")\n",
    "\n",
    "# check the cols\n",
    "for i in historical_vol_df.keys():\n",
    "    if (\n",
    "        i != 'date' and\n",
    "        i != 'volatility' and\n",
    "        i != 'industry_group' and \n",
    "        i != 'class'\n",
    "    ):\n",
    "        print(f\"The {i} is only the value: {set(historical_vol_df[i])}\")\n",
    "print('\\n')\n",
    "print(f\"The industry_group is all NaN: {all(pd.isna(i) for i in historical_vol_df['industry_group'])}\")\n",
    "print(f\"The class is all NaN: {all(pd.isna(i) for i in historical_vol_df['class'])}\")\n",
    "\n",
    "# pivot the table\n",
    "historical_vol_df_pivot = historical_vol_df.pivot(index='date', columns='days', values='volatility')\n",
    "historical_vol_df_pivot.columns = [f'vol_days_{i}' for i in historical_vol_df_pivot.columns]\n",
    "print('\\n')\n",
    "# check after pivot, there is no missing value\n",
    "print(f\"There is no missing value after pivot: {not historical_vol_df_pivot.isna().any().any()}\")"
   ]
  },
  {
   "cell_type": "markdown",
   "id": "8d7eef34",
   "metadata": {},
   "source": [
    "Forward prices"
   ]
  },
  {
   "cell_type": "code",
   "execution_count": 4,
   "id": "878f5765",
   "metadata": {},
   "outputs": [
    {
     "name": "stdout",
     "output_type": "stream",
     "text": [
      "Forward price columns are: Index(['secid', 'date', 'expiration', 'AMSettlement', 'ForwardPrice', 'cusip',\n",
      "       'ticker', 'sic', 'index_flag', 'exchange_d', 'class', 'issue_type',\n",
      "       'industry_group', 'issuer'],\n",
      "      dtype='object')\n",
      "\n",
      "\n",
      "There is no missing value in the forward price data: False\n"
     ]
    }
   ],
   "source": [
    "# forward prices\n",
    "forward_price_df = pd.read_csv(r\"raw_data\\OpitonMetrics\\options_data\\forward_price.csv\")\n",
    "\n",
    "print(f\"Forward price columns are: {forward_price_df.keys()}\")\n",
    "print('\\n')\n",
    "# check if there is any missing value\n",
    "print(f\"There is no missing value in the forward price data: {not forward_price_df.isna().any().any()}\")\n"
   ]
  },
  {
   "cell_type": "markdown",
   "id": "df9b8558",
   "metadata": {},
   "source": [
    "Fama French 5 factors"
   ]
  },
  {
   "cell_type": "code",
   "execution_count": 5,
   "id": "64f4be94",
   "metadata": {},
   "outputs": [
    {
     "name": "stdout",
     "output_type": "stream",
     "text": [
      "There is no missing value in the Fama French 5 factors data file: True\n"
     ]
    }
   ],
   "source": [
    "# load the data\n",
    "fama_5_factors_df = pd.read_csv(r\"raw_data\\FamaFrench\\5_factors.csv\")\n",
    "\n",
    "# check if there is any missing value\n",
    "print(f\"There is no missing value in the Fama French 5 factors data file: {not fama_5_factors_df.isna().any().any()}\")"
   ]
  },
  {
   "cell_type": "markdown",
   "id": "8c704626",
   "metadata": {},
   "source": [
    "index dividend yield"
   ]
  },
  {
   "cell_type": "code",
   "execution_count": 6,
   "id": "ed37551f",
   "metadata": {},
   "outputs": [
    {
     "name": "stdout",
     "output_type": "stream",
     "text": [
      "The secid is only one value: {108105}\n",
      "The cusip is only one value: {64881510}\n",
      "The ticker is only one value: {'SPX'}\n",
      "The sic is only one value: {9999}\n",
      "The index_flag is only one value: {1}\n",
      "The exchange_d is only one value: {32768}\n",
      "The issue_type is only one value: {'A'}\n",
      "\n",
      "\n",
      "The class is only NaN: True\n",
      "The industry_group is only NaN: True\n",
      "The useful data have no missing value: True\n"
     ]
    }
   ],
   "source": [
    "# load the data\n",
    "dividend_rate_df = pd.read_csv(r\"raw_data\\OpitonMetrics\\market_data\\index_dividend_yield.csv\")\n",
    "\n",
    "# check all the cols\n",
    "for col in dividend_rate_df.columns:\n",
    "    if not (\n",
    "        col == 'date' or \n",
    "        col == 'expiration' or\n",
    "        col == 'class' or \n",
    "        col == 'industry_group' or \n",
    "        col == 'rate'\n",
    "    ):\n",
    "        print(f\"The {col} is only one value: {set(dividend_rate_df[col])}\")\n",
    "print('\\n')\n",
    "print(f\"The class is only NaN: {all(pd.isna(i) for i in dividend_rate_df['class'])}\")\n",
    "print(f\"The industry_group is only NaN: {all(pd.isna(i) for i in dividend_rate_df['industry_group'])}\")\n",
    "print(f\"The useful data have no missing value: {not dividend_rate_df[['date', 'expiration', 'rate']].isna().any().any()}\")"
   ]
  },
  {
   "cell_type": "markdown",
   "id": "59e1d805",
   "metadata": {},
   "source": [
    "volume and open interest"
   ]
  },
  {
   "cell_type": "code",
   "execution_count": 7,
   "id": "0b9b3bb8",
   "metadata": {},
   "outputs": [
    {
     "name": "stdout",
     "output_type": "stream",
     "text": [
      "Volume are all positive: True\n",
      "Open interest are all positive: False\n",
      "Volume is always bigger than open interest: False\n"
     ]
    },
    {
     "data": {
      "text/html": [
       "<div>\n",
       "<style scoped>\n",
       "    .dataframe tbody tr th:only-of-type {\n",
       "        vertical-align: middle;\n",
       "    }\n",
       "\n",
       "    .dataframe tbody tr th {\n",
       "        vertical-align: top;\n",
       "    }\n",
       "\n",
       "    .dataframe thead th {\n",
       "        text-align: right;\n",
       "    }\n",
       "</style>\n",
       "<table border=\"1\" class=\"dataframe\">\n",
       "  <thead>\n",
       "    <tr style=\"text-align: right;\">\n",
       "      <th></th>\n",
       "      <th>secid</th>\n",
       "      <th>date</th>\n",
       "      <th>cp_flag</th>\n",
       "      <th>index_flag</th>\n",
       "      <th>cusip</th>\n",
       "      <th>ticker</th>\n",
       "      <th>sic</th>\n",
       "      <th>exchange_d</th>\n",
       "      <th>class</th>\n",
       "      <th>issue_type</th>\n",
       "      <th>industry_group</th>\n",
       "      <th>volume</th>\n",
       "      <th>open_interest</th>\n",
       "    </tr>\n",
       "  </thead>\n",
       "  <tbody>\n",
       "    <tr>\n",
       "      <th>2301</th>\n",
       "      <td>108105</td>\n",
       "      <td>1999-01-19</td>\n",
       "      <td>NaN</td>\n",
       "      <td>1</td>\n",
       "      <td>64881510</td>\n",
       "      <td>SPX</td>\n",
       "      <td>9999</td>\n",
       "      <td>32768</td>\n",
       "      <td>NaN</td>\n",
       "      <td>A</td>\n",
       "      <td>NaN</td>\n",
       "      <td>76558</td>\n",
       "      <td>0</td>\n",
       "    </tr>\n",
       "    <tr>\n",
       "      <th>2302</th>\n",
       "      <td>108105</td>\n",
       "      <td>1999-01-19</td>\n",
       "      <td>C</td>\n",
       "      <td>1</td>\n",
       "      <td>64881510</td>\n",
       "      <td>SPX</td>\n",
       "      <td>9999</td>\n",
       "      <td>32768</td>\n",
       "      <td>NaN</td>\n",
       "      <td>A</td>\n",
       "      <td>NaN</td>\n",
       "      <td>42521</td>\n",
       "      <td>0</td>\n",
       "    </tr>\n",
       "    <tr>\n",
       "      <th>2303</th>\n",
       "      <td>108105</td>\n",
       "      <td>1999-01-19</td>\n",
       "      <td>P</td>\n",
       "      <td>1</td>\n",
       "      <td>64881510</td>\n",
       "      <td>SPX</td>\n",
       "      <td>9999</td>\n",
       "      <td>32768</td>\n",
       "      <td>NaN</td>\n",
       "      <td>A</td>\n",
       "      <td>NaN</td>\n",
       "      <td>34037</td>\n",
       "      <td>0</td>\n",
       "    </tr>\n",
       "    <tr>\n",
       "      <th>3561</th>\n",
       "      <td>108105</td>\n",
       "      <td>2000-09-15</td>\n",
       "      <td>NaN</td>\n",
       "      <td>1</td>\n",
       "      <td>64881510</td>\n",
       "      <td>SPX</td>\n",
       "      <td>9999</td>\n",
       "      <td>32768</td>\n",
       "      <td>NaN</td>\n",
       "      <td>A</td>\n",
       "      <td>NaN</td>\n",
       "      <td>118334</td>\n",
       "      <td>0</td>\n",
       "    </tr>\n",
       "    <tr>\n",
       "      <th>3562</th>\n",
       "      <td>108105</td>\n",
       "      <td>2000-09-15</td>\n",
       "      <td>C</td>\n",
       "      <td>1</td>\n",
       "      <td>64881510</td>\n",
       "      <td>SPX</td>\n",
       "      <td>9999</td>\n",
       "      <td>32768</td>\n",
       "      <td>NaN</td>\n",
       "      <td>A</td>\n",
       "      <td>NaN</td>\n",
       "      <td>70103</td>\n",
       "      <td>0</td>\n",
       "    </tr>\n",
       "    <tr>\n",
       "      <th>3563</th>\n",
       "      <td>108105</td>\n",
       "      <td>2000-09-15</td>\n",
       "      <td>P</td>\n",
       "      <td>1</td>\n",
       "      <td>64881510</td>\n",
       "      <td>SPX</td>\n",
       "      <td>9999</td>\n",
       "      <td>32768</td>\n",
       "      <td>NaN</td>\n",
       "      <td>A</td>\n",
       "      <td>NaN</td>\n",
       "      <td>48231</td>\n",
       "      <td>0</td>\n",
       "    </tr>\n",
       "    <tr>\n",
       "      <th>3564</th>\n",
       "      <td>108105</td>\n",
       "      <td>2000-09-18</td>\n",
       "      <td>NaN</td>\n",
       "      <td>1</td>\n",
       "      <td>64881510</td>\n",
       "      <td>SPX</td>\n",
       "      <td>9999</td>\n",
       "      <td>32768</td>\n",
       "      <td>NaN</td>\n",
       "      <td>A</td>\n",
       "      <td>NaN</td>\n",
       "      <td>60080</td>\n",
       "      <td>0</td>\n",
       "    </tr>\n",
       "    <tr>\n",
       "      <th>3565</th>\n",
       "      <td>108105</td>\n",
       "      <td>2000-09-18</td>\n",
       "      <td>C</td>\n",
       "      <td>1</td>\n",
       "      <td>64881510</td>\n",
       "      <td>SPX</td>\n",
       "      <td>9999</td>\n",
       "      <td>32768</td>\n",
       "      <td>NaN</td>\n",
       "      <td>A</td>\n",
       "      <td>NaN</td>\n",
       "      <td>18310</td>\n",
       "      <td>0</td>\n",
       "    </tr>\n",
       "    <tr>\n",
       "      <th>3566</th>\n",
       "      <td>108105</td>\n",
       "      <td>2000-09-18</td>\n",
       "      <td>P</td>\n",
       "      <td>1</td>\n",
       "      <td>64881510</td>\n",
       "      <td>SPX</td>\n",
       "      <td>9999</td>\n",
       "      <td>32768</td>\n",
       "      <td>NaN</td>\n",
       "      <td>A</td>\n",
       "      <td>NaN</td>\n",
       "      <td>41770</td>\n",
       "      <td>0</td>\n",
       "    </tr>\n",
       "  </tbody>\n",
       "</table>\n",
       "</div>"
      ],
      "text/plain": [
       "       secid        date cp_flag  index_flag     cusip ticker   sic  \\\n",
       "2301  108105  1999-01-19     NaN           1  64881510    SPX  9999   \n",
       "2302  108105  1999-01-19       C           1  64881510    SPX  9999   \n",
       "2303  108105  1999-01-19       P           1  64881510    SPX  9999   \n",
       "3561  108105  2000-09-15     NaN           1  64881510    SPX  9999   \n",
       "3562  108105  2000-09-15       C           1  64881510    SPX  9999   \n",
       "3563  108105  2000-09-15       P           1  64881510    SPX  9999   \n",
       "3564  108105  2000-09-18     NaN           1  64881510    SPX  9999   \n",
       "3565  108105  2000-09-18       C           1  64881510    SPX  9999   \n",
       "3566  108105  2000-09-18       P           1  64881510    SPX  9999   \n",
       "\n",
       "      exchange_d  class issue_type  industry_group  volume  open_interest  \n",
       "2301       32768    NaN          A             NaN   76558              0  \n",
       "2302       32768    NaN          A             NaN   42521              0  \n",
       "2303       32768    NaN          A             NaN   34037              0  \n",
       "3561       32768    NaN          A             NaN  118334              0  \n",
       "3562       32768    NaN          A             NaN   70103              0  \n",
       "3563       32768    NaN          A             NaN   48231              0  \n",
       "3564       32768    NaN          A             NaN   60080              0  \n",
       "3565       32768    NaN          A             NaN   18310              0  \n",
       "3566       32768    NaN          A             NaN   41770              0  "
      ]
     },
     "execution_count": 7,
     "metadata": {},
     "output_type": "execute_result"
    }
   ],
   "source": [
    "# load the data\n",
    "volume_open_interest_df = pd.read_csv(r\"raw_data\\OpitonMetrics\\options_data\\volume_open_interest.csv\")\n",
    "\n",
    "# check if the volume and open interest are all positive or not\n",
    "print(f\"Volume are all positive: {all(i > 0 for i in volume_open_interest_df['volume'])}\")\n",
    "print(f\"Open interest are all positive: {all(i > 0 for i in volume_open_interest_df['open_interest'])}\")\n",
    "\n",
    "# check if the volume is always bigger than the open interest\n",
    "print(f\"Volume is always bigger than open interest: {all(volume_open_interest_df['volume'] > volume_open_interest_df['open_interest'])}\")\n",
    "\n",
    "volume_open_interest_df[volume_open_interest_df['open_interest'] <= 0]"
   ]
  },
  {
   "cell_type": "markdown",
   "id": "12c9413a",
   "metadata": {},
   "source": [
    "features"
   ]
  },
  {
   "cell_type": "code",
   "execution_count": 8,
   "id": "d7834f9a",
   "metadata": {},
   "outputs": [
    {
     "name": "stdout",
     "output_type": "stream",
     "text": [
      "98 98 98 98\n",
      "True\n"
     ]
    }
   ],
   "source": [
    "feature_summation = (\n",
    "    FEATURES_YEAR_MONTH_DAY +\n",
    "    FEATURES_GREEKS + \n",
    "    FEATURES_IMPLIED_VOL + \n",
    "    FEATRUES_BASIC_OPTION +\n",
    "    FEATURES_SETTLEMENT_INFO + \n",
    "    FEATURES_VOLUME_OPEN_INTEREST +\n",
    "    FEATURES_INTEREST_RATE + \n",
    "    FEATURES_FORWARD_PRICE + \n",
    "    FEATURES_STOCK + \n",
    "    FEATURES_VIX + \n",
    "    FEATURES_HISTORICAL_VOL + \n",
    "    FEATURES_FAMA + \n",
    "    FEATURES_DATE + \n",
    "    FEATURES_OTHER + \n",
    "    FEATURES_RETURN\n",
    ")\n",
    "\n",
    "print(len(feature_summation), len(FEATURES_WHOLE), len(set(feature_summation)), len(set(FEATURES_WHOLE)))\n",
    "print(set(feature_summation) == set(FEATURES_WHOLE))"
   ]
  },
  {
   "cell_type": "markdown",
   "id": "df1dd366",
   "metadata": {},
   "source": [
    "whole_df"
   ]
  },
  {
   "cell_type": "code",
   "execution_count": 9,
   "id": "9643334e",
   "metadata": {},
   "outputs": [
    {
     "name": "stderr",
     "output_type": "stream",
     "text": [
      "C:\\Users\\55479\\AppData\\Local\\Temp\\ipykernel_13572\\2611208492.py:2: DtypeWarning: Columns (24,25) have mixed types. Specify dtype option on import or set low_memory=False.\n",
      "  whole_df = pd.read_csv(r\"intermediate_files\\whole_df.csv\")\n"
     ]
    }
   ],
   "source": [
    "# load the dataset\n",
    "whole_df = pd.read_csv(r\"intermediate_files\\whole_df.csv\")"
   ]
  },
  {
   "cell_type": "code",
   "execution_count": 10,
   "id": "0218035b",
   "metadata": {},
   "outputs": [
    {
     "name": "stdout",
     "output_type": "stream",
     "text": [
      "True\n"
     ]
    }
   ],
   "source": [
    "print(set(whole_df.keys()) == set(FEATURES_WHOLE))"
   ]
  }
 ],
 "metadata": {
  "kernelspec": {
   "display_name": ".venv",
   "language": "python",
   "name": "python3"
  },
  "language_info": {
   "codemirror_mode": {
    "name": "ipython",
    "version": 3
   },
   "file_extension": ".py",
   "mimetype": "text/x-python",
   "name": "python",
   "nbconvert_exporter": "python",
   "pygments_lexer": "ipython3",
   "version": "3.10.10"
  }
 },
 "nbformat": 4,
 "nbformat_minor": 5
}
