{
 "cells": [
  {
   "cell_type": "code",
   "execution_count": null,
   "id": "65f07c0d",
   "metadata": {},
   "outputs": [],
   "source": [
    "# y_test_pred_scaled = model.predict(X_test)\n",
    "\n",
    "# y_test_pred = target_scaler.inverse_transform(y_test_pred_scaled.reshape(-1, 1)).ravel()\n",
    "\n",
    "# y_train_pred_scaled = model.predict(X_train)\n",
    "\n",
    "# y_train_pred = target_scaler.inverse_transform(y_train_pred_scaled.reshape(-1, 1)).ravel()\n",
    "\n",
    "\n",
    "# def metrics(y_true, y_pred):\n",
    "#         r2 = r2_score(y_true, y_pred)\n",
    "#         mae = mean_absolute_error(y_true, y_pred)\n",
    "#         rmse = np.sqrt(mean_squared_error(y_true, y_pred))\n",
    "#         return r2, mae, rmse\n",
    "\n",
    "# train_r2, train_mae, train_rmse = metrics(y_train, y_train_pred)\n",
    "# test_r2, test_mae, test_rmse = metrics(y_test, y_test_pred)\n",
    "\n",
    "# # Print results\n",
    "# print(\"🔹 Training Set Metrics:\")\n",
    "# print(f\"R²:   {train_r2:.4f}\")\n",
    "# print(f\"MAE:  {train_mae:.4f}\")\n",
    "# print(f\"RMSE: {train_rmse:.4f}\\n\")\n",
    "\n",
    "# print(\"🔹 Test Set Metrics:\")\n",
    "# print(f\"R²:   {test_r2:.4f}\")\n",
    "# print(f\"MAE:  {test_mae:.4f}\")\n",
    "# print(f\"RMSE: {test_rmse:.4f}\")"
   ]
  }
 ],
 "metadata": {
  "language_info": {
   "name": "python"
  }
 },
 "nbformat": 4,
 "nbformat_minor": 5
}
