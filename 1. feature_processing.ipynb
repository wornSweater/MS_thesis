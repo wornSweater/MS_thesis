{
 "cells": [
  {
   "cell_type": "markdown",
   "id": "cfe55a02",
   "metadata": {},
   "source": [
    "# Feature Processing"
   ]
  },
  {
   "cell_type": "code",
   "execution_count": 1,
   "id": "f66f6fba",
   "metadata": {},
   "outputs": [],
   "source": [
    "import pandas as pd\n",
    "import numpy as np\n",
    "import matplotlib.pyplot as plt\n",
    "import os\n",
    "from utils import *\n",
    "from feature_settings import *"
   ]
  },
  {
   "cell_type": "markdown",
   "id": "dd50002c",
   "metadata": {},
   "source": [
    "Import the cleaned oneDTE file and other files"
   ]
  },
  {
   "cell_type": "code",
   "execution_count": 2,
   "id": "6a4e1774",
   "metadata": {},
   "outputs": [
    {
     "name": "stderr",
     "output_type": "stream",
     "text": [
      "C:\\Users\\55479\\AppData\\Local\\Temp\\ipykernel_8440\\538068376.py:3: DtypeWarning: Columns (24,25) have mixed types. Specify dtype option on import or set low_memory=False.\n",
      "  whole_df = pd.read_csv(file_path)\n"
     ]
    }
   ],
   "source": [
    "# cleaned oneDTE\n",
    "file_path = os.getcwd() + '\\\\' + 'intermediate_files' + '\\\\' + 'cleaned_oneDTE_with_settlements.csv'\n",
    "whole_df = pd.read_csv(file_path)\n",
    "\n",
    "# security prices\n",
    "security_prices_df = pd.read_csv(r\"raw_data\\OpitonMetrics\\securities_data\\security_prices.csv\")\n",
    "\n",
    "# historical vol\n",
    "historical_vol_df = pd.read_csv(r\"raw_data\\OpitonMetrics\\options_data\\historical_vol.csv\")\n",
    "\n",
    "# forward prices\n",
    "forward_prices_df = pd.read_csv(r\"raw_data\\OpitonMetrics\\options_data\\forward_price.csv\")\n",
    "\n",
    "# fama french 5 factors\n",
    "fama_french_factors_df = pd.read_csv(r\"raw_data\\FamaFrench\\5_factors.csv\")\n",
    "\n",
    "# cboe vix\n",
    "cboe_index_df = pd.read_csv(r\"raw_data\\Cboe\\volatility_index.csv\")\n",
    "\n",
    "# volume and open interest\n",
    "volume_open_interest_df = pd.read_csv(r\"raw_data\\OpitonMetrics\\options_data\\volume_open_interest.csv\")\n"
   ]
  },
  {
   "cell_type": "markdown",
   "id": "033ff758",
   "metadata": {},
   "source": [
    "Check implied vol and greeks"
   ]
  },
  {
   "cell_type": "code",
   "execution_count": 3,
   "id": "8c118eb5",
   "metadata": {},
   "outputs": [
    {
     "name": "stdout",
     "output_type": "stream",
     "text": [
      "The rest percentage after removing the greeks is 0.6596\n",
      "The rest percentage after removing the impl_volatility is 0.6596\n",
      "The rest percentage after removing the delta is 0.6596\n",
      "The rest percentage after removing the gamma is 0.6596\n",
      "The rest percentage after removing the theta is 0.6596\n",
      "The rest percentage after removing the vega is 0.6596\n",
      "\n",
      "\n",
      "For vol and greeks, if one is blank, all the others are blank, too\n"
     ]
    }
   ],
   "source": [
    "# check the percentage of the data with complete vol and greeks\n",
    "whole_df_missing_greeks = whole_df[\n",
    "    (pd.isna(whole_df['impl_volatility'])) |\n",
    "    (pd.isna(whole_df['delta'])) |\n",
    "    (pd.isna(whole_df['gamma'])) |\n",
    "    (pd.isna(whole_df['vega'])) |\n",
    "    (pd.isna(whole_df['theta']))\n",
    "]\n",
    "\n",
    "print(f'The rest percentage after removing the greeks is {1-len(whole_df_missing_greeks)/len(whole_df):.4f}')\n",
    "\n",
    "# check the percentage of the data with complete vol and greeks\n",
    "\n",
    "greeks_and_vol = ['impl_volatility', 'delta', 'gamma', 'theta', 'vega']\n",
    "for each in greeks_and_vol:\n",
    "    whole_df_missing_greeks = whole_df[\n",
    "    (pd.isna(whole_df[each]))\n",
    "]\n",
    "    print(f'The rest percentage after removing the {each} is {1-len(whole_df_missing_greeks)/len(whole_df):.4f}')\n",
    "\n",
    "# in this way, we know that if one of the greeks and vol is blank, then all the others are also blank\n",
    "# after removing all the blanks, then the rest is only around 66% (too many have been removed)\n",
    "# but this can serve as robustness check\n",
    "print('\\n')\n",
    "print(f'For vol and greeks, if one is blank, all the others are blank, too')\n"
   ]
  },
  {
   "cell_type": "markdown",
   "id": "f05e80c7",
   "metadata": {},
   "source": [
    "# Add features"
   ]
  },
  {
   "cell_type": "code",
   "execution_count": 4,
   "id": "4399f6cd",
   "metadata": {},
   "outputs": [],
   "source": [
    "# dividend rate (annualized already) all 0\n",
    "# standardized moneyness (pending, different definitions)\n",
    "\n",
    "# features summary:\n",
    "\n",
    "# ---option basic information---:\n",
    "# put-call flag indicator (int, call 1 put 0) I\n",
    "# AM settlement indicator (int, am settle 1 pm settle 0)\n",
    "# strike price (/1000) K\n",
    "# settlement value ST\n",
    "# mid-point option price C or P\n",
    "# payoff\n",
    "# simple payoff return\n",
    "# best offer return\n",
    "# best bid return (if the bid price is 0, then we assume no one will buy the option, so return is 0)\n",
    "# intrinsic value\n",
    "# risk free interest rate (from fama french)\n",
    "# risk free interest rate annualized\n",
    "\n",
    "\n",
    "# ---option advanced information---:\n",
    "# moneyness: St/K (current market closing price / strike price)\n",
    "# log transformation of moneyness\n",
    "# bid-ask spread (difference)\n",
    "# bid-ask spread (percentage)\n",
    "# scaled option price C,P / K\n",
    "# scaled best offer best_offer / K\n",
    "# scaled best bid best_bid / K\n",
    "\n",
    "\n",
    "# --- aggregated open interest and volume ---:\n",
    "# total call volume\n",
    "# total put volume\n",
    "# total volume\n",
    "# total call open interest\n",
    "# total put open interest\n",
    "# total interest\n",
    "\n",
    "\n",
    "# --- CBOE VIX ---:\n",
    "# VIX open\n",
    "# VIX close\n",
    "# VIX high\n",
    "# VIX low\n",
    "\n",
    "# --- fama french ---:\n",
    "# 5 factors\n",
    "\n",
    "\n",
    "# ---security prices---:\n",
    "# high and lags\n",
    "# low and lags\n",
    "# open and lags\n",
    "# close and lags\n",
    "# return and lags\n",
    "\n",
    "\n",
    "# ---historical vol---:\n",
    "# day 10 and lags\n",
    "# day 14 and lags\n",
    "# day 30 and lags\n",
    "# day 60 and lags\n",
    "# day 91 and lags\n",
    "# day 122 and lags\n",
    "# day 152 and lags\n",
    "# day 182 and lags\n",
    "# day 273 and lags\n",
    "# day 365 and lags\n",
    "# day 547 and lags\n",
    "# day 730 and lags\n",
    "# day 1825 and lags\n",
    "\n",
    "\n",
    "# ---forward price---:\n",
    "# forward price (no need to get lag, since the previous day's close price is known)\n",
    "\n",
    "# ---time features---:\n",
    "# year\n",
    "# month\n",
    "# day\n",
    "\n",
    "\n",
    "\n",
    "# --------------------------------------------------------> for straddle and ATM with implied vol <--------------------------------------------------\n",
    "\n",
    "# ---TUDelft ---:\n",
    "# time value (price - intrinsic value)\n",
    "# log(time value / K), log transformation (scaled) of time value\n",
    "\n",
    "\n",
    "# --- option market lead (paper) ---:\n",
    "\n",
    "# 1 avg impl volatility Average ATM implied volatility\n",
    "# 2 cvol Change in ATM Call implied volatility (An, Ang, Bali, and Cakici (2014)) \n",
    "# 3 cw CW difference between implied vol of put and call (Cremers and Weinbaum (2012)) \n",
    "# 4 hviv Historical volatility - Implied ATM volatility (Goyal and Saretto (2009)) \n",
    "# 5 med hq Option implied fee (Muravyev, Pearson, and Pollet (2018)) \n",
    "# 6 opt baspread Option average bid-ask spread \n",
    "# 7 os OS ratio (Johnson and So (2012)) \n",
    "# 8 pvol Change in ATM Put implied volatility (An, Ang, Bali, and Cakici (2014)) \n",
    "# 9 skewness Volatility surface skewness (Xing, Zhang, and Zhao (2010))\n",
    "\n",
    "# can be done\n",
    "# 1 implied vol\n",
    "# 3 difference between implied vols (only straddle)\n",
    "# 4 historical vol - average implied vol (only straddle)\n",
    "# 6 average bid-ask spread (only straddle)\n",
    "# + volume summation (only straddle)\n",
    "# + open interest summation (only straddle)\n",
    "# + average implied vol (only straddle)\n"
   ]
  },
  {
   "cell_type": "markdown",
   "id": "6cedaa95",
   "metadata": {},
   "source": [
    "datetime, year, month, date"
   ]
  },
  {
   "cell_type": "code",
   "execution_count": 5,
   "id": "2b22b828",
   "metadata": {},
   "outputs": [],
   "source": [
    "# convert the datetime\n",
    "whole_df['datetime'] = pd.to_datetime(whole_df['date'])\n",
    "whole_df['year'] = whole_df['datetime'].dt.year\n",
    "whole_df['month'] = whole_df['datetime'].dt.month\n",
    "whole_df['day'] = whole_df['datetime'].dt.day"
   ]
  },
  {
   "cell_type": "markdown",
   "id": "6d3519e8",
   "metadata": {},
   "source": [
    "put call int flag, 0 is put and 1 is call"
   ]
  },
  {
   "cell_type": "code",
   "execution_count": 6,
   "id": "7b371724",
   "metadata": {},
   "outputs": [
    {
     "name": "stdout",
     "output_type": "stream",
     "text": [
      "In the data there are only call and put options: {'P', 'C'}\n"
     ]
    }
   ],
   "source": [
    "# Call and put option flag (call is 1 and put is 0)\n",
    "whole_df['cp_flag_num'] = whole_df['cp_flag'].map({'P': int(0), 'C': int(1)})\n",
    "\n",
    "# the set of cp_flag is only C and P\n",
    "print(f\"In the data there are only call and put options: {set(whole_df['cp_flag'])}\")"
   ]
  },
  {
   "cell_type": "markdown",
   "id": "0c0b9da0",
   "metadata": {},
   "source": [
    "am pm settlement int flag, 0 is pm and 1 is am"
   ]
  },
  {
   "cell_type": "code",
   "execution_count": 7,
   "id": "1d5dfc4c",
   "metadata": {},
   "outputs": [
    {
     "name": "stdout",
     "output_type": "stream",
     "text": [
      "In the data there are only SET, SPX and SPXPM of settlement symbol: {'SPX', 'SET', 'SPXPM'}\n"
     ]
    }
   ],
   "source": [
    "# am settlement is 1, pm settlement is 0\n",
    "whole_df['am_settlement_num'] = whole_df['settlement_symbol'].map({'SET': int(1), 'SPX': int(0), 'SPXPM': int(0)})\n",
    "\n",
    "# check there are only SPX, SET and SPXPM\n",
    "print(f\"In the data there are only SET, SPX and SPXPM of settlement symbol: {set(whole_df['settlement_symbol'])}\")"
   ]
  },
  {
   "cell_type": "markdown",
   "id": "944761d0",
   "metadata": {},
   "source": [
    "normal strike price"
   ]
  },
  {
   "cell_type": "code",
   "execution_count": 8,
   "id": "98732268",
   "metadata": {},
   "outputs": [
    {
     "name": "stdout",
     "output_type": "stream",
     "text": [
      "All strike prices are > 0: True\n"
     ]
    }
   ],
   "source": [
    "# Create the strike K\n",
    "whole_df['strike'] = whole_df['strike_price']/1000\n",
    "\n",
    "# strike price should be always greater than 0\n",
    "print(f\"All strike prices are > 0: {all(i > 0 for i in whole_df['strike'])}\")"
   ]
  },
  {
   "cell_type": "markdown",
   "id": "fea1788d",
   "metadata": {},
   "source": [
    "payoff (future real stock price and strike price)"
   ]
  },
  {
   "cell_type": "code",
   "execution_count": 9,
   "id": "4d545fac",
   "metadata": {},
   "outputs": [
    {
     "name": "stdout",
     "output_type": "stream",
     "text": [
      "All payoffs are >= 0: True\n"
     ]
    }
   ],
   "source": [
    "# I * Max(ST - K, 0) + (1-I) * Max(K - ST, 0)\n",
    "whole_df['payoff'] = np.maximum(whole_df['settlement_value'] - whole_df['strike'], 0) * whole_df['cp_flag_num'] + \\\n",
    "                     np.maximum(whole_df['strike'] - whole_df['settlement_value'], 0) * (1 - whole_df['cp_flag_num'])\n",
    "\n",
    "# payoff should be always greater than or equal to 0\n",
    "print(f\"All payoffs are >= 0: {all(i >= 0 for i in whole_df['payoff'])}\")"
   ]
  },
  {
   "cell_type": "markdown",
   "id": "eb81e26e",
   "metadata": {},
   "source": [
    "mid-point closing option price"
   ]
  },
  {
   "cell_type": "code",
   "execution_count": 10,
   "id": "56d8cdd3",
   "metadata": {},
   "outputs": [
    {
     "name": "stdout",
     "output_type": "stream",
     "text": [
      "Bid <= Offer: True\n",
      "Best bid and best offer are both >= 0: True\n",
      "Best offer is always > 0: True\n"
     ]
    }
   ],
   "source": [
    "# Create the option price, which is the mid-point of best bid and bid ask at the market closing time\n",
    "whole_df['option_price'] = (whole_df['best_bid'] + whole_df['best_offer']) / 2\n",
    "\n",
    "# check if the best bid is always smaller than the best offer\n",
    "print(f\"Bid <= Offer: {all(whole_df['best_bid'] <= whole_df['best_offer'])}\")\n",
    "\n",
    "# check if the best bid and best offer are both >= 0\n",
    "print(f\"Best bid and best offer are both >= 0: {all(i >= 0 for i in whole_df['best_bid']) and all(i >= 0 for i in whole_df['best_offer'])}\")\n",
    "print(f\"Best offer is always > 0: {all(i > 0 for i in whole_df['best_offer'])}\")\n",
    "\n",
    "# so if we long the underlying, we can use the closing price of index"
   ]
  },
  {
   "cell_type": "markdown",
   "id": "d723946d",
   "metadata": {},
   "source": [
    "scaled option price\n",
    "\n",
    "scaled best offer\n",
    "\n",
    "scaled best bid"
   ]
  },
  {
   "cell_type": "code",
   "execution_count": 11,
   "id": "ce48235d",
   "metadata": {},
   "outputs": [],
   "source": [
    "# C / K or P / K\n",
    "whole_df['scaled_option_price'] = whole_df['option_price'] / whole_df['strike']\n",
    "\n",
    "# best_offer / K\n",
    "whole_df['scaled_best_offer'] = whole_df['best_offer'] / whole_df['strike']\n",
    "\n",
    "# best_bid / K\n",
    "whole_df['scaled_best_bid'] = whole_df['best_bid'] / whole_df['strike']\n",
    "\n",
    "# all >= 0 since all strikes are > 0"
   ]
  },
  {
   "cell_type": "markdown",
   "id": "ea48ecc5",
   "metadata": {},
   "source": [
    "simple payoff function return\n",
    "\n",
    "best offer return\n",
    "\n",
    "best bid return"
   ]
  },
  {
   "cell_type": "code",
   "execution_count": 12,
   "id": "5a86d5e5",
   "metadata": {},
   "outputs": [
    {
     "name": "stdout",
     "output_type": "stream",
     "text": [
      "The mean of all option returns is : -0.4413808218391128\n",
      "The vol of all option returns is : 1.2566085229628339\n",
      "The signal to noise ratio of all option returns is : -0.35124767481158276\n",
      "\n",
      "\n",
      "The mean of best offer returns is : -0.4511917425596768\n",
      "The vol of best offer returns is : 1.114346433464952\n",
      "The signal to noise ratio of best offer returns is : -0.40489360311114375\n",
      "\n",
      "\n",
      "The mean of best bid returns is : -0.0983444109905338\n",
      "The vol of best bid returns is : 1.6003197242583274\n",
      "The signal to noise ratio of best bid returns is : -0.06145297686442738\n"
     ]
    }
   ],
   "source": [
    "# Calculate the option return\n",
    "whole_df['option_return'] = (whole_df['payoff'] - whole_df['option_price']) / whole_df['option_price']\n",
    "whole_df['best_offer_return'] = (whole_df['payoff'] - whole_df['best_offer']) / whole_df['best_offer']\n",
    "whole_df['best_bid_return'] = np.where(\n",
    "    whole_df['best_bid'] != 0,\n",
    "    (whole_df['payoff'] - whole_df['best_bid']) / whole_df['best_bid'],\n",
    "    0\n",
    ")\n",
    "\n",
    "# get the mean, vol and signal to noise ratio\n",
    "print(f'The mean of all option returns is : {whole_df[\"option_return\"].mean()}')\n",
    "print(f'The vol of all option returns is : {whole_df[\"option_return\"].std()}')\n",
    "print(f'The signal to noise ratio of all option returns is : {whole_df[\"option_return\"].mean() / whole_df[\"option_return\"].std()}')\n",
    "print('\\n')\n",
    "\n",
    "print(f'The mean of best offer returns is : {whole_df[\"best_offer_return\"].mean()}')\n",
    "print(f'The vol of best offer returns is : {whole_df[\"best_offer_return\"].std()}')\n",
    "print(f'The signal to noise ratio of best offer returns is : {whole_df[\"best_offer_return\"].mean() / whole_df[\"best_offer_return\"].std()}')\n",
    "print('\\n')\n",
    "\n",
    "print(f'The mean of best bid returns is : {whole_df[\"best_bid_return\"].mean()}')\n",
    "print(f'The vol of best bid returns is : {whole_df[\"best_bid_return\"].std()}')\n",
    "print(f'The signal to noise ratio of best bid returns is : {whole_df[\"best_bid_return\"].mean() / whole_df[\"best_bid_return\"].std()}')\n",
    "\n",
    "# explain why the mean option return is negative"
   ]
  },
  {
   "cell_type": "markdown",
   "id": "9c46b8af",
   "metadata": {},
   "source": [
    "security prices: low, high, open, close, return\n",
    "\n",
    "moneyness lags"
   ]
  },
  {
   "cell_type": "code",
   "execution_count": 13,
   "id": "0151fd75",
   "metadata": {},
   "outputs": [],
   "source": [
    "# only get the useful columns\n",
    "security_prices_df_to_merge = security_prices_df[['date', 'low', 'high', 'open', 'close', 'return']]\n",
    "\n",
    "# -----------------------------------create the lags---------------------------------\n",
    "security_lags = {\n",
    "    'low': 0,\n",
    "    'high': 0,\n",
    "    'open': 0,\n",
    "    'close': 0,\n",
    "    'return': 0,\n",
    "}\n",
    "\n",
    "for item, num_lag in security_lags.items():\n",
    "    for i in range(1, num_lag + 1):\n",
    "        security_prices_df_to_merge[f\"{item}_lag_{i}\"] = security_prices_df_to_merge[item].shift(i)\n",
    "\n",
    "# merge the two data frames\n",
    "intermediate_security_merge_df = pd.merge(whole_df, security_prices_df_to_merge, on='date', how='left')\n",
    "\n",
    "\n",
    "whole_df['stock_low_price'] = intermediate_security_merge_df['low']\n",
    "whole_df['stock_high_price'] = intermediate_security_merge_df['high']\n",
    "whole_df['stock_open_price'] = intermediate_security_merge_df['open']\n",
    "whole_df['stock_close_price'] = intermediate_security_merge_df['close']\n",
    "whole_df['stock_return'] = intermediate_security_merge_df['return']\n",
    "\n",
    "# add all the lags\n",
    "for item, num_lag in security_lags.items():\n",
    "    for i in range(1, num_lag + 1):\n",
    "        whole_df[f\"stock_{item}_lag_{i}\"] = intermediate_security_merge_df[f\"{item}_lag_{i}\"]\n",
    "        if item == 'close':\n",
    "            whole_df[f\"moneyness_lag_{i}\"] = whole_df[f\"stock_{item}_lag_{i}\"] / whole_df['strike']\n",
    "\n",
    "# return is calculated by the market closing price, one day backward"
   ]
  },
  {
   "cell_type": "markdown",
   "id": "bad6ff9f",
   "metadata": {},
   "source": [
    "intrinsic value"
   ]
  },
  {
   "cell_type": "code",
   "execution_count": 14,
   "id": "8562ec67",
   "metadata": {},
   "outputs": [],
   "source": [
    "# similar to payoff\n",
    "whole_df['intrinsic_value'] = np.maximum(whole_df['stock_close_price'] - whole_df['strike'], 0) * whole_df['cp_flag_num'] + \\\n",
    "                              np.maximum(whole_df['strike'] - whole_df['stock_close_price'], 0) * (1 - whole_df['cp_flag_num'])"
   ]
  },
  {
   "cell_type": "markdown",
   "id": "5a4fb528",
   "metadata": {},
   "source": [
    "moneyness \n",
    "\n",
    "log transformatino of moneyness"
   ]
  },
  {
   "cell_type": "code",
   "execution_count": 15,
   "id": "0cf49c13",
   "metadata": {},
   "outputs": [
    {
     "name": "stdout",
     "output_type": "stream",
     "text": [
      "The average moneyness of all options is 1.177257113308589\n",
      "\n",
      "\n",
      "The equally wegihted average moneyness of profitable options is 1.1814739348306773\n",
      "The return wegihted average moneyness of profitable options is 1.0120680923195517\n",
      "\n",
      "\n",
      "The equally wegihted average moneyness of non-profitable options is 1.175629030289275\n",
      "The return wegihted average moneyness of non-profitable options is 1.1684126654183273\n",
      "\n",
      "\n",
      "The equally wegihted average moneyness of profitable options based on bid price is 1.1852120994832882\n",
      "The return wegihted average moneyness of profitable options based on bid price is 1.013440276629343\n",
      "\n",
      "\n",
      "The equally wegihted average moneyness of non-profitable options based on bid price is 1.1043712764805775\n",
      "The return wegihted average moneyness of non-profitable options based on bid price is 1.029101312175633\n",
      "\n",
      "\n",
      "The equally wegihted average moneyness of profitable options based on offer price is 1.174007737758525\n",
      "The return wegihted average moneyness of profitable options based on offer price is 1.0109102478157106\n",
      "\n",
      "\n",
      "The equally wegihted average moneyness of non-profitable options based on offer price is 1.178258413586243\n",
      "The return wegihted average moneyness of non-profitable options based on offer price is 1.167842975413095\n",
      "\n",
      "\n",
      "The upper bound of the moneyness is 46.6867, the lower bound is 0.47714216867469883\n"
     ]
    },
    {
     "data": {
      "image/png": "[encoded data removed]",
      "text/plain": [
       "<Figure size 640x480 with 1 Axes>"
      ]
     },
     "metadata": {},
     "output_type": "display_data"
    }
   ],
   "source": [
    "# St/K (market closing price / strike)\n",
    "# log\n",
    "whole_df['moneyness'] = whole_df['stock_close_price'] / whole_df['strike']\n",
    "whole_df['log_moneyness'] = np.log(whole_df['moneyness'])\n",
    "\n",
    "# check if the positive profit centers at ATM\n",
    "print(f\"The average moneyness of all options is {whole_df['moneyness'].mean()}\")\n",
    "print('\\n')\n",
    "print(f\"The equally wegihted average moneyness of profitable options is {whole_df[whole_df['option_return'] > 0]['moneyness'].mean()}\")\n",
    "print(f\"The return wegihted average moneyness of profitable options is {np.average(whole_df[whole_df['option_return'] > 0]['moneyness'], weights=whole_df[whole_df['option_return'] > 0]['option_return'])}\")\n",
    "print('\\n')\n",
    "print(f\"The equally wegihted average moneyness of non-profitable options is {whole_df[whole_df['option_return'] < 0]['moneyness'].mean()}\")\n",
    "print(f\"The return wegihted average moneyness of non-profitable options is {np.average(whole_df[whole_df['option_return'] < 0]['moneyness'], weights=whole_df[whole_df['option_return'] < 0]['option_return'])}\")\n",
    "print('\\n')\n",
    "print(f\"The equally wegihted average moneyness of profitable options based on bid price is {whole_df[whole_df['best_bid_return'] > 0]['moneyness'].mean()}\")\n",
    "print(f\"The return wegihted average moneyness of profitable options based on bid price is {np.average(whole_df[whole_df['best_bid_return'] > 0]['moneyness'], weights=whole_df[whole_df['best_bid_return'] > 0]['best_bid_return'])}\")\n",
    "print('\\n')\n",
    "print(f\"The equally wegihted average moneyness of non-profitable options based on bid price is {whole_df[whole_df['best_bid_return'] < 0]['moneyness'].mean()}\")\n",
    "print(f\"The return wegihted average moneyness of non-profitable options based on bid price is {np.average(whole_df[whole_df['best_bid_return'] < 0]['moneyness'], weights=whole_df[whole_df['best_bid_return'] < 0]['best_bid_return'])}\")\n",
    "print('\\n')\n",
    "print(f\"The equally wegihted average moneyness of profitable options based on offer price is {whole_df[whole_df['best_offer_return'] > 0]['moneyness'].mean()}\")\n",
    "print(f\"The return wegihted average moneyness of profitable options based on offer price is {np.average(whole_df[whole_df['best_offer_return'] > 0]['moneyness'], weights=whole_df[whole_df['best_offer_return'] > 0]['best_offer_return'])}\")\n",
    "print('\\n')\n",
    "print(f\"The equally wegihted average moneyness of non-profitable options based on offer price is {whole_df[whole_df['best_offer_return'] < 0]['moneyness'].mean()}\")\n",
    "print(f\"The return wegihted average moneyness of non-profitable options based on offer price is {np.average(whole_df[whole_df['best_offer_return'] < 0]['moneyness'], weights=whole_df[whole_df['best_offer_return'] < 0]['best_offer_return'])}\")\n",
    "print('\\n')\n",
    "# check the range of 1DTE moneyness\n",
    "print(f\"The upper bound of the moneyness is {whole_df['moneyness'].max()}, the lower bound is {whole_df['moneyness'].min()}\")\n",
    "\n",
    "# draw a graph to show the distribution of the moneyness\n",
    "whole_df['moneyness'].hist(bins=100, range=(0, 4))\n",
    "plt.xlabel('Moneyness')\n",
    "plt.ylabel('Frequency')\n",
    "plt.title('Histogram of Moneyness')\n",
    "plt.show()\n",
    "# so averagingly, the profitable option is ATM"
   ]
  },
  {
   "cell_type": "markdown",
   "id": "a1191270",
   "metadata": {},
   "source": [
    "bid-ask spread\n",
    "\n",
    "bid-ask spread percentage"
   ]
  },
  {
   "cell_type": "code",
   "execution_count": 16,
   "id": "7bc3de18",
   "metadata": {},
   "outputs": [
    {
     "name": "stdout",
     "output_type": "stream",
     "text": [
      "There is no negative value for bid-ask spread: True\n"
     ]
    }
   ],
   "source": [
    "# bid-ask spread is defined as ask - bid\n",
    "whole_df['bid_ask_spread'] = whole_df['best_offer'] - whole_df['best_bid']\n",
    "\n",
    "whole_df['bid_ask_spread_percentage'] = whole_df['bid_ask_spread'] / whole_df['option_price']\n",
    "\n",
    "# check if there is negative value for bid ask spread\n",
    "print(f\"There is no negative value for bid-ask spread: {all(i >= 0 for i in whole_df['bid_ask_spread'])}\")"
   ]
  },
  {
   "cell_type": "markdown",
   "id": "80ba2e20",
   "metadata": {},
   "source": [
    "historical vol and lags"
   ]
  },
  {
   "cell_type": "code",
   "execution_count": 17,
   "id": "f68c4973",
   "metadata": {},
   "outputs": [],
   "source": [
    "# pivot the table and convert the days to cols\n",
    "historical_vol_df_pivot = historical_vol_df.pivot(index='date', columns='days', values='volatility')\n",
    "historical_vol_df_pivot.columns = [f'vol_days_{i}' for i in historical_vol_df_pivot.columns]\n",
    "historical_vol_df_pivot = historical_vol_df_pivot.reset_index()\n",
    "\n",
    "#------------------------------------------------- create lags ---------------------------------------\n",
    "historical_lags = {\n",
    "    'vol_days_10': 0,\n",
    "    'vol_days_14': 0, \n",
    "    'vol_days_30': 0, \n",
    "    'vol_days_60': 0, \n",
    "    'vol_days_91': 0, \n",
    "    'vol_days_122': 0, \n",
    "    'vol_days_152': 0, \n",
    "    'vol_days_182': 0, \n",
    "    'vol_days_273': 0,\n",
    "    'vol_days_365': 0,\n",
    "    'vol_days_547': 0,\n",
    "    'vol_days_730': 0,\n",
    "    'vol_days_1825': 0,\n",
    "}\n",
    "\n",
    "for item, num_lag in historical_lags.items():\n",
    "    for i in range(1, num_lag + 1):\n",
    "        historical_vol_df_pivot[f\"{item}_lag_{i}\"] = historical_vol_df_pivot[item].shift(i)\n",
    "\n",
    "# merge the data frame\n",
    "intermediate_historical_vol_merge_df = pd.merge(whole_df, historical_vol_df_pivot, on='date', how='left')\n",
    "\n",
    "# add all features\n",
    "for i in historical_vol_df_pivot.keys():\n",
    "    whole_df[i] = intermediate_historical_vol_merge_df[i]"
   ]
  },
  {
   "cell_type": "markdown",
   "id": "184fcb7d",
   "metadata": {},
   "source": [
    "implied vol and greeks analysis"
   ]
  },
  {
   "cell_type": "code",
   "execution_count": 18,
   "id": "0d3f04ad",
   "metadata": {},
   "outputs": [],
   "source": [
    "# 5 reasons from OptionMetrics that there is no implied vol\n",
    "\n",
    "# Special settlement\t        Optional\tMarket/data-specific -> no special settlement\n",
    "# Price below intrinsic value\tYes\t        Model requirement\n",
    "# Vega < 0.5\t                Optional\tStability/practicality -> there is vega < 0.5\n",
    "# IV calculation fails\t        Yes\t        Mathematical necessity\n",
    "# Missing underlying price\t    Yes\t        Required input"
   ]
  },
  {
   "cell_type": "code",
   "execution_count": 19,
   "id": "59a879c3",
   "metadata": {},
   "outputs": [],
   "source": [
    "# 3 real reasons for implied vol missing\n",
    "\n",
    "# Price below intrinsic value\tYes\t        Model requirement -------------> we can do something\n",
    "# IV calculation fails\t        Yes\t        Mathematical necessity --------> technical issue that we cannot solve\n",
    "# Missing underlying price\t    Yes\t        Required input ----------------> technical issue that we cannot solve"
   ]
  },
  {
   "cell_type": "code",
   "execution_count": 20,
   "id": "2eb8e83d",
   "metadata": {},
   "outputs": [
    {
     "name": "stdout",
     "output_type": "stream",
     "text": [
      "All the option of oneDTE are all non-special settled: True\n",
      "In the oneDTE data there is vega < 0.5: True\n",
      "The percentage of blank implied vol caused by wrong relation between option price and intrinsic value is: 0.6814\n",
      "0.23191830429076896\n"
     ]
    }
   ],
   "source": [
    "# check the special settlement\n",
    "print(f\"All the option of oneDTE are all non-special settled: {all(int(i) == 0 for i in whole_df['ss_flag'])}\")\n",
    "\n",
    "# check if there is vega < 0.5\n",
    "print(f\"In the oneDTE data there is vega < 0.5: {any(i < 0.5 for i in whole_df['vega'])}\")\n",
    "\n",
    "# check the percentage of blank implied vol caused by wrong price with intrinsic value\n",
    "print(f\"The percentage of blank implied vol caused by wrong relation between option price and intrinsic value is: \" + \n",
    "      f\"{len(whole_df[whole_df['option_price'] < whole_df['intrinsic_value']])/len(whole_df[whole_df['impl_volatility'].isna()]):.4f}\")\n",
    "\n",
    "print(len(whole_df[whole_df['option_price'] < whole_df['intrinsic_value']])/len(whole_df))\n"
   ]
  },
  {
   "cell_type": "markdown",
   "id": "a9ead21b",
   "metadata": {},
   "source": [
    "forward price"
   ]
  },
  {
   "cell_type": "code",
   "execution_count": 21,
   "id": "6c0e54e3",
   "metadata": {},
   "outputs": [
    {
     "name": "stdout",
     "output_type": "stream",
     "text": [
      "There is no missing value in forward price: False\n",
      "\n",
      "\n",
      "There is no missing value in forward price: True\n"
     ]
    }
   ],
   "source": [
    "# align the column names to be merged\n",
    "forward_prices_df['am_settlement_num'] = forward_prices_df['AMSettlement']\n",
    "forward_prices_df['exdate'] = forward_prices_df['expiration']\n",
    "\n",
    "# get the forward price data frame to be merged\n",
    "forward_prices_df_to_be_merged = forward_prices_df[['date', 'exdate', 'am_settlement_num', 'ForwardPrice']]\n",
    "\n",
    "# merge to get the intermediate merged data\n",
    "intermediate_forward_prices_df_merge = pd.merge(whole_df, forward_prices_df_to_be_merged, on=['date', 'exdate', 'am_settlement_num'], how='left')\n",
    "\n",
    "# assign the forward price to the whole_df\n",
    "whole_df['filled_forward_price'] = intermediate_forward_prices_df_merge['ForwardPrice']\n",
    "\n",
    "# check if there's any missing value\n",
    "print(f\"There is no missing value in forward price: {not whole_df['filled_forward_price'].isna().any()}\")\n",
    "print('\\n')\n",
    "\n",
    "# so there is missing value, let's fill it in\n",
    "# first of all, save all the missing forward price for later analysis\n",
    "file_path = os.getcwd() + '\\\\' + 'intermediate_files' + '\\\\' + 'missing_forward_price_df.csv'\n",
    "whole_df[pd.isna(whole_df['filled_forward_price'])].to_csv(file_path, index=False)\n",
    "\n",
    "# second, fill in the values\n",
    "historical_forward_price = {}\n",
    "\n",
    "for index, i in whole_df.iterrows():\n",
    "    if not whole_df['filled_forward_price'].isna().any():\n",
    "        break\n",
    "    \n",
    "    if pd.isna(i['filled_forward_price']):\n",
    "\n",
    "        if (i['date'], i['exdate']) in historical_forward_price.keys():\n",
    "            whole_df.at[index, 'filled_forward_price'] = historical_forward_price[(i['date'], i['exdate'])]\n",
    "\n",
    "        else:\n",
    "            for index_2, j in forward_prices_df.iterrows():\n",
    "                if (\n",
    "                    i['date'] == j['date'] and \n",
    "                    i['exdate'] == j['expiration']\n",
    "                ):\n",
    "                    whole_df.at[index, 'filled_forward_price'] = j['ForwardPrice']\n",
    "                    historical_forward_price[(i['date'], i['exdate'])] = j['ForwardPrice']\n",
    "                    break\n",
    "\n",
    "# final check\n",
    "print(f\"There is no missing value in forward price: {not whole_df['filled_forward_price'].isna().any()}\")"
   ]
  },
  {
   "cell_type": "markdown",
   "id": "a1bc9787",
   "metadata": {},
   "source": [
    "Fama French 5 factors\n",
    "\n",
    "risk free rate"
   ]
  },
  {
   "cell_type": "code",
   "execution_count": 22,
   "id": "8de57d49",
   "metadata": {},
   "outputs": [],
   "source": [
    "# create the merged data frame\n",
    "fama_french_df_merge = pd.merge(whole_df, fama_french_factors_df, on='date', how='left')\n",
    "\n",
    "# assgin the new cols to the current whole_df\n",
    "features = ['mktrf', 'smb', 'hml', 'rmw', 'cma', 'umd', 'rf']\n",
    "\n",
    "for feature in features:\n",
    "    whole_df[feature] = fama_french_df_merge[feature]"
   ]
  },
  {
   "cell_type": "markdown",
   "id": "a206cb55",
   "metadata": {},
   "source": [
    "annualized risk free rate"
   ]
  },
  {
   "cell_type": "code",
   "execution_count": 23,
   "id": "d00eb8d6",
   "metadata": {},
   "outputs": [],
   "source": [
    "# annualize the rf by doing the compounded rate accumulation\n",
    "whole_df['rf_annual'] = (1 + whole_df['rf'])**253 - 1"
   ]
  },
  {
   "cell_type": "markdown",
   "id": "0698786c",
   "metadata": {},
   "source": [
    "vix"
   ]
  },
  {
   "cell_type": "code",
   "execution_count": 24,
   "id": "5bf46413",
   "metadata": {},
   "outputs": [
    {
     "name": "stdout",
     "output_type": "stream",
     "text": [
      "There is no missing value for the vix: True\n"
     ]
    }
   ],
   "source": [
    "# extract the vix from cboe index\n",
    "features = ['vixo', 'vixh', 'vixl', 'vix']\n",
    "cboe_index_df = cboe_index_df.drop_duplicates(subset='Date')\n",
    "cboe_index_df['date'] = cboe_index_df['Date']\n",
    "\n",
    "# get the merged data frame\n",
    "intermediate_vix_df_merge = pd.merge(whole_df, cboe_index_df[features + ['date'] ], on='date', how='left')\n",
    "\n",
    "# assign the cols to whole_df\n",
    "for feature in features:\n",
    "    whole_df[feature] = intermediate_vix_df_merge[feature]\n",
    "\n",
    "print(f\"There is no missing value for the vix: {not whole_df[features].isna().any().any()}\")"
   ]
  },
  {
   "cell_type": "markdown",
   "id": "6f8f7610",
   "metadata": {},
   "source": [
    "volume and open interest"
   ]
  },
  {
   "cell_type": "code",
   "execution_count": 25,
   "id": "f6d34374",
   "metadata": {},
   "outputs": [],
   "source": [
    "# fill in the total flag by \"T\"\n",
    "volume_open_interest_df = volume_open_interest_df.fillna({'cp_flag': 'T'})\n",
    "\n",
    "# pivot th table, change the name of cols and reset the index\n",
    "volume_open_interest_df_pivot = volume_open_interest_df.pivot(index='date', columns='cp_flag', values=['volume', 'open_interest'])\n",
    "volume_open_interest_df_pivot.columns = ['call_total_volume', 'put_total_volume', 'total_volume', 'call_total_open_interest', 'put_total_open_interest', 'total_open_interest']\n",
    "volume_open_interest_df_pivot = volume_open_interest_df_pivot.reset_index()\n",
    "\n",
    "# merge the pivot table with whole_df to get the merged dataset\n",
    "volume_open_interest_df_pivot_merged = pd.merge(whole_df, volume_open_interest_df_pivot, on='date', how='left')\n",
    "\n",
    "# assign the columns to the whole_df\n",
    "for i in ['call_total_volume', 'put_total_volume', 'total_volume', 'call_total_open_interest', 'put_total_open_interest', 'total_open_interest']:\n",
    "    whole_df[i] = volume_open_interest_df_pivot_merged[i]"
   ]
  },
  {
   "cell_type": "markdown",
   "id": "31262ea5",
   "metadata": {},
   "source": [
    "--------------------------------------------------------generate the file with all features--------------------------------------"
   ]
  },
  {
   "cell_type": "code",
   "execution_count": 26,
   "id": "ce1ae0e4",
   "metadata": {},
   "outputs": [],
   "source": [
    "file_path = os.getcwd() + '\\\\' + 'intermediate_files' + '\\\\' + 'whole_df.csv'\n",
    "whole_df.to_csv(file_path, index=False)"
   ]
  },
  {
   "cell_type": "markdown",
   "id": "91310e9a",
   "metadata": {},
   "source": [
    "# Call and put atm options"
   ]
  },
  {
   "cell_type": "code",
   "execution_count": 27,
   "id": "15c9a586",
   "metadata": {},
   "outputs": [
    {
     "name": "stdout",
     "output_type": "stream",
     "text": [
      "{'2007-10-04', '2007-11-01', '2004-03-19', '2002-01-18', '2003-09-19', '2001-01-19', '2006-11-17', '2001-06-15', '2000-09-15', '1998-09-18', '2008-02-21', '2007-06-15', '2005-12-08', '2007-10-11'}\n",
      "The dates, settlement values, moneyness and strike price are corresponding: True\n",
      "308 308 1114 1114\n",
      "\n",
      "\n",
      "There are no missing value for implied vol or greeks for pm call: True\n",
      "There are no missing value for implied vol or greeks for pm put: True\n",
      "\n",
      "\n",
      "The time value is never negative for pm call: True\n",
      "The time value is never negative for pm put: True\n",
      "\n",
      "\n",
      "The time value is never negative for pm call: True\n",
      "The time value is never negative for pm put: True\n"
     ]
    }
   ],
   "source": [
    "# split into am, pm call options and put options\n",
    "am_call_df = whole_df[(whole_df['cp_flag_num'] == 1) & (whole_df['am_settlement_num'] == 1)]\n",
    "am_put_df = whole_df[(whole_df['cp_flag_num'] == 0) & (whole_df['am_settlement_num'] == 1)]\n",
    "\n",
    "pm_call_df = whole_df[(whole_df['cp_flag_num'] == 1) & (whole_df['am_settlement_num'] == 0)]\n",
    "pm_put_df = whole_df[(whole_df['cp_flag_num'] == 0) & (whole_df['am_settlement_num'] == 0)]\n",
    "\n",
    "# for both call and put, find the option moneyness closet to 1\n",
    "am_call_atm_df = am_call_df.groupby('exdate').apply(find_atm_option, include_groups=False).reset_index(drop=True)\n",
    "am_put_atm_df = am_put_df.groupby('exdate').apply(find_atm_option, include_groups=False).reset_index(drop=True)\n",
    "\n",
    "pm_call_atm_df = pm_call_df.groupby('exdate').apply(find_atm_option, include_groups=False).reset_index(drop=True)\n",
    "pm_put_atm_df = pm_put_df.groupby('exdate').apply(find_atm_option, include_groups=False).reset_index(drop=True)\n",
    "\n",
    "print((set(am_call_atm_df['date']) | set(am_put_atm_df['date'])) - (set(am_call_atm_df['date']) & set(am_put_atm_df['date'])))\n",
    "\n",
    "# check if the dates and settlement value correspond or not\n",
    "is_true = (\n",
    "    pm_call_atm_df['date'].equals(pm_put_atm_df['date']) and \n",
    "    pm_call_atm_df['settlement_value'].equals(pm_put_atm_df['settlement_value']) and \n",
    "    pm_call_atm_df['strike'].equals(pm_put_atm_df['strike']) and \n",
    "    pm_call_atm_df['moneyness'].equals(pm_put_atm_df['moneyness'])\n",
    ")\n",
    "print(f\"The dates, settlement values, moneyness and strike price are corresponding: {is_true}\")\n",
    "print(len(am_call_atm_df), len(am_put_atm_df), len(pm_call_atm_df), len(pm_put_atm_df))\n",
    "print('\\n')\n",
    "# check if all the greeks and vol are not blank\n",
    "print(f\"There are no missing value for implied vol or greeks for pm call: {not pm_call_atm_df['delta'].isna().any()}\")\n",
    "print(f\"There are no missing value for implied vol or greeks for pm put: {not pm_put_atm_df['delta'].isna().any()}\")\n",
    "print('\\n')\n",
    "# check the intrinsic value: the intrinsic value should be always smaller than the price\n",
    "print(f\"The time value is never negative for pm call: {all(i > 0 for i in (pm_call_atm_df['option_price'] - pm_call_atm_df['intrinsic_value']))}\")\n",
    "print(f\"The time value is never negative for pm put: {all(i > 0 for i in (pm_put_atm_df['option_price'] - pm_put_atm_df['intrinsic_value']))}\")\n",
    "print('\\n')\n",
    "# this check is for best bid\n",
    "print(f\"The time value is never negative for pm call: {all(i > 0 for i in (pm_call_atm_df['best_bid'] - pm_call_atm_df['intrinsic_value']))}\")\n",
    "print(f\"The time value is never negative for pm put: {all(i > 0 for i in (pm_put_atm_df['best_bid'] - pm_put_atm_df['intrinsic_value']))}\")"
   ]
  },
  {
   "cell_type": "code",
   "execution_count": 28,
   "id": "c21a6394",
   "metadata": {},
   "outputs": [],
   "source": [
    "# we choose PM settlement atm options"
   ]
  },
  {
   "cell_type": "code",
   "execution_count": 29,
   "id": "b50cc54c",
   "metadata": {},
   "outputs": [
    {
     "name": "stdout",
     "output_type": "stream",
     "text": [
      "True\n"
     ]
    }
   ],
   "source": [
    "print(\n",
    "    all(pm_call_atm_df['best_bid'] > 0) and \n",
    "    all(pm_call_atm_df['best_offer'] > 0) and\n",
    "    all(pm_put_atm_df['best_bid'] > 0) and \n",
    "    all(pm_put_atm_df['best_offer'] > 0)\n",
    ")"
   ]
  },
  {
   "cell_type": "markdown",
   "id": "f281abed",
   "metadata": {},
   "source": [
    "analysis of the pm ATM options"
   ]
  },
  {
   "cell_type": "code",
   "execution_count": 30,
   "id": "2fee72fe",
   "metadata": {},
   "outputs": [
    {
     "name": "stdout",
     "output_type": "stream",
     "text": [
      "The average moneyness of call atm options is: 0.9999933747856604\n",
      "The average moneyness of put atm options is: 0.9999933747856604\n",
      "\n",
      "\n",
      "The std moneyness of call atm options is: 0.0005732550427937429\n",
      "The std moneyness of put atm options is: 0.0005732550427937429\n",
      "\n",
      "\n",
      "The sn ratio moneyness of call atm options is: 1744.412696157403\n",
      "The sn ratio moneyness of put atm options is: 1744.412696157403\n",
      "\n",
      "\n",
      "The average return of call atm options is: 0.09745454920930012\n",
      "The average return of put atm options is: -0.10498683117486612\n",
      "\n",
      "\n",
      "The average return of call atm options is: 1.450708802887576\n",
      "The average return of put atm options is: 1.6184377873479951\n",
      "\n",
      "\n"
     ]
    }
   ],
   "source": [
    "# the average of the moneyness\n",
    "print(f\"The average moneyness of call atm options is: {pm_call_atm_df['moneyness'].mean()}\")\n",
    "print(f\"The average moneyness of put atm options is: {pm_put_atm_df['moneyness'].mean()}\")\n",
    "print('\\n')\n",
    "# the std\n",
    "print(f\"The std moneyness of call atm options is: {pm_call_atm_df['moneyness'].std()}\")\n",
    "print(f\"The std moneyness of put atm options is: {pm_put_atm_df['moneyness'].std()}\")\n",
    "print('\\n')\n",
    "# signal noise ratio\n",
    "print(f\"The sn ratio moneyness of call atm options is: {pm_call_atm_df['moneyness'].mean()/pm_call_atm_df['moneyness'].std()}\")\n",
    "print(f\"The sn ratio moneyness of put atm options is: {pm_put_atm_df['moneyness'].mean()/pm_put_atm_df['moneyness'].std()}\")\n",
    "print('\\n')\n",
    "# the average return is\n",
    "print(f\"The average return of call atm options is: {pm_call_atm_df['option_return'].mean()}\")\n",
    "print(f\"The average return of put atm options is: {pm_put_atm_df['option_return'].mean()}\")\n",
    "print('\\n')\n",
    "# the std of return is \n",
    "print(f\"The average return of call atm options is: {pm_call_atm_df['option_return'].std()}\")\n",
    "print(f\"The average return of put atm options is: {pm_put_atm_df['option_return'].std()}\")\n",
    "print('\\n')\n"
   ]
  },
  {
   "cell_type": "markdown",
   "id": "ae481ea7",
   "metadata": {},
   "source": [
    "greeks and implied vol"
   ]
  },
  {
   "cell_type": "code",
   "execution_count": 31,
   "id": "abedbf26",
   "metadata": {},
   "outputs": [],
   "source": [
    "# keep them all"
   ]
  },
  {
   "cell_type": "markdown",
   "id": "0f7af74a",
   "metadata": {},
   "source": [
    "time value"
   ]
  },
  {
   "cell_type": "code",
   "execution_count": 32,
   "id": "576a7094",
   "metadata": {},
   "outputs": [
    {
     "name": "stdout",
     "output_type": "stream",
     "text": [
      "All time values are positive: True\n"
     ]
    }
   ],
   "source": [
    "# time value = option - intrinsic value\n",
    "pm_call_atm_df['call_time_value'] = pm_call_atm_df['option_price'] - pm_call_atm_df['intrinsic_value']\n",
    "pm_put_atm_df['put_time_value'] = pm_put_atm_df['option_price'] - pm_put_atm_df['intrinsic_value']\n",
    "\n",
    "# check if all the time values are positive\n",
    "print(f\"All time values are positive: {all(pm_call_atm_df['call_time_value'] > 0) and all(pm_put_atm_df['put_time_value'] > 0)}\")"
   ]
  },
  {
   "cell_type": "markdown",
   "id": "1a3370b5",
   "metadata": {},
   "source": [
    "log transformation of scaled time value"
   ]
  },
  {
   "cell_type": "code",
   "execution_count": 33,
   "id": "71d4fa5b",
   "metadata": {},
   "outputs": [],
   "source": [
    "# log transformation of time value / K\n",
    "pm_call_atm_df['log_call_time_value'] = np.log(pm_call_atm_df['call_time_value']/pm_call_atm_df['strike'])\n",
    "pm_put_atm_df['log_put_time_value'] = np.log(pm_put_atm_df['put_time_value']/pm_put_atm_df['strike'])"
   ]
  },
  {
   "cell_type": "markdown",
   "id": "e15a6f04",
   "metadata": {},
   "source": [
    "--------------------------------------------generate the two atm option files-------------------------------------------"
   ]
  },
  {
   "cell_type": "code",
   "execution_count": 34,
   "id": "beecc9c0",
   "metadata": {},
   "outputs": [],
   "source": [
    "file_path = os.getcwd() + '\\\\' + 'intermediate_files' + '\\\\' + 'call_atm_option_df.csv'\n",
    "pm_call_atm_df.to_csv(file_path, index=False)\n",
    "\n",
    "file_path = os.getcwd() + '\\\\' + 'intermediate_files' + '\\\\' + 'put_atm_option_df.csv'\n",
    "pm_put_atm_df.to_csv(file_path, index=False)"
   ]
  },
  {
   "cell_type": "markdown",
   "id": "a9bf35eb",
   "metadata": {},
   "source": [
    "# Straddle"
   ]
  },
  {
   "cell_type": "code",
   "execution_count": 35,
   "id": "0c77cd5d",
   "metadata": {},
   "outputs": [],
   "source": [
    "# filter the ATM put columns\n",
    "unique_features = [\n",
    "    'best_bid', \n",
    "    'best_offer', \n",
    "    'volume',\n",
    "    'open_interest', \n",
    "    'option_price',\n",
    "    'scaled_option_price', \n",
    "    'scaled_best_bid',\n",
    "    'scaled_best_offer',\n",
    "    'intrinsic_value', \n",
    "    'bid_ask_spread',\n",
    "    'bid_ask_spread_percentage', \n",
    "]\n",
    "put_features = FEATURES_GREEKS + FEATURES_IMPLIED_VOL + unique_features + ['payoff']\n",
    "\n",
    "for i in put_features:\n",
    "    pm_put_atm_df[f\"put_{i}\"] = pm_put_atm_df[i]\n",
    "\n",
    "straddle_df = pd.concat([pm_call_atm_df, pm_put_atm_df[FEATURES_STRADDLE_PUT_PAYOFF]], axis=1)"
   ]
  },
  {
   "cell_type": "markdown",
   "id": "3d4480e1",
   "metadata": {},
   "source": [
    "difference between implied vols"
   ]
  },
  {
   "cell_type": "code",
   "execution_count": 36,
   "id": "c5c4977b",
   "metadata": {},
   "outputs": [],
   "source": [
    "straddle_df['implied_vol_diff'] = straddle_df['impl_volatility'] - straddle_df['put_impl_volatility']"
   ]
  },
  {
   "cell_type": "markdown",
   "id": "16db8673",
   "metadata": {},
   "source": [
    "average implied vols"
   ]
  },
  {
   "cell_type": "code",
   "execution_count": 37,
   "id": "cdc745fe",
   "metadata": {},
   "outputs": [],
   "source": [
    "straddle_df['average_implied_vol'] = (straddle_df['impl_volatility'] + straddle_df['put_impl_volatility']) / 2"
   ]
  },
  {
   "cell_type": "markdown",
   "id": "7df73b3c",
   "metadata": {},
   "source": [
    "volume summation"
   ]
  },
  {
   "cell_type": "code",
   "execution_count": 38,
   "id": "f64b10e4",
   "metadata": {},
   "outputs": [],
   "source": [
    "straddle_df['volume_summation'] =  straddle_df['volume'] + straddle_df['put_volume']"
   ]
  },
  {
   "cell_type": "markdown",
   "id": "0be87696",
   "metadata": {},
   "source": [
    "open interest summation"
   ]
  },
  {
   "cell_type": "code",
   "execution_count": 39,
   "id": "9399521f",
   "metadata": {},
   "outputs": [],
   "source": [
    "straddle_df['open_interest_summation'] =  straddle_df['open_interest'] + straddle_df['put_open_interest']"
   ]
  },
  {
   "cell_type": "markdown",
   "id": "d4eeeb7e",
   "metadata": {},
   "source": [
    "average bid ask spread\n",
    "\n",
    "average bid ask spread percentage"
   ]
  },
  {
   "cell_type": "code",
   "execution_count": 40,
   "id": "bf1121e6",
   "metadata": {},
   "outputs": [],
   "source": [
    "straddle_df['average_bid_ask_spread'] =  straddle_df['bid_ask_spread'] + straddle_df['put_bid_ask_spread']\n",
    "straddle_df['average_bid_ask_spread_percentage'] =  straddle_df['bid_ask_spread_percentage'] + straddle_df['put_bid_ask_spread_percentage']"
   ]
  },
  {
   "cell_type": "markdown",
   "id": "bcc41f33",
   "metadata": {},
   "source": [
    "historical vol - implied vol"
   ]
  },
  {
   "cell_type": "code",
   "execution_count": 41,
   "id": "76f3d48a",
   "metadata": {},
   "outputs": [],
   "source": [
    "for i in FEATURES_HISTORICAL_VOL:\n",
    "    straddle_df[f\"{i}_minus_implied_vol\"] = straddle_df[i] - straddle_df['average_implied_vol']"
   ]
  },
  {
   "cell_type": "markdown",
   "id": "fa777bc5",
   "metadata": {},
   "source": [
    "straddle total price\n",
    "\n",
    "straddle total best offer price\n",
    "\n",
    "straddle total best bid price\n",
    "\n",
    "straddle total payoff\n",
    "\n",
    "straddle return\n",
    "\n",
    "straddle best offer return\n",
    "\n",
    "straddle best bid return"
   ]
  },
  {
   "cell_type": "code",
   "execution_count": 42,
   "id": "e761cdcf",
   "metadata": {},
   "outputs": [],
   "source": [
    "straddle_df['total_price'] = straddle_df['option_price'] + straddle_df['put_option_price']\n",
    "\n",
    "straddle_df['total_best_offer'] = straddle_df['best_offer'] + straddle_df['put_best_offer']\n",
    "\n",
    "straddle_df['total_best_bid'] = straddle_df['best_bid'] + straddle_df['put_best_bid']\n"
   ]
  },
  {
   "cell_type": "code",
   "execution_count": 43,
   "id": "352e63df",
   "metadata": {},
   "outputs": [],
   "source": [
    "straddle_df['total_payoff'] = straddle_df['payoff'] + straddle_df['put_payoff']\n",
    "\n",
    "straddle_df['straddle_return'] = (straddle_df['total_payoff'] - straddle_df['total_price']) / straddle_df['total_price']\n",
    "\n",
    "straddle_df['straddle_offer_return'] = (straddle_df['total_payoff'] - straddle_df['total_best_offer']) / straddle_df['total_best_offer']\n",
    "\n",
    "straddle_df['straddle_bid_return'] = (straddle_df['total_payoff'] - straddle_df['total_best_bid']) / straddle_df['total_best_bid']"
   ]
  },
  {
   "cell_type": "code",
   "execution_count": 44,
   "id": "801138bd",
   "metadata": {},
   "outputs": [
    {
     "name": "stdout",
     "output_type": "stream",
     "text": [
      "True\n"
     ]
    }
   ],
   "source": [
    "print(all(straddle_df['total_price'] > 0) and all(straddle_df['total_best_offer'] > 0) and all(straddle_df['total_best_bid'] > 0))"
   ]
  },
  {
   "cell_type": "code",
   "execution_count": 45,
   "id": "9ecc0e1c",
   "metadata": {},
   "outputs": [
    {
     "name": "stdout",
     "output_type": "stream",
     "text": [
      "-0.015313951058612876\n"
     ]
    }
   ],
   "source": [
    "print(straddle_df['straddle_return'].mean())"
   ]
  },
  {
   "cell_type": "markdown",
   "id": "99a327bb",
   "metadata": {},
   "source": [
    "-------------------------------------------------generate the straddle file-------------------------------------------"
   ]
  },
  {
   "cell_type": "code",
   "execution_count": 46,
   "id": "23a3a624",
   "metadata": {},
   "outputs": [],
   "source": [
    "file_path = os.getcwd() + '\\\\' + 'intermediate_files' + '\\\\' + 'straddle_df.csv'\n",
    "straddle_df.to_csv(file_path, index=False)"
   ]
  }
 ],
 "metadata": {
  "kernelspec": {
   "display_name": ".venv",
   "language": "python",
   "name": "python3"
  },
  "language_info": {
   "codemirror_mode": {
    "name": "ipython",
    "version": 3
   },
   "file_extension": ".py",
   "mimetype": "text/x-python",
   "name": "python",
   "nbconvert_exporter": "python",
   "pygments_lexer": "ipython3",
   "version": "3.10.10"
  }
 },
 "nbformat": 4,
 "nbformat_minor": 5
}
