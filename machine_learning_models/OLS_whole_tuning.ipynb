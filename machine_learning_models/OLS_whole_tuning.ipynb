{
 "cells": [
  {
   "cell_type": "code",
   "execution_count": 1,
   "id": "fd6b1719",
   "metadata": {},
   "outputs": [],
   "source": [
    "import optuna\n",
    "import json\n",
    "import numpy as np\n",
    "import pandas as pd\n",
    "from feature_settings_ import *\n",
    "from sklearn.linear_model import LinearRegression\n",
    "from sklearn.preprocessing import StandardScaler, MinMaxScaler, MaxAbsScaler, RobustScaler\n",
    "from sklearn.compose import ColumnTransformer\n",
    "from sklearn.model_selection import TimeSeriesSplit, train_test_split\n",
    "from sklearn.metrics import root_mean_squared_error\n"
   ]
  },
  {
   "cell_type": "code",
   "execution_count": null,
   "id": "d2da9390",
   "metadata": {},
   "outputs": [
    {
     "name": "stdout",
     "output_type": "stream",
     "text": [
      "--- Your prediction target is [option_return] ---\n"
     ]
    }
   ],
   "source": [
    "# ✅ 1. Load your data\n",
    "# Assume your dataset is a pandas DataFrame\n",
    "# and the target column is named 'option_return'\n",
    "# Example: df = pd.read_csv('your_data.csv')\n",
    "df = pd.read_csv(r\"C:\\Users\\55479\\PycharmProjects\\MS_thesis\\datasets\\whole_df_all_features_simple_option_return.csv\") # open the time series data\n",
    "\n",
    "X = df[df.columns[:-1]]     # your features\n",
    "y = df['option_return']     # your target\n",
    "\n",
    "print(f\"--- Your prediction target is [{df.columns[-1]}] ---\") # print the target to check\n",
    "\n",
    "# ✅ 2. Split into train and test sets (e.g., 80/20)\n",
    "X_full_train, X_test, y_full_train, y_test = train_test_split(\n",
    "    X, y, test_size=0.2, shuffle=False  # shuffle=False to preserve time order\n",
    ")\n"
   ]
  },
  {
   "cell_type": "code",
   "execution_count": null,
   "id": "dd200781",
   "metadata": {},
   "outputs": [],
   "source": [
    "# ✅ 3. Set is_tuning_done switch\n",
    "is_tuning_done = True"
   ]
  },
  {
   "cell_type": "code",
   "execution_count": null,
   "id": "9bb5b316",
   "metadata": {},
   "outputs": [
    {
     "name": "stderr",
     "output_type": "stream",
     "text": [
      "[I 2025-07-14 16:06:26,327] A new study created in memory with name: no-name-bdb556a9-b671-4fef-aa49-5ddf164a78da\n"
     ]
    },
    {
     "data": {
      "application/vnd.jupyter.widget-view+json": {
       "model_id": "42e3fee371ac4152afe925bec1840833",
       "version_major": 2,
       "version_minor": 0
      },
      "text/plain": [
       "  0%|          | 0/25 [00:00<?, ?it/s]"
      ]
     },
     "metadata": {},
     "output_type": "display_data"
    },
    {
     "name": "stdout",
     "output_type": "stream",
     "text": [
      "[I 2025-07-14 16:06:35,017] Trial 0 finished with value: 1.1429679682922933 and parameters: {'scaler': 'minmax', 'target_scaler': 'maxabs'}. Best is trial 0 with value: 1.1429679682922933.\n",
      "[I 2025-07-14 16:06:41,331] Trial 1 finished with value: 1.1429679682922933 and parameters: {'scaler': 'minmax', 'target_scaler': 'maxabs'}. Best is trial 0 with value: 1.1429679682922933.\n",
      "[I 2025-07-14 16:06:48,067] Trial 2 finished with value: 1.1429679682923228 and parameters: {'scaler': 'standard', 'target_scaler': 'standard'}. Best is trial 0 with value: 1.1429679682922933.\n",
      "[I 2025-07-14 16:06:53,106] Trial 3 finished with value: 1.1418119597139182 and parameters: {'scaler': 'none', 'target_scaler': 'standard'}. Best is trial 3 with value: 1.1418119597139182.\n",
      "[I 2025-07-14 16:07:00,946] Trial 4 finished with value: 1.142967968292352 and parameters: {'scaler': 'robust', 'target_scaler': 'standard'}. Best is trial 3 with value: 1.1418119597139182.\n",
      "[I 2025-07-14 16:07:08,143] Trial 5 finished with value: 1.1429679682923228 and parameters: {'scaler': 'standard', 'target_scaler': 'standard'}. Best is trial 3 with value: 1.1418119597139182.\n",
      "[I 2025-07-14 16:07:14,443] Trial 6 finished with value: 1.142967968292276 and parameters: {'scaler': 'maxabs', 'target_scaler': 'none'}. Best is trial 3 with value: 1.1418119597139182.\n",
      "[I 2025-07-14 16:07:21,464] Trial 7 finished with value: 1.1429679682920129 and parameters: {'scaler': 'robust', 'target_scaler': 'minmax'}. Best is trial 3 with value: 1.1418119597139182.\n",
      "[I 2025-07-14 16:07:30,880] Trial 8 finished with value: 1.1429679682922995 and parameters: {'scaler': 'standard', 'target_scaler': 'robust'}. Best is trial 3 with value: 1.1418119597139182.\n",
      "[I 2025-07-14 16:07:36,699] Trial 9 finished with value: 1.1418119598211511 and parameters: {'scaler': 'none', 'target_scaler': 'minmax'}. Best is trial 3 with value: 1.1418119597139182.\n",
      "[I 2025-07-14 16:07:44,707] Trial 10 finished with value: 1.141811959445759 and parameters: {'scaler': 'none', 'target_scaler': 'robust'}. Best is trial 10 with value: 1.141811959445759.\n",
      "[I 2025-07-14 16:07:50,485] Trial 11 finished with value: 1.141811959445759 and parameters: {'scaler': 'none', 'target_scaler': 'robust'}. Best is trial 10 with value: 1.141811959445759.\n",
      "[I 2025-07-14 16:07:56,969] Trial 12 finished with value: 1.141811959445759 and parameters: {'scaler': 'none', 'target_scaler': 'robust'}. Best is trial 10 with value: 1.141811959445759.\n",
      "[I 2025-07-14 16:08:02,126] Trial 13 finished with value: 1.141811959445759 and parameters: {'scaler': 'none', 'target_scaler': 'robust'}. Best is trial 10 with value: 1.141811959445759.\n",
      "[I 2025-07-14 16:08:07,457] Trial 14 finished with value: 1.141811959445759 and parameters: {'scaler': 'none', 'target_scaler': 'robust'}. Best is trial 10 with value: 1.141811959445759.\n",
      "[I 2025-07-14 16:08:12,612] Trial 15 finished with value: 1.141811959445759 and parameters: {'scaler': 'none', 'target_scaler': 'robust'}. Best is trial 10 with value: 1.141811959445759.\n",
      "[I 2025-07-14 16:08:21,973] Trial 16 finished with value: 1.142967968292276 and parameters: {'scaler': 'maxabs', 'target_scaler': 'none'}. Best is trial 10 with value: 1.141811959445759.\n",
      "[I 2025-07-14 16:08:30,041] Trial 17 finished with value: 1.141811959445759 and parameters: {'scaler': 'none', 'target_scaler': 'robust'}. Best is trial 10 with value: 1.141811959445759.\n",
      "[I 2025-07-14 16:08:35,443] Trial 18 finished with value: 1.141811959445759 and parameters: {'scaler': 'none', 'target_scaler': 'robust'}. Best is trial 10 with value: 1.141811959445759.\n",
      "[I 2025-07-14 16:08:42,077] Trial 19 finished with value: 1.1429679682923202 and parameters: {'scaler': 'minmax', 'target_scaler': 'robust'}. Best is trial 10 with value: 1.141811959445759.\n",
      "[I 2025-07-14 16:08:49,644] Trial 20 finished with value: 1.1429679682920129 and parameters: {'scaler': 'robust', 'target_scaler': 'minmax'}. Best is trial 10 with value: 1.141811959445759.\n",
      "[I 2025-07-14 16:08:54,914] Trial 21 finished with value: 1.141811959445759 and parameters: {'scaler': 'none', 'target_scaler': 'robust'}. Best is trial 10 with value: 1.141811959445759.\n",
      "[I 2025-07-14 16:09:00,243] Trial 22 finished with value: 1.141811959445759 and parameters: {'scaler': 'none', 'target_scaler': 'robust'}. Best is trial 10 with value: 1.141811959445759.\n",
      "[I 2025-07-14 16:09:05,493] Trial 23 finished with value: 1.141811959445759 and parameters: {'scaler': 'none', 'target_scaler': 'robust'}. Best is trial 10 with value: 1.141811959445759.\n",
      "[I 2025-07-14 16:09:12,720] Trial 24 finished with value: 1.1429679682923193 and parameters: {'scaler': 'maxabs', 'target_scaler': 'robust'}. Best is trial 10 with value: 1.141811959445759.\n",
      "Best params: {'scaler': 'none', 'target_scaler': 'robust'}\n",
      "Best rmse: 1.141811959445759\n"
     ]
    }
   ],
   "source": [
    "# ✅ 4. Tune hyperparameters\n",
    "def objective(trial):\n",
    "    # --------- Choose scaler for data ------------\n",
    "    scaler_name = trial.suggest_categorical(\"scaler\", [\"standard\", \"minmax\", \"maxabs\", \"robust\", \"none\"])\n",
    "    scaler = {\n",
    "        \"standard\": StandardScaler(),\n",
    "        \"minmax\": MinMaxScaler(),\n",
    "        \"maxabs\": MaxAbsScaler(),\n",
    "        \"robust\": RobustScaler(),\n",
    "        \"none\": None\n",
    "    }[scaler_name]\n",
    "\n",
    "    target_scaler_name = trial.suggest_categorical(\"target_scaler\", [\"standard\", \"minmax\", \"maxabs\", \"robust\", \"none\"])\n",
    "    target_scaler = {\n",
    "        \"standard\": StandardScaler(),\n",
    "        \"minmax\": MinMaxScaler(),\n",
    "        \"maxabs\": MaxAbsScaler(),\n",
    "        \"robust\": RobustScaler(),\n",
    "        \"none\": None\n",
    "    }[target_scaler_name]\n",
    "\n",
    "    # --------- Time Series Cross Validation ----------\n",
    "    tscv = TimeSeriesSplit(n_splits=5)\n",
    "    rmses = []\n",
    "\n",
    "    for train_idx, val_idx in tscv.split(X_full_train):\n",
    "        X_train, X_val = X_full_train.iloc[train_idx], X_full_train.iloc[val_idx]\n",
    "        y_train, y_val = y_full_train.iloc[train_idx], y_full_train.iloc[val_idx]\n",
    "\n",
    "        # --------- Apply scaling if needed ----------\n",
    "        if scaler:\n",
    "            ct = ColumnTransformer(\n",
    "                transformers=[('scale', scaler, FEATURES_WHOLE_SCALED)],\n",
    "                remainder='passthrough'  # leave all other columns untouched\n",
    "            )\n",
    "            X_train_scaled = pd.DataFrame(\n",
    "                ct.fit_transform(X_train),\n",
    "                index=X_train.index\n",
    "            )\n",
    "            X_val_scaled = pd.DataFrame(\n",
    "                ct.transform(X_val),\n",
    "                index=X_val.index\n",
    "            )\n",
    "        else:\n",
    "            X_train_scaled = X_train\n",
    "            X_val_scaled = X_val\n",
    "\n",
    "        if target_scaler:\n",
    "            y_train_scaled = target_scaler.fit_transform(y_train.to_numpy().reshape(-1, 1)).ravel()\n",
    "        else:\n",
    "            y_train_scaled = y_train\n",
    "\n",
    "        # --------- Train model ----------\n",
    "        model = LinearRegression()\n",
    "        model.fit(X_train_scaled, y_train_scaled)\n",
    "\n",
    "        # --------- Predict & evaluate ----------\n",
    "        y_pred_scaled = model.predict(X_val_scaled)\n",
    "\n",
    "        if target_scaler:\n",
    "            y_pred = target_scaler.inverse_transform(y_pred_scaled.reshape(-1, 1)).ravel()\n",
    "        else:\n",
    "            y_pred = y_pred_scaled\n",
    "\n",
    "        rmse = root_mean_squared_error(y_val, y_pred)\n",
    "        rmses.append(rmse)\n",
    "\n",
    "    return np.mean(rmses)  # return average cross-validated rmse\n",
    "\n",
    "# --------- Set the switch ----------\n",
    "if not is_tuning_done:\n",
    "\n",
    "    # --------- Run Optuna Study ----------\n",
    "    study = optuna.create_study(\n",
    "        direction=\"minimize\",\n",
    "        sampler=optuna.samplers.TPESampler(seed=42)\n",
    "    )\n",
    "    study.optimize(objective, n_trials=25, show_progress_bar=True)\n",
    "\n",
    "    # --------- Best Result ----------\n",
    "    print(\"Best params:\", study.best_trial.params)\n",
    "    print(\"Best rmse:\", study.best_value)\n",
    "\n",
    "    # --------- Save Best Parameters ----------\n",
    "    with open(\"OLS_whole_tuning_best_parameters.json\", \"w\") as f:\n",
    "        json.dump(study.best_trial.params, f, indent=4)\n"
   ]
  }
 ],
 "metadata": {
  "kernelspec": {
   "display_name": ".venv",
   "language": "python",
   "name": "python3"
  },
  "language_info": {
   "codemirror_mode": {
    "name": "ipython",
    "version": 3
   },
   "file_extension": ".py",
   "mimetype": "text/x-python",
   "name": "python",
   "nbconvert_exporter": "python",
   "pygments_lexer": "ipython3",
   "version": "3.10.10"
  }
 },
 "nbformat": 4,
 "nbformat_minor": 5
}
