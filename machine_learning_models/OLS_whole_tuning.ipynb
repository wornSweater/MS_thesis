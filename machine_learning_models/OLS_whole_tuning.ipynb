{
 "cells": [
  {
   "cell_type": "code",
   "execution_count": 1,
   "id": "fd6b1719",
   "metadata": {},
   "outputs": [],
   "source": [
    "import optuna\n",
    "import json\n",
    "import gc\n",
    "import numpy as np\n",
    "import pandas as pd\n",
    "from feature_settings_ import *\n",
    "from sklearn.linear_model import LinearRegression\n",
    "from sklearn.preprocessing import StandardScaler, MinMaxScaler, MaxAbsScaler, RobustScaler\n",
    "from sklearn.compose import ColumnTransformer\n",
    "from sklearn.model_selection import TimeSeriesSplit, train_test_split\n",
    "from sklearn.metrics import root_mean_squared_error\n"
   ]
  },
  {
   "cell_type": "code",
   "execution_count": 2,
   "id": "d2da9390",
   "metadata": {},
   "outputs": [
    {
     "name": "stdout",
     "output_type": "stream",
     "text": [
      "--- Your prediction target is [option_return] ---\n"
     ]
    }
   ],
   "source": [
    "# ✅ 1. Load your data\n",
    "# Assume your dataset is a pandas DataFrame\n",
    "# and the target column is named 'option_return'\n",
    "# Example: df = pd.read_csv('your_data.csv')\n",
    "df = pd.read_csv(r\"C:\\Users\\55479\\PycharmProjects\\MS_thesis\\datasets\\whole_df_all_features_simple_option_return.csv\") # open the time series data\n",
    "\n",
    "X = df[df.columns[:-1]]     # your features\n",
    "y = df['option_return']     # your target\n",
    "\n",
    "print(f\"--- Your prediction target is [{df.columns[-1]}] ---\") # print the target to check\n",
    "\n",
    "# ✅ 2. Split into train and test sets (e.g., 80/20)\n",
    "X_full_train, X_test, y_full_train, y_test = train_test_split(\n",
    "    X, y, test_size=0.2, shuffle=False  # shuffle=False to preserve time order\n",
    ")\n"
   ]
  },
  {
   "cell_type": "code",
   "execution_count": null,
   "id": "dd200781",
   "metadata": {},
   "outputs": [],
   "source": [
    "# ✅ 3. Set is_tuning_done switch\n",
    "is_tuning_done = True"
   ]
  },
  {
   "cell_type": "code",
   "execution_count": 4,
   "id": "9bb5b316",
   "metadata": {},
   "outputs": [
    {
     "name": "stderr",
     "output_type": "stream",
     "text": [
      "[I 2025-07-14 23:07:16,650] A new study created in RDB with name: OLS_whole\n"
     ]
    },
    {
     "data": {
      "application/vnd.jupyter.widget-view+json": {
       "model_id": "7a05bfc68b29480396271998c3d0cb54",
       "version_major": 2,
       "version_minor": 0
      },
      "text/plain": [
       "  0%|          | 0/25 [00:00<?, ?it/s]"
      ]
     },
     "metadata": {},
     "output_type": "display_data"
    },
    {
     "name": "stdout",
     "output_type": "stream",
     "text": [
      "[I 2025-07-14 23:07:40,841] Trial 1 finished with value: 1.1429679682922933 and parameters: {'scaler': 'minmax', 'target_scaler': 'maxabs'}. Best is trial 1 with value: 1.1429679682922933.\n",
      "[I 2025-07-14 23:07:40,859] Trial 2 finished with value: 1.1429679682923115 and parameters: {'scaler': 'minmax', 'target_scaler': 'minmax'}. Best is trial 0 with value: 1.14296796829227.\n",
      "[I 2025-07-14 23:07:40,859] Trial 0 finished with value: 1.14296796829227 and parameters: {'scaler': 'minmax', 'target_scaler': 'standard'}. Best is trial 0 with value: 1.14296796829227.\n",
      "[I 2025-07-14 23:07:55,809] Trial 4 finished with value: 1.1418119598211511 and parameters: {'scaler': 'none', 'target_scaler': 'minmax'}. Best is trial 4 with value: 1.1418119598211511.\n",
      "[I 2025-07-14 23:08:03,774] Trial 3 finished with value: 1.1429679682922933 and parameters: {'scaler': 'minmax', 'target_scaler': 'maxabs'}. Best is trial 4 with value: 1.1418119598211511.\n",
      "[I 2025-07-14 23:08:06,648] Trial 5 finished with value: 1.1429679682923253 and parameters: {'scaler': 'standard', 'target_scaler': 'minmax'}. Best is trial 4 with value: 1.1418119598211511.\n",
      "[I 2025-07-14 23:08:20,577] Trial 6 finished with value: 1.142967968292352 and parameters: {'scaler': 'robust', 'target_scaler': 'standard'}. Best is trial 4 with value: 1.1418119598211511.\n",
      "[I 2025-07-14 23:08:22,299] Trial 7 finished with value: 1.1429679682923228 and parameters: {'scaler': 'standard', 'target_scaler': 'standard'}. Best is trial 4 with value: 1.1418119598211511.\n",
      "[I 2025-07-14 23:08:25,860] Trial 8 finished with value: 1.1429679682923253 and parameters: {'scaler': 'standard', 'target_scaler': 'minmax'}. Best is trial 4 with value: 1.1418119598211511.\n",
      "[I 2025-07-14 23:08:39,158] Trial 9 finished with value: 1.1429679682922722 and parameters: {'scaler': 'maxabs', 'target_scaler': 'standard'}. Best is trial 4 with value: 1.1418119598211511.\n",
      "[I 2025-07-14 23:08:40,885] Trial 10 finished with value: 1.1429679682922866 and parameters: {'scaler': 'maxabs', 'target_scaler': 'maxabs'}. Best is trial 4 with value: 1.1418119598211511.\n",
      "[I 2025-07-14 23:08:54,511] Trial 13 finished with value: 1.141811959445759 and parameters: {'scaler': 'none', 'target_scaler': 'robust'}. Best is trial 13 with value: 1.141811959445759.\n",
      "[I 2025-07-14 23:08:55,969] Trial 12 finished with value: 1.141811959445759 and parameters: {'scaler': 'none', 'target_scaler': 'robust'}. Best is trial 12 with value: 1.141811959445759.\n",
      "[I 2025-07-14 23:08:56,293] Trial 11 finished with value: 1.1429679682922003 and parameters: {'scaler': 'robust', 'target_scaler': 'none'}. Best is trial 12 with value: 1.141811959445759.\n",
      "[I 2025-07-14 23:09:09,923] Trial 15 finished with value: 1.141811959445759 and parameters: {'scaler': 'none', 'target_scaler': 'robust'}. Best is trial 12 with value: 1.141811959445759.\n",
      "[I 2025-07-14 23:09:13,046] Trial 14 finished with value: 1.141811959445759 and parameters: {'scaler': 'none', 'target_scaler': 'robust'}. Best is trial 12 with value: 1.141811959445759.\n",
      "[I 2025-07-14 23:09:13,133] Trial 16 finished with value: 1.141811959445759 and parameters: {'scaler': 'none', 'target_scaler': 'robust'}. Best is trial 12 with value: 1.141811959445759.\n",
      "[I 2025-07-14 23:09:26,332] Trial 17 finished with value: 1.141811959445759 and parameters: {'scaler': 'none', 'target_scaler': 'robust'}. Best is trial 12 with value: 1.141811959445759.\n",
      "[I 2025-07-14 23:09:30,706] Trial 18 finished with value: 1.141811959445759 and parameters: {'scaler': 'none', 'target_scaler': 'robust'}. Best is trial 12 with value: 1.141811959445759.\n",
      "[I 2025-07-14 23:09:31,129] Trial 19 finished with value: 1.141811959445759 and parameters: {'scaler': 'none', 'target_scaler': 'robust'}. Best is trial 12 with value: 1.141811959445759.\n",
      "[I 2025-07-14 23:09:42,432] Trial 20 finished with value: 1.141811959445759 and parameters: {'scaler': 'none', 'target_scaler': 'robust'}. Best is trial 12 with value: 1.141811959445759.\n",
      "[I 2025-07-14 23:09:47,037] Trial 22 finished with value: 1.1418119596248122 and parameters: {'scaler': 'none', 'target_scaler': 'none'}. Best is trial 12 with value: 1.141811959445759.\n",
      "[I 2025-07-14 23:09:47,106] Trial 21 finished with value: 1.1418119596248122 and parameters: {'scaler': 'none', 'target_scaler': 'none'}. Best is trial 12 with value: 1.141811959445759.\n",
      "[I 2025-07-14 23:09:55,115] Trial 23 finished with value: 1.141811959445759 and parameters: {'scaler': 'none', 'target_scaler': 'robust'}. Best is trial 12 with value: 1.141811959445759.\n",
      "[I 2025-07-14 23:09:56,686] Trial 24 finished with value: 1.141811959445759 and parameters: {'scaler': 'none', 'target_scaler': 'robust'}. Best is trial 12 with value: 1.141811959445759.\n",
      "Best params: {'scaler': 'none', 'target_scaler': 'robust'}\n",
      "Best rmse: 1.141811959445759\n"
     ]
    }
   ],
   "source": [
    "# ✅ 4. Tune hyperparameters\n",
    "def objective(trial):\n",
    "    # --------- Choose scaler for data ------------\n",
    "    scaler_name = trial.suggest_categorical(\"scaler\", [\"standard\", \"minmax\", \"maxabs\", \"robust\", \"none\"])\n",
    "    scaler = {\n",
    "        \"standard\": StandardScaler(),\n",
    "        \"minmax\": MinMaxScaler(),\n",
    "        \"maxabs\": MaxAbsScaler(),\n",
    "        \"robust\": RobustScaler(),\n",
    "        \"none\": None\n",
    "    }[scaler_name]\n",
    "\n",
    "    target_scaler_name = trial.suggest_categorical(\"target_scaler\", [\"standard\", \"minmax\", \"maxabs\", \"robust\", \"none\"])\n",
    "    target_scaler = {\n",
    "        \"standard\": StandardScaler(),\n",
    "        \"minmax\": MinMaxScaler(),\n",
    "        \"maxabs\": MaxAbsScaler(),\n",
    "        \"robust\": RobustScaler(),\n",
    "        \"none\": None\n",
    "    }[target_scaler_name]\n",
    "\n",
    "    # --------- Time Series Cross Validation ----------\n",
    "    tscv = TimeSeriesSplit(n_splits=5)\n",
    "    rmses = []\n",
    "\n",
    "    for train_idx, val_idx in tscv.split(X_full_train):\n",
    "        X_train, X_val = X_full_train.iloc[train_idx], X_full_train.iloc[val_idx]\n",
    "        y_train, y_val = y_full_train.iloc[train_idx], y_full_train.iloc[val_idx]\n",
    "\n",
    "        # --------- Apply scaling if needed ----------\n",
    "        if scaler:\n",
    "            ct = ColumnTransformer(\n",
    "                transformers=[('scale', scaler, FEATURES_WHOLE_SCALED)],\n",
    "                remainder='passthrough'  # leave all other columns untouched\n",
    "            )\n",
    "            X_train_scaled = ct.fit_transform(X_train)\n",
    "            X_val_scaled = ct.transform(X_val)\n",
    "        else:\n",
    "            X_train_scaled = X_train\n",
    "            X_val_scaled = X_val\n",
    "\n",
    "        if target_scaler:\n",
    "            y_train_scaled = target_scaler.fit_transform(y_train.to_numpy().reshape(-1, 1)).ravel()\n",
    "        else:\n",
    "            y_train_scaled = y_train\n",
    "\n",
    "        # --------- Train model ----------\n",
    "        model = LinearRegression()\n",
    "        model.fit(X_train_scaled, y_train_scaled)\n",
    "\n",
    "        # --------- Predict & evaluate ----------\n",
    "        y_pred_scaled = model.predict(X_val_scaled)\n",
    "\n",
    "        if target_scaler:\n",
    "            y_pred = target_scaler.inverse_transform(y_pred_scaled.reshape(-1, 1)).ravel()\n",
    "        else:\n",
    "            y_pred = y_pred_scaled\n",
    "\n",
    "        rmse = root_mean_squared_error(y_val, y_pred)\n",
    "        rmses.append(rmse)\n",
    "\n",
    "        del model, X_train_scaled, X_val_scaled, y_train_scaled, y_pred_scaled, y_pred\n",
    "    \n",
    "    gc.collect()\n",
    "\n",
    "    return np.mean(rmses)  # return average cross-validated rmse\n",
    "\n",
    "# --------- Set the switch ----------\n",
    "if not is_tuning_done:\n",
    "\n",
    "    # --------- Run Optuna Study ----------\n",
    "    study = optuna.create_study(\n",
    "    direction='minimize',\n",
    "    storage='sqlite:///hyper_tuning.db',\n",
    "    study_name='OLS_whole',\n",
    "    load_if_exists=True,\n",
    "    sampler=optuna.samplers.TPESampler(\n",
    "        seed=42,                  # seed for reproduce\n",
    "    ),\n",
    "    )\n",
    "\n",
    "    study.optimize(\n",
    "        objective, \n",
    "        n_trials=25, \n",
    "        n_jobs=3, \n",
    "        show_progress_bar=True,\n",
    "        gc_after_trial=True\n",
    "    )\n",
    "\n",
    "    # --------- Best Result ----------\n",
    "    print(\"Best params:\", study.best_trial.params)\n",
    "    print(\"Best rmse:\", study.best_value)\n",
    "\n",
    "    # --------- Save Best Parameters ----------\n",
    "    with open(\"OLS_whole_tuning_best_parameters.json\", \"w\") as f:\n",
    "        json.dump(study.best_trial.params, f, indent=4)\n"
   ]
  }
 ],
 "metadata": {
  "kernelspec": {
   "display_name": ".venv",
   "language": "python",
   "name": "python3"
  },
  "language_info": {
   "codemirror_mode": {
    "name": "ipython",
    "version": 3
   },
   "file_extension": ".py",
   "mimetype": "text/x-python",
   "name": "python",
   "nbconvert_exporter": "python",
   "pygments_lexer": "ipython3",
   "version": "3.10.10"
  }
 },
 "nbformat": 4,
 "nbformat_minor": 5
}
