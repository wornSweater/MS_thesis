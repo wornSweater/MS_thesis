{
 "cells": [
  {
   "cell_type": "code",
   "execution_count": null,
   "id": "ee6a9d49",
   "metadata": {},
   "outputs": [],
   "source": [
    "import optuna\n",
    "import joblib\n",
    "import numpy as np\n",
    "import pandas as pd\n",
    "from feature_settings_ import *\n",
    "from sklearn.linear_model import LinearRegression\n",
    "from sklearn.preprocessing import RobustScaler\n",
    "from sklearn.compose import ColumnTransformer\n",
    "from sklearn.model_selection import train_test_split\n",
    "from sklearn.metrics import r2_score, mean_absolute_error, mean_squared_error"
   ]
  },
  {
   "cell_type": "code",
   "execution_count": 2,
   "id": "02db69af",
   "metadata": {},
   "outputs": [
    {
     "name": "stdout",
     "output_type": "stream",
     "text": [
      "--- Your prediction target is [option_return] ---\n"
     ]
    }
   ],
   "source": [
    "# ✅ 1. Load your data\n",
    "# Assume your dataset is a pandas DataFrame\n",
    "# and the target column is named 'option_return'\n",
    "# Example: df = pd.read_csv('your_data.csv')\n",
    "df = pd.read_csv(r\"C:\\Users\\55479\\PycharmProjects\\MS_thesis\\datasets\\whole_df_all_features_simple_option_return.csv\") # open the time series data\n",
    "\n",
    "X = df[df.columns[:-1]]     # your features\n",
    "y = df['option_return']     # your target\n",
    "\n",
    "print(f\"--- Your prediction target is [{df.columns[-1]}] ---\") # print the target to check\n",
    "\n",
    "# ✅ 2. Split into train and test sets (e.g., 80/20)\n",
    "X_train, X_test, y_train, y_test = train_test_split(\n",
    "    X, y, test_size=0.2, shuffle=False  # shuffle=False to preserve time order\n",
    ")"
   ]
  },
  {
   "cell_type": "code",
   "execution_count": 3,
   "id": "6d84dd1f",
   "metadata": {},
   "outputs": [
    {
     "data": {
      "text/plain": [
       "['OLS_whole_model.pkl']"
      ]
     },
     "execution_count": 3,
     "metadata": {},
     "output_type": "execute_result"
    }
   ],
   "source": [
    "# ✅ 3. Data preprocessing\n",
    "# --------- Scale the data ------------\n",
    "target_scaler = RobustScaler()\n",
    "y_train_scaled = target_scaler.fit_transform(y_train.to_numpy().reshape(-1, 1)).ravel()"
   ]
  },
  {
   "cell_type": "code",
   "execution_count": null,
   "id": "56703a0c",
   "metadata": {},
   "outputs": [],
   "source": [
    "# ✅ 4. Fit and save the model\n",
    "# --------- Train model ----------\n",
    "model = LinearRegression()\n",
    "model.fit(X_train, y_train_scaled)\n",
    "\n",
    "# --------- Save the model ----------\n",
    "joblib.dump(model, 'OLS_whole_model.pkl')"
   ]
  }
 ],
 "metadata": {
  "kernelspec": {
   "display_name": ".venv",
   "language": "python",
   "name": "python3"
  },
  "language_info": {
   "codemirror_mode": {
    "name": "ipython",
    "version": 3
   },
   "file_extension": ".py",
   "mimetype": "text/x-python",
   "name": "python",
   "nbconvert_exporter": "python",
   "pygments_lexer": "ipython3",
   "version": "3.10.10"
  }
 },
 "nbformat": 4,
 "nbformat_minor": 5
}
