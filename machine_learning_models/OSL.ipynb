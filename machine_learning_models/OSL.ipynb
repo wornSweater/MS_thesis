{
 "cells": [
  {
   "cell_type": "code",
   "execution_count": null,
   "id": "fd6b1719",
   "metadata": {},
   "outputs": [],
   "source": [
    "import optuna\n",
    "import numpy as np\n",
    "import pandas as pd\n",
    "from feature_settings_ import *\n",
    "from sklearn.linear_model import LinearRegression\n",
    "from sklearn.preprocessing import StandardScaler, MinMaxScaler, MaxAbsScaler, RobustScaler\n",
    "from sklearn.compose import ColumnTransformer\n",
    "from sklearn.model_selection import TimeSeriesSplit, train_test_split\n",
    "from sklearn.metrics import root_mean_squared_error\n"
   ]
  },
  {
   "cell_type": "code",
   "execution_count": 2,
   "id": "d2da9390",
   "metadata": {},
   "outputs": [
    {
     "name": "stdout",
     "output_type": "stream",
     "text": [
      "--- Your prediction target is option_return ---\n"
     ]
    }
   ],
   "source": [
    "\n",
    "# ✅ 1. Load your data\n",
    "# Assume your dataset is a pandas DataFrame\n",
    "# and the target column is named 'option_return'\n",
    "# Example: df = pd.read_csv('your_data.csv')\n",
    "df = pd.read_csv(r\"C:\\Users\\55479\\PycharmProjects\\MS_thesis\\datasets\\whole_df_all_features_simple_option_return.csv\")\n",
    "\n",
    "X = df[df.columns[:-1]]     # your features\n",
    "y = df['option_return']     # your target\n",
    "print(f\"--- Your prediction target is {df.columns[-1]} ---\") # print the target to check\n",
    "\n",
    "# ✅ 2. Split into train and test sets (e.g., 80/20)\n",
    "X_full_train, X_test, y_full_train, y_test = train_test_split(\n",
    "    X, y, test_size=0.2, shuffle=False  # shuffle=False to preserve time order\n",
    ")\n"
   ]
  },
  {
   "cell_type": "code",
   "execution_count": 3,
   "id": "9bb5b316",
   "metadata": {},
   "outputs": [
    {
     "name": "stderr",
     "output_type": "stream",
     "text": [
      "[I 2025-07-13 19:51:31,041] A new study created in memory with name: no-name-78f3a486-cd9f-4a34-9f6b-a0117d3734c3\n"
     ]
    },
    {
     "data": {
      "application/vnd.jupyter.widget-view+json": {
       "model_id": "d0675550b45f467295d267246e9b1f58",
       "version_major": 2,
       "version_minor": 0
      },
      "text/plain": [
       "  0%|          | 0/10 [00:00<?, ?it/s]"
      ]
     },
     "metadata": {},
     "output_type": "display_data"
    },
    {
     "name": "stdout",
     "output_type": "stream",
     "text": [
      "[I 2025-07-13 19:51:37,829] Trial 0 finished with value: 1.1429679682922933 and parameters: {'scaler': 'minmax', 'target_scaler': 'maxabs'}. Best is trial 0 with value: 1.1429679682922933.\n",
      "[I 2025-07-13 19:51:44,591] Trial 1 finished with value: 1.1429679682922933 and parameters: {'scaler': 'minmax', 'target_scaler': 'maxabs'}. Best is trial 0 with value: 1.1429679682922933.\n",
      "[I 2025-07-13 19:51:52,281] Trial 2 finished with value: 1.1429679682923228 and parameters: {'scaler': 'standard', 'target_scaler': 'standard'}. Best is trial 0 with value: 1.1429679682922933.\n",
      "[I 2025-07-13 19:51:58,452] Trial 3 finished with value: 1.1418119597139182 and parameters: {'scaler': 'none', 'target_scaler': 'standard'}. Best is trial 3 with value: 1.1418119597139182.\n",
      "[I 2025-07-13 19:52:07,236] Trial 4 finished with value: 1.142967968292352 and parameters: {'scaler': 'robust', 'target_scaler': 'standard'}. Best is trial 3 with value: 1.1418119597139182.\n",
      "[I 2025-07-13 19:52:15,222] Trial 5 finished with value: 1.1429679682923228 and parameters: {'scaler': 'standard', 'target_scaler': 'standard'}. Best is trial 3 with value: 1.1418119597139182.\n",
      "[I 2025-07-13 19:52:22,315] Trial 6 finished with value: 1.142967968292276 and parameters: {'scaler': 'maxabs', 'target_scaler': 'none'}. Best is trial 3 with value: 1.1418119597139182.\n",
      "[I 2025-07-13 19:52:29,849] Trial 7 finished with value: 1.1429679682920129 and parameters: {'scaler': 'robust', 'target_scaler': 'minmax'}. Best is trial 3 with value: 1.1418119597139182.\n",
      "[I 2025-07-13 19:52:37,036] Trial 8 finished with value: 1.1429679682922995 and parameters: {'scaler': 'standard', 'target_scaler': 'robust'}. Best is trial 3 with value: 1.1418119597139182.\n",
      "[I 2025-07-13 19:52:42,399] Trial 9 finished with value: 1.1418119598211511 and parameters: {'scaler': 'none', 'target_scaler': 'minmax'}. Best is trial 3 with value: 1.1418119597139182.\n",
      "Best params: {'scaler': 'none', 'target_scaler': 'standard'}\n",
      "Best rmse: 1.1418119597139182\n"
     ]
    }
   ],
   "source": [
    "# ✅ 3. Tune hyperparameters\n",
    "def objective(trial):\n",
    "    # --------- Choose scaler type for dataset ------------\n",
    "    scaler_name = trial.suggest_categorical(\"scaler\", [\"standard\", \"minmax\", \"maxabs\", \"robust\", \"none\"])\n",
    "    if scaler_name == \"standard\":\n",
    "        scaler = StandardScaler()\n",
    "    elif scaler_name == \"minmax\":\n",
    "        scaler = MinMaxScaler()\n",
    "    elif scaler_name == \"maxabs\":\n",
    "        scaler = MaxAbsScaler()\n",
    "    elif scaler_name == \"robust\":\n",
    "        scaler = RobustScaler()\n",
    "    else:\n",
    "        scaler = None\n",
    "\n",
    "    # --------- Choose scaler type for target ------------\n",
    "    target_scaler_name = trial.suggest_categorical(\"target_scaler\", [\"standard\", \"minmax\", \"maxabs\", \"robust\", \"none\"])\n",
    "    if target_scaler_name == \"standard\":\n",
    "        target_scaler = StandardScaler()\n",
    "    elif target_scaler_name == \"minmax\":\n",
    "        target_scaler = MinMaxScaler()\n",
    "    elif target_scaler_name == \"maxabs\":\n",
    "        target_scaler = MaxAbsScaler()\n",
    "    elif target_scaler_name == \"robust\":\n",
    "        target_scaler = RobustScaler()\n",
    "    else:\n",
    "        target_scaler = None\n",
    "\n",
    "    # --------- Time Series Cross Validation ----------\n",
    "    tscv = TimeSeriesSplit(n_splits=5)\n",
    "    rmses = []\n",
    "\n",
    "    for train_idx, val_idx in tscv.split(X_full_train):\n",
    "        X_train, X_val = X_full_train.iloc[train_idx], X_full_train.iloc[val_idx]\n",
    "        y_train, y_val = y_full_train.iloc[train_idx], y_full_train.iloc[val_idx]\n",
    "\n",
    "        # --------- Apply scaling if needed ----------\n",
    "        if scaler:\n",
    "            ct = ColumnTransformer(\n",
    "                transformers=[('scale', scaler, FEATURES_WHOLE_SCALED)],\n",
    "                remainder='passthrough'  # leave all other columns untouched\n",
    "            )\n",
    "            X_train_scaled = pd.DataFrame(\n",
    "                ct.fit_transform(X_train),\n",
    "                index=X_train.index\n",
    "            )\n",
    "            X_val_scaled = pd.DataFrame(\n",
    "                ct.transform(X_val),\n",
    "                index=X_val.index\n",
    ")\n",
    "        else:\n",
    "            X_train_scaled = X_train\n",
    "            X_val_scaled = X_val\n",
    "\n",
    "        if target_scaler:\n",
    "            y_train_scaled = target_scaler.fit_transform(y_train.to_numpy().reshape(-1, 1)).ravel()\n",
    "            y_val_scaled = target_scaler.transform(y_val.to_numpy().reshape(-1, 1)).ravel()\n",
    "        else:\n",
    "            y_train_scaled = y_train\n",
    "            y_val_scaled = y_val\n",
    "\n",
    "        # --------- Train model ----------\n",
    "        model = LinearRegression()\n",
    "        model.fit(X_train_scaled, y_train_scaled)\n",
    "\n",
    "        # --------- Predict & evaluate ----------\n",
    "        y_pred_scaled = model.predict(X_val_scaled)\n",
    "\n",
    "        if target_scaler:\n",
    "            y_pred = target_scaler.inverse_transform(y_pred_scaled.reshape(-1, 1)).ravel()\n",
    "        else:\n",
    "            y_pred = y_pred_scaled\n",
    "\n",
    "        rmse = root_mean_squared_error(y_val, y_pred)\n",
    "        rmses.append(rmse)\n",
    "\n",
    "    return np.mean(rmses)  # return average cross-validated rmse\n",
    "\n",
    "# --------- Run Optuna Study ----------\n",
    "study = optuna.create_study(\n",
    "    direction=\"minimize\",\n",
    "    sampler=optuna.samplers.TPESampler(seed=42)\n",
    ")\n",
    "study.optimize(objective, n_trials=10, show_progress_bar=True)\n",
    "\n",
    "# --------- Best Result ----------\n",
    "print(\"Best params:\", study.best_trial.params)\n",
    "print(\"Best rmse:\", study.best_value)\n"
   ]
  },
  {
   "cell_type": "code",
   "execution_count": 4,
   "id": "db6c3275",
   "metadata": {},
   "outputs": [],
   "source": [
    "# # ✅ 4. Train an OLS Linear Regression model\n",
    "# model = LinearRegression()\n",
    "# model.fit(X_train, y_train)\n",
    "\n",
    "# # ✅ 5. Make predictions on the test set\n",
    "# y_pred = model.predict(X_test)\n",
    "\n",
    "# # ✅ 6. Evaluate the model\n",
    "# r2 = r2_score(y_test, y_pred)\n",
    "# rmse = mean_squared_error(y_test, y_pred)\n",
    "# mae = mean_absolute_error(y_test, y_pred)\n",
    "\n",
    "# print(f\"R² Score: {r2:.4f}\")\n",
    "# print(f\"RMSE:     {rmse:.4f}\")\n",
    "# print(f\"MAE:      {mae:.4f}\")"
   ]
  },
  {
   "cell_type": "code",
   "execution_count": null,
   "id": "5b9288a5",
   "metadata": {},
   "outputs": [],
   "source": []
  }
 ],
 "metadata": {
  "kernelspec": {
   "display_name": ".venv",
   "language": "python",
   "name": "python3"
  },
  "language_info": {
   "codemirror_mode": {
    "name": "ipython",
    "version": 3
   },
   "file_extension": ".py",
   "mimetype": "text/x-python",
   "name": "python",
   "nbconvert_exporter": "python",
   "pygments_lexer": "ipython3",
   "version": "3.10.10"
  }
 },
 "nbformat": 4,
 "nbformat_minor": 5
}
