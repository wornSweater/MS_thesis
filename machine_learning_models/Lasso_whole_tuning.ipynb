{
 "cells": [
  {
   "cell_type": "code",
   "execution_count": 1,
   "id": "fd6b1719",
   "metadata": {},
   "outputs": [],
   "source": [
    "import optuna\n",
    "import json\n",
    "import gc\n",
    "import numpy as np\n",
    "import pandas as pd\n",
    "from feature_settings_ import *\n",
    "from sklearn.linear_model import Lasso\n",
    "from sklearn.preprocessing import StandardScaler, MinMaxScaler, MaxAbsScaler, RobustScaler\n",
    "from sklearn.compose import ColumnTransformer\n",
    "from sklearn.model_selection import TimeSeriesSplit, train_test_split\n",
    "from sklearn.metrics import root_mean_squared_error\n"
   ]
  },
  {
   "cell_type": "code",
   "execution_count": 2,
   "id": "d2da9390",
   "metadata": {},
   "outputs": [
    {
     "name": "stdout",
     "output_type": "stream",
     "text": [
      "--- Your prediction target is [option_return] ---\n"
     ]
    }
   ],
   "source": [
    "# ✅ 1. Load your data\n",
    "# Assume your dataset is a pandas DataFrame\n",
    "# and the target column is named 'option_return'\n",
    "# Example: df = pd.read_csv('your_data.csv')\n",
    "df = pd.read_csv(r\"C:\\Users\\55479\\PycharmProjects\\MS_thesis\\datasets\\whole_df_all_features_simple_option_return.csv\") # open the time series data\n",
    "\n",
    "X = df[df.columns[:-1]]     # your features\n",
    "y = df['option_return']     # your target\n",
    "\n",
    "print(f\"--- Your prediction target is [{df.columns[-1]}] ---\") # print the target to check\n",
    "\n",
    "# ✅ 2. Split into train and test sets (e.g., 80/20)\n",
    "X_full_train, X_test, y_full_train, y_test = train_test_split(\n",
    "    X, y, test_size=0.2, shuffle=False  # shuffle=False to preserve time order\n",
    ")\n"
   ]
  },
  {
   "cell_type": "code",
   "execution_count": 3,
   "id": "dd200781",
   "metadata": {},
   "outputs": [],
   "source": [
    "# ✅ 3. Set is_tuning_done switch\n",
    "is_tuning_done = False"
   ]
  },
  {
   "cell_type": "code",
   "execution_count": 4,
   "id": "9bb5b316",
   "metadata": {},
   "outputs": [
    {
     "name": "stderr",
     "output_type": "stream",
     "text": [
      "[I 2025-07-14 23:58:46,271] A new study created in RDB with name: Lasso_whole_v2\n"
     ]
    },
    {
     "data": {
      "application/vnd.jupyter.widget-view+json": {
       "model_id": "4c8591f2c1e24152b1b871ff298930e7",
       "version_major": 2,
       "version_minor": 0
      },
      "text/plain": [
       "  0%|          | 0/25 [00:00<?, ?it/s]"
      ]
     },
     "metadata": {},
     "output_type": "display_data"
    },
    {
     "name": "stdout",
     "output_type": "stream",
     "text": [
      "[I 2025-07-14 23:59:01,197] Trial 0 finished with value: 1.2307383861907069 and parameters: {'scaler': 'standard', 'target_scaler': 'robust', 'alpha': 3.2823506798492446, 'fit_intercept': True, 'positive': False, 'selection': 'cyclic', 'max_iter': 2500, 'tol': 0.00010764952033794947}. Best is trial 0 with value: 1.2307383861907069.\n",
      "[I 2025-07-14 23:59:16,054] Trial 3 finished with value: 1.2307383861907069 and parameters: {'scaler': 'standard', 'target_scaler': 'maxabs', 'alpha': 0.09025408721825014, 'fit_intercept': True, 'positive': False, 'selection': 'cyclic', 'max_iter': 1000, 'tol': 0.0009372007967993426}. Best is trial 0 with value: 1.2307383861907069.\n",
      "[I 2025-07-14 23:59:35,951] Trial 4 finished with value: 1.3212338334192864 and parameters: {'scaler': 'maxabs', 'target_scaler': 'maxabs', 'alpha': 2.1627703080897674e-06, 'fit_intercept': False, 'positive': True, 'selection': 'random', 'max_iter': 1000, 'tol': 5.705871927080755e-05}. Best is trial 0 with value: 1.2307383861907069.\n",
      "[I 2025-07-14 23:59:42,108] Trial 1 finished with value: 1.131702007144939 and parameters: {'scaler': 'maxabs', 'target_scaler': 'standard', 'alpha': 0.0005151144526660695, 'fit_intercept': False, 'positive': False, 'selection': 'cyclic', 'max_iter': 1500, 'tol': 0.00011119735614560189}. Best is trial 1 with value: 1.131702007144939.\n",
      "[I 2025-07-14 23:59:52,049] Trial 5 finished with value: 1.210480247152548 and parameters: {'scaler': 'none', 'target_scaler': 'robust', 'alpha': 4.220357367972392, 'fit_intercept': True, 'positive': True, 'selection': 'cyclic', 'max_iter': 3000, 'tol': 0.000741098104763536}. Best is trial 1 with value: 1.131702007144939.\n"
     ]
    },
    {
     "name": "stderr",
     "output_type": "stream",
     "text": [
      "c:\\Users\\55479\\PycharmProjects\\MS_thesis\\.venv\\lib\\site-packages\\sklearn\\linear_model\\_coordinate_descent.py:695: ConvergenceWarning: Objective did not converge. You might want to increase the number of iterations, check the scale of the features or consider increasing regularisation. Duality gap: 7.649e+01, tolerance: 7.078e-02\n",
      "  model = cd_fast.enet_coordinate_descent(\n"
     ]
    },
    {
     "name": "stdout",
     "output_type": "stream",
     "text": [
      "[I 2025-07-15 00:00:05,896] Trial 7 finished with value: 1.1777129982545391 and parameters: {'scaler': 'robust', 'target_scaler': 'maxabs', 'alpha': 0.00023836640501884016, 'fit_intercept': True, 'positive': True, 'selection': 'random', 'max_iter': 3500, 'tol': 8.00534625257519e-05}. Best is trial 1 with value: 1.131702007144939.\n",
      "[I 2025-07-15 00:00:26,333] Trial 8 finished with value: 1.2141345392135972 and parameters: {'scaler': 'robust', 'target_scaler': 'minmax', 'alpha': 0.0030153808936957266, 'fit_intercept': False, 'positive': False, 'selection': 'random', 'max_iter': 4000, 'tol': 3.081814990528114e-06}. Best is trial 1 with value: 1.131702007144939.\n",
      "[I 2025-07-15 00:00:53,389] Trial 9 finished with value: 1.1938093737676456 and parameters: {'scaler': 'standard', 'target_scaler': 'standard', 'alpha': 4.7057019767997596e-05, 'fit_intercept': False, 'positive': True, 'selection': 'random', 'max_iter': 1500, 'tol': 0.00024102905952513997}. Best is trial 1 with value: 1.131702007144939.\n",
      "[I 2025-07-15 00:01:06,679] Trial 10 finished with value: 1.1810666453814604 and parameters: {'scaler': 'maxabs', 'target_scaler': 'minmax', 'alpha': 2.8840259545512306e-06, 'fit_intercept': True, 'positive': True, 'selection': 'cyclic', 'max_iter': 5000, 'tol': 0.0004166332824361169}. Best is trial 1 with value: 1.131702007144939.\n"
     ]
    },
    {
     "name": "stderr",
     "output_type": "stream",
     "text": [
      "c:\\Users\\55479\\PycharmProjects\\MS_thesis\\.venv\\lib\\site-packages\\sklearn\\linear_model\\_coordinate_descent.py:695: ConvergenceWarning: Objective did not converge. You might want to increase the number of iterations, check the scale of the features or consider increasing regularisation. Duality gap: 1.235e+04, tolerance: 2.352e+00\n",
      "  model = cd_fast.enet_coordinate_descent(\n"
     ]
    },
    {
     "name": "stdout",
     "output_type": "stream",
     "text": [
      "[I 2025-07-15 00:01:28,919] Trial 11 finished with value: 1.1801330859452777 and parameters: {'scaler': 'robust', 'target_scaler': 'minmax', 'alpha': 2.8138791175967447e-05, 'fit_intercept': True, 'positive': True, 'selection': 'random', 'max_iter': 4000, 'tol': 7.541962455293902e-05}. Best is trial 1 with value: 1.131702007144939.\n",
      "[I 2025-07-15 00:01:52,508] Trial 12 finished with value: 1.1348839796228982 and parameters: {'scaler': 'minmax', 'target_scaler': 'standard', 'alpha': 0.016520757478247397, 'fit_intercept': False, 'positive': False, 'selection': 'cyclic', 'max_iter': 2000, 'tol': 9.95385136878162e-06}. Best is trial 1 with value: 1.131702007144939.\n",
      "[I 2025-07-15 00:02:16,843] Trial 13 finished with value: 1.1351657218599585 and parameters: {'scaler': 'minmax', 'target_scaler': 'standard', 'alpha': 0.01787177536310821, 'fit_intercept': False, 'positive': False, 'selection': 'cyclic', 'max_iter': 2000, 'tol': 7.433818262818531e-06}. Best is trial 1 with value: 1.131702007144939.\n",
      "[I 2025-07-15 00:02:48,900] Trial 14 finished with value: 1.1319147055089334 and parameters: {'scaler': 'minmax', 'target_scaler': 'none', 'alpha': 0.0033986723324466164, 'fit_intercept': False, 'positive': False, 'selection': 'cyclic', 'max_iter': 2000, 'tol': 1.4800858545151151e-05}. Best is trial 1 with value: 1.131702007144939.\n"
     ]
    },
    {
     "name": "stderr",
     "output_type": "stream",
     "text": [
      "c:\\Users\\55479\\PycharmProjects\\MS_thesis\\.venv\\lib\\site-packages\\sklearn\\linear_model\\_coordinate_descent.py:695: ConvergenceWarning: Objective did not converge. You might want to increase the number of iterations, check the scale of the features or consider increasing regularisation. Duality gap: 5.125e+04, tolerance: 7.147e+00\n",
      "  model = cd_fast.enet_coordinate_descent(\n",
      "c:\\Users\\55479\\PycharmProjects\\MS_thesis\\.venv\\lib\\site-packages\\sklearn\\linear_model\\_coordinate_descent.py:695: ConvergenceWarning: Objective did not converge. You might want to increase the number of iterations, check the scale of the features or consider increasing regularisation. Duality gap: 8.378e+01, tolerance: 8.573e-01\n",
      "  model = cd_fast.enet_coordinate_descent(\n"
     ]
    },
    {
     "name": "stdout",
     "output_type": "stream",
     "text": [
      "[I 2025-07-15 00:05:33,332] Trial 15 finished with value: 1.1316371627921233 and parameters: {'scaler': 'maxabs', 'target_scaler': 'none', 'alpha': 0.0009615386534827813, 'fit_intercept': False, 'positive': False, 'selection': 'cyclic', 'max_iter': 2000, 'tol': 1.9797492435803774e-05}. Best is trial 15 with value: 1.1316371627921233.\n"
     ]
    },
    {
     "name": "stderr",
     "output_type": "stream",
     "text": [
      "c:\\Users\\55479\\PycharmProjects\\MS_thesis\\.venv\\lib\\site-packages\\sklearn\\linear_model\\_coordinate_descent.py:695: ConvergenceWarning: Objective did not converge. You might want to increase the number of iterations, check the scale of the features or consider increasing regularisation. Duality gap: 1.425e+03, tolerance: 6.820e-02\n",
      "  model = cd_fast.enet_coordinate_descent(\n",
      "c:\\Users\\55479\\PycharmProjects\\MS_thesis\\.venv\\lib\\site-packages\\sklearn\\linear_model\\_coordinate_descent.py:695: ConvergenceWarning: Objective did not converge. You might want to increase the number of iterations, check the scale of the features or consider increasing regularisation. Duality gap: 5.464e+00, tolerance: 6.560e-01\n",
      "  model = cd_fast.enet_coordinate_descent(\n",
      "c:\\Users\\55479\\PycharmProjects\\MS_thesis\\.venv\\lib\\site-packages\\sklearn\\linear_model\\_coordinate_descent.py:695: ConvergenceWarning: Objective did not converge. You might want to increase the number of iterations, check the scale of the features or consider increasing regularisation. Duality gap: 2.079e+05, tolerance: 2.263e+01\n",
      "  model = cd_fast.enet_coordinate_descent(\n",
      "c:\\Users\\55479\\PycharmProjects\\MS_thesis\\.venv\\lib\\site-packages\\sklearn\\linear_model\\_coordinate_descent.py:695: ConvergenceWarning: Objective did not converge. You might want to increase the number of iterations, check the scale of the features or consider increasing regularisation. Duality gap: 2.628e+02, tolerance: 9.403e-01\n",
      "  model = cd_fast.enet_coordinate_descent(\n"
     ]
    },
    {
     "name": "stdout",
     "output_type": "stream",
     "text": [
      "[I 2025-07-15 00:13:08,557] Trial 16 finished with value: 1.1317811727605396 and parameters: {'scaler': 'maxabs', 'target_scaler': 'none', 'alpha': 0.0004474737965282124, 'fit_intercept': False, 'positive': False, 'selection': 'cyclic', 'max_iter': 1500, 'tol': 1.3204482052003408e-06}. Best is trial 15 with value: 1.1316371627921233.\n",
      "[I 2025-07-15 00:13:48,874] Trial 17 finished with value: 1.2307426095057772 and parameters: {'scaler': 'maxabs', 'target_scaler': 'none', 'alpha': 0.22423795455469286, 'fit_intercept': False, 'positive': False, 'selection': 'cyclic', 'max_iter': 2500, 'tol': 3.334122305706759e-05}. Best is trial 15 with value: 1.1316371627921233.\n"
     ]
    },
    {
     "name": "stderr",
     "output_type": "stream",
     "text": [
      "c:\\Users\\55479\\PycharmProjects\\MS_thesis\\.venv\\lib\\site-packages\\sklearn\\linear_model\\_coordinate_descent.py:695: ConvergenceWarning: Objective did not converge. You might want to increase the number of iterations, check the scale of the features or consider increasing regularisation. Duality gap: 5.112e+01, tolerance: 6.069e+00\n",
      "  model = cd_fast.enet_coordinate_descent(\n"
     ]
    },
    {
     "name": "stdout",
     "output_type": "stream",
     "text": [
      "[I 2025-07-15 00:19:47,318] Trial 18 finished with value: 1.1317120627881057 and parameters: {'scaler': 'maxabs', 'target_scaler': 'standard', 'alpha': 0.000501368383371332, 'fit_intercept': False, 'positive': False, 'selection': 'cyclic', 'max_iter': 1500, 'tol': 2.3629494603001266e-05}. Best is trial 15 with value: 1.1316371627921233.\n"
     ]
    },
    {
     "name": "stderr",
     "output_type": "stream",
     "text": [
      "c:\\Users\\55479\\PycharmProjects\\MS_thesis\\.venv\\lib\\site-packages\\sklearn\\linear_model\\_coordinate_descent.py:695: ConvergenceWarning: Objective did not converge. You might want to increase the number of iterations, check the scale of the features or consider increasing regularisation. Duality gap: 2.241e+05, tolerance: 2.530e+01\n",
      "  model = cd_fast.enet_coordinate_descent(\n",
      "c:\\Users\\55479\\PycharmProjects\\MS_thesis\\.venv\\lib\\site-packages\\sklearn\\linear_model\\_coordinate_descent.py:695: ConvergenceWarning: Objective did not converge. You might want to increase the number of iterations, check the scale of the features or consider increasing regularisation. Duality gap: 8.938e+04, tolerance: 1.018e+00\n",
      "  model = cd_fast.enet_coordinate_descent(\n"
     ]
    },
    {
     "name": "stdout",
     "output_type": "stream",
     "text": [
      "[I 2025-07-15 00:20:57,062] Trial 2 finished with value: 1.1382330836129555 and parameters: {'scaler': 'robust', 'target_scaler': 'robust', 'alpha': 0.0001077522519311029, 'fit_intercept': True, 'positive': False, 'selection': 'random', 'max_iter': 4500, 'tol': 1.8857699823355324e-06}. Best is trial 15 with value: 1.1316371627921233.\n"
     ]
    },
    {
     "name": "stderr",
     "output_type": "stream",
     "text": [
      "c:\\Users\\55479\\PycharmProjects\\MS_thesis\\.venv\\lib\\site-packages\\sklearn\\linear_model\\_coordinate_descent.py:695: ConvergenceWarning: Objective did not converge. You might want to increase the number of iterations, check the scale of the features or consider increasing regularisation. Duality gap: 1.236e+04, tolerance: 1.060e+01\n",
      "  model = cd_fast.enet_coordinate_descent(\n",
      "c:\\Users\\55479\\PycharmProjects\\MS_thesis\\.venv\\lib\\site-packages\\sklearn\\linear_model\\_coordinate_descent.py:695: ConvergenceWarning: Objective did not converge. You might want to increase the number of iterations, check the scale of the features or consider increasing regularisation. Duality gap: 1.242e+04, tolerance: 9.058e+00\n",
      "  model = cd_fast.enet_coordinate_descent(\n",
      "c:\\Users\\55479\\PycharmProjects\\MS_thesis\\.venv\\lib\\site-packages\\sklearn\\linear_model\\_coordinate_descent.py:695: ConvergenceWarning: Objective did not converge. You might want to increase the number of iterations, check the scale of the features or consider increasing regularisation. Duality gap: 5.127e+04, tolerance: 3.222e+01\n",
      "  model = cd_fast.enet_coordinate_descent(\n",
      "c:\\Users\\55479\\PycharmProjects\\MS_thesis\\.venv\\lib\\site-packages\\sklearn\\linear_model\\_coordinate_descent.py:695: ConvergenceWarning: Objective did not converge. You might want to increase the number of iterations, check the scale of the features or consider increasing regularisation. Duality gap: 5.140e+04, tolerance: 2.752e+01\n",
      "  model = cd_fast.enet_coordinate_descent(\n",
      "c:\\Users\\55479\\PycharmProjects\\MS_thesis\\.venv\\lib\\site-packages\\sklearn\\linear_model\\_coordinate_descent.py:695: ConvergenceWarning: Objective did not converge. You might want to increase the number of iterations, check the scale of the features or consider increasing regularisation. Duality gap: 2.385e+05, tolerance: 2.781e+01\n",
      "  model = cd_fast.enet_coordinate_descent(\n"
     ]
    },
    {
     "name": "stdout",
     "output_type": "stream",
     "text": [
      "[I 2025-07-15 00:28:06,514] Trial 6 finished with value: 1.138164391784613 and parameters: {'scaler': 'none', 'target_scaler': 'none', 'alpha': 3.429511120576089e-06, 'fit_intercept': False, 'positive': False, 'selection': 'random', 'max_iter': 4500, 'tol': 4.554571563642678e-05}. Best is trial 15 with value: 1.1316371627921233.\n",
      "[I 2025-07-15 00:28:48,741] Trial 21 finished with value: 1.1319939079683055 and parameters: {'scaler': 'maxabs', 'target_scaler': 'standard', 'alpha': 0.002597533106748593, 'fit_intercept': False, 'positive': False, 'selection': 'cyclic', 'max_iter': 3000, 'tol': 0.0002533499186656308}. Best is trial 15 with value: 1.1316371627921233.\n"
     ]
    },
    {
     "name": "stderr",
     "output_type": "stream",
     "text": [
      "c:\\Users\\55479\\PycharmProjects\\MS_thesis\\.venv\\lib\\site-packages\\sklearn\\linear_model\\_coordinate_descent.py:695: ConvergenceWarning: Objective did not converge. You might want to increase the number of iterations, check the scale of the features or consider increasing regularisation. Duality gap: 2.082e+05, tolerance: 8.713e+01\n",
      "  model = cd_fast.enet_coordinate_descent(\n",
      "c:\\Users\\55479\\PycharmProjects\\MS_thesis\\.venv\\lib\\site-packages\\sklearn\\linear_model\\_coordinate_descent.py:695: ConvergenceWarning: Objective did not converge. You might want to increase the number of iterations, check the scale of the features or consider increasing regularisation. Duality gap: 2.080e+05, tolerance: 1.020e+02\n",
      "  model = cd_fast.enet_coordinate_descent(\n",
      "c:\\Users\\55479\\PycharmProjects\\MS_thesis\\.venv\\lib\\site-packages\\sklearn\\linear_model\\_coordinate_descent.py:695: ConvergenceWarning: Objective did not converge. You might want to increase the number of iterations, check the scale of the features or consider increasing regularisation. Duality gap: 1.100e+04, tolerance: 2.489e-01\n",
      "  model = cd_fast.enet_coordinate_descent(\n",
      "c:\\Users\\55479\\PycharmProjects\\MS_thesis\\.venv\\lib\\site-packages\\sklearn\\linear_model\\_coordinate_descent.py:695: ConvergenceWarning: Objective did not converge. You might want to increase the number of iterations, check the scale of the features or consider increasing regularisation. Duality gap: 2.245e+05, tolerance: 9.742e+01\n",
      "  model = cd_fast.enet_coordinate_descent(\n",
      "c:\\Users\\55479\\PycharmProjects\\MS_thesis\\.venv\\lib\\site-packages\\sklearn\\linear_model\\_coordinate_descent.py:695: ConvergenceWarning: Objective did not converge. You might want to increase the number of iterations, check the scale of the features or consider increasing regularisation. Duality gap: 2.242e+05, tolerance: 1.141e+02\n",
      "  model = cd_fast.enet_coordinate_descent(\n",
      "c:\\Users\\55479\\PycharmProjects\\MS_thesis\\.venv\\lib\\site-packages\\sklearn\\linear_model\\_coordinate_descent.py:695: ConvergenceWarning: Objective did not converge. You might want to increase the number of iterations, check the scale of the features or consider increasing regularisation. Duality gap: 4.929e+04, tolerance: 7.563e-01\n",
      "  model = cd_fast.enet_coordinate_descent(\n",
      "c:\\Users\\55479\\PycharmProjects\\MS_thesis\\.venv\\lib\\site-packages\\sklearn\\linear_model\\_coordinate_descent.py:695: ConvergenceWarning: Objective did not converge. You might want to increase the number of iterations, check the scale of the features or consider increasing regularisation. Duality gap: 2.389e+05, tolerance: 1.071e+02\n",
      "  model = cd_fast.enet_coordinate_descent(\n"
     ]
    },
    {
     "name": "stdout",
     "output_type": "stream",
     "text": [
      "[I 2025-07-15 00:39:51,681] Trial 20 finished with value: 1.132445647620899 and parameters: {'scaler': 'none', 'target_scaler': 'none', 'alpha': 0.0016184068477496589, 'fit_intercept': False, 'positive': False, 'selection': 'cyclic', 'max_iter': 3000, 'tol': 0.0001753760912203571}. Best is trial 15 with value: 1.1316371627921233.\n"
     ]
    },
    {
     "name": "stderr",
     "output_type": "stream",
     "text": [
      "c:\\Users\\55479\\PycharmProjects\\MS_thesis\\.venv\\lib\\site-packages\\sklearn\\linear_model\\_coordinate_descent.py:695: ConvergenceWarning: Objective did not converge. You might want to increase the number of iterations, check the scale of the features or consider increasing regularisation. Duality gap: 6.247e+04, tolerance: 2.394e+00\n",
      "  model = cd_fast.enet_coordinate_descent(\n",
      "c:\\Users\\55479\\PycharmProjects\\MS_thesis\\.venv\\lib\\site-packages\\sklearn\\linear_model\\_coordinate_descent.py:695: ConvergenceWarning: Objective did not converge. You might want to increase the number of iterations, check the scale of the features or consider increasing regularisation. Duality gap: 2.386e+05, tolerance: 1.254e+02\n",
      "  model = cd_fast.enet_coordinate_descent(\n"
     ]
    },
    {
     "name": "stdout",
     "output_type": "stream",
     "text": [
      "[I 2025-07-15 00:40:30,480] Trial 19 finished with value: 1.1370741170124083 and parameters: {'scaler': 'none', 'target_scaler': 'none', 'alpha': 1.3758821617251278e-05, 'fit_intercept': False, 'positive': False, 'selection': 'cyclic', 'max_iter': 2500, 'tol': 0.000205315684966594}. Best is trial 15 with value: 1.1316371627921233.\n"
     ]
    },
    {
     "name": "stderr",
     "output_type": "stream",
     "text": [
      "c:\\Users\\55479\\PycharmProjects\\MS_thesis\\.venv\\lib\\site-packages\\sklearn\\linear_model\\_coordinate_descent.py:695: ConvergenceWarning: Objective did not converge. You might want to increase the number of iterations, check the scale of the features or consider increasing regularisation. Duality gap: 1.180e+03, tolerance: 1.292e+00\n",
      "  model = cd_fast.enet_coordinate_descent(\n"
     ]
    },
    {
     "name": "stdout",
     "output_type": "stream",
     "text": [
      "[I 2025-07-15 00:42:54,793] Trial 23 finished with value: 1.1316429589977801 and parameters: {'scaler': 'maxabs', 'target_scaler': 'standard', 'alpha': 0.0006274689216437179, 'fit_intercept': False, 'positive': False, 'selection': 'cyclic', 'max_iter': 1500, 'tol': 1.9145363993959486e-05}. Best is trial 15 with value: 1.1316371627921233.\n"
     ]
    },
    {
     "name": "stderr",
     "output_type": "stream",
     "text": [
      "c:\\Users\\55479\\PycharmProjects\\MS_thesis\\.venv\\lib\\site-packages\\sklearn\\linear_model\\_coordinate_descent.py:695: ConvergenceWarning: Objective did not converge. You might want to increase the number of iterations, check the scale of the features or consider increasing regularisation. Duality gap: 1.886e+05, tolerance: 2.677e+00\n",
      "  model = cd_fast.enet_coordinate_descent(\n",
      "c:\\Users\\55479\\PycharmProjects\\MS_thesis\\.venv\\lib\\site-packages\\sklearn\\linear_model\\_coordinate_descent.py:695: ConvergenceWarning: Objective did not converge. You might want to increase the number of iterations, check the scale of the features or consider increasing regularisation. Duality gap: 4.859e+01, tolerance: 5.167e+00\n",
      "  model = cd_fast.enet_coordinate_descent(\n"
     ]
    },
    {
     "name": "stdout",
     "output_type": "stream",
     "text": [
      "[I 2025-07-15 00:44:10,822] Trial 24 finished with value: 1.131721505107852 and parameters: {'scaler': 'maxabs', 'target_scaler': 'standard', 'alpha': 0.0004872820627974898, 'fit_intercept': False, 'positive': False, 'selection': 'cyclic', 'max_iter': 1500, 'tol': 2.0118635642027816e-05}. Best is trial 15 with value: 1.1316371627921233.\n"
     ]
    },
    {
     "name": "stderr",
     "output_type": "stream",
     "text": [
      "c:\\Users\\55479\\PycharmProjects\\MS_thesis\\.venv\\lib\\site-packages\\sklearn\\linear_model\\_coordinate_descent.py:695: ConvergenceWarning: Objective did not converge. You might want to increase the number of iterations, check the scale of the features or consider increasing regularisation. Duality gap: 2.240e+03, tolerance: 2.943e+00\n",
      "  model = cd_fast.enet_coordinate_descent(\n"
     ]
    },
    {
     "name": "stdout",
     "output_type": "stream",
     "text": [
      "[I 2025-07-15 00:44:59,599] Trial 22 finished with value: 1.137205074559184 and parameters: {'scaler': 'maxabs', 'target_scaler': 'none', 'alpha': 2.1061565507610632e-05, 'fit_intercept': False, 'positive': False, 'selection': 'cyclic', 'max_iter': 2500, 'tol': 4.819452092467235e-06}. Best is trial 15 with value: 1.1316371627921233.\n",
      "Best params: {'scaler': 'maxabs', 'target_scaler': 'none', 'alpha': 0.0009615386534827813, 'fit_intercept': False, 'positive': False, 'selection': 'cyclic', 'max_iter': 2000, 'tol': 1.9797492435803774e-05}\n",
      "Best rmse: 1.1316371627921233\n"
     ]
    }
   ],
   "source": [
    "# ✅ 4. Tune hyperparameters\n",
    "def objective(trial):\n",
    "    # --------- Choose scaler for data ------------\n",
    "    scaler_name = trial.suggest_categorical(\"scaler\", [\"standard\", \"minmax\", \"maxabs\", \"robust\", \"none\"])\n",
    "    scaler = {\n",
    "        \"standard\": StandardScaler(),\n",
    "        \"minmax\": MinMaxScaler(),\n",
    "        \"maxabs\": MaxAbsScaler(),\n",
    "        \"robust\": RobustScaler(),\n",
    "        \"none\": None\n",
    "    }[scaler_name]\n",
    "\n",
    "    target_scaler_name = trial.suggest_categorical(\"target_scaler\", [\"standard\", \"minmax\", \"maxabs\", \"robust\", \"none\"])\n",
    "    target_scaler = {\n",
    "        \"standard\": StandardScaler(),\n",
    "        \"minmax\": MinMaxScaler(),\n",
    "        \"maxabs\": MaxAbsScaler(),\n",
    "        \"robust\": RobustScaler(),\n",
    "        \"none\": None\n",
    "    }[target_scaler_name]\n",
    "\n",
    "    # --------- Tune Lasso Hyperparameters ----------\n",
    "    parameters = {\n",
    "        # Most important: regularization strength\n",
    "        \"alpha\": trial.suggest_float(\"alpha\", 1e-6, 10.0, log=True),\n",
    "        \n",
    "        # Important: algorithm behavior\n",
    "        \"fit_intercept\": trial.suggest_categorical(\"fit_intercept\", [True, False]),\n",
    "        \"positive\": trial.suggest_categorical(\"positive\", [True, False]),\n",
    "        \"selection\": trial.suggest_categorical(\"selection\", [\"cyclic\", \"random\"]),\n",
    "        \n",
    "        # Convergence parameters (reasonable ranges)\n",
    "        \"max_iter\": trial.suggest_int(\"max_iter\", 1000, 5000, step=500),\n",
    "        \"tol\": trial.suggest_float(\"tol\", 1e-6, 1e-3, log=True),\n",
    "        \n",
    "        # Fixed parameters (don't tune these)\n",
    "        \"random_state\": 42,\n",
    "        \"copy_X\": True,        # Always True for safety\n",
    "        \"warm_start\": False,   # Not useful in CV context\n",
    "        \"precompute\": False    # Let sklearn decide\n",
    "    }\n",
    "\n",
    "    # --------- Time Series Cross Validation ----------\n",
    "    tscv = TimeSeriesSplit(n_splits=5)\n",
    "    rmses = []\n",
    "\n",
    "    for train_idx, val_idx in tscv.split(X_full_train):\n",
    "        X_train, X_val = X_full_train.iloc[train_idx], X_full_train.iloc[val_idx]\n",
    "        y_train, y_val = y_full_train.iloc[train_idx], y_full_train.iloc[val_idx]\n",
    "\n",
    "        # --------- Apply scaling if needed ----------\n",
    "        if scaler:\n",
    "            ct = ColumnTransformer(\n",
    "                transformers=[('scale', scaler, FEATURES_WHOLE_SCALED)],\n",
    "                remainder='passthrough'  # leave all other columns untouched\n",
    "            )\n",
    "            X_train_scaled = ct.fit_transform(X_train)\n",
    "            X_val_scaled = ct.transform(X_val)\n",
    "        else:\n",
    "            X_train_scaled = X_train\n",
    "            X_val_scaled = X_val\n",
    "\n",
    "        if target_scaler:\n",
    "            y_train_scaled = target_scaler.fit_transform(y_train.to_numpy().reshape(-1, 1)).ravel()\n",
    "        else:\n",
    "            y_train_scaled = y_train\n",
    "\n",
    "        # --------- Train model ----------\n",
    "        model = Lasso(**parameters)\n",
    "        model.fit(X_train_scaled, y_train_scaled)\n",
    "\n",
    "        # --------- Predict & evaluate ----------\n",
    "        y_pred_scaled = model.predict(X_val_scaled)\n",
    "\n",
    "        if target_scaler:\n",
    "            y_pred = target_scaler.inverse_transform(y_pred_scaled.reshape(-1, 1)).ravel()\n",
    "        else:\n",
    "            y_pred = y_pred_scaled\n",
    "\n",
    "        rmse = root_mean_squared_error(y_val, y_pred)\n",
    "        rmses.append(rmse)\n",
    "\n",
    "        del model, X_train_scaled, X_val_scaled, y_train_scaled, y_pred_scaled, y_pred\n",
    "    \n",
    "    gc.collect()\n",
    "\n",
    "    return np.mean(rmses)  # return average cross-validated rmse\n",
    "\n",
    "# --------- Set the switch ----------\n",
    "if not is_tuning_done:\n",
    "\n",
    "    # --------- Run Optuna Study ----------\n",
    "    study = optuna.create_study(\n",
    "    direction='minimize',\n",
    "    storage='sqlite:///hyper_tuning.db',\n",
    "    study_name='Lasso_whole_v2',\n",
    "    load_if_exists=True,\n",
    "    sampler=optuna.samplers.TPESampler(\n",
    "        seed=42,                  # seed for reproduce\n",
    "    ),\n",
    "    )\n",
    "\n",
    "    study.optimize(\n",
    "        objective, \n",
    "        n_trials=25, \n",
    "        n_jobs=3, \n",
    "        show_progress_bar=True,\n",
    "        gc_after_trial=True\n",
    "    )\n",
    "\n",
    "    # --------- Best Result ----------\n",
    "    print(\"Best params:\", study.best_trial.params)\n",
    "    print(\"Best rmse:\", study.best_value)\n",
    "\n",
    "    # --------- Save Best Parameters ----------\n",
    "    with open(\"Lasso_whole_tuning_best_parameters.json\", \"w\") as f:\n",
    "        json.dump(study.best_trial.params, f, indent=4)\n"
   ]
  }
 ],
 "metadata": {
  "kernelspec": {
   "display_name": ".venv",
   "language": "python",
   "name": "python3"
  },
  "language_info": {
   "codemirror_mode": {
    "name": "ipython",
    "version": 3
   },
   "file_extension": ".py",
   "mimetype": "text/x-python",
   "name": "python",
   "nbconvert_exporter": "python",
   "pygments_lexer": "ipython3",
   "version": "3.10.10"
  }
 },
 "nbformat": 4,
 "nbformat_minor": 5
}
