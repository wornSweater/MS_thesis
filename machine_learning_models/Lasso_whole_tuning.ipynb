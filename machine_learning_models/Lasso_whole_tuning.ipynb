{
 "cells": [
  {
   "cell_type": "code",
   "execution_count": 1,
   "id": "fd6b1719",
   "metadata": {},
   "outputs": [],
   "source": [
    "import optuna\n",
    "import json\n",
    "import numpy as np\n",
    "import pandas as pd\n",
    "from feature_settings_ import *\n",
    "from sklearn.linear_model import Lasso\n",
    "from sklearn.preprocessing import StandardScaler, MinMaxScaler, MaxAbsScaler, RobustScaler\n",
    "from sklearn.compose import ColumnTransformer\n",
    "from sklearn.model_selection import TimeSeriesSplit, train_test_split\n",
    "from sklearn.metrics import root_mean_squared_error\n"
   ]
  },
  {
   "cell_type": "code",
   "execution_count": 2,
   "id": "d2da9390",
   "metadata": {},
   "outputs": [
    {
     "name": "stdout",
     "output_type": "stream",
     "text": [
      "--- Your prediction target is [option_return] ---\n"
     ]
    }
   ],
   "source": [
    "# ✅ 1. Load your data\n",
    "# Assume your dataset is a pandas DataFrame\n",
    "# and the target column is named 'option_return'\n",
    "# Example: df = pd.read_csv('your_data.csv')\n",
    "df = pd.read_csv(r\"C:\\Users\\55479\\PycharmProjects\\MS_thesis\\datasets\\whole_df_all_features_simple_option_return.csv\") # open the time series data\n",
    "\n",
    "X = df[df.columns[:-1]]     # your features\n",
    "y = df['option_return']     # your target\n",
    "\n",
    "print(f\"--- Your prediction target is [{df.columns[-1]}] ---\") # print the target to check\n",
    "\n",
    "# ✅ 2. Split into train and test sets (e.g., 80/20)\n",
    "X_full_train, X_test, y_full_train, y_test = train_test_split(\n",
    "    X, y, test_size=0.2, shuffle=False  # shuffle=False to preserve time order\n",
    ")\n"
   ]
  },
  {
   "cell_type": "code",
   "execution_count": 3,
   "id": "dd200781",
   "metadata": {},
   "outputs": [],
   "source": [
    "# ✅ 3. Set is_tuning_done switch\n",
    "is_tuning_done = False"
   ]
  },
  {
   "cell_type": "code",
   "execution_count": null,
   "id": "9bb5b316",
   "metadata": {},
   "outputs": [
    {
     "name": "stderr",
     "output_type": "stream",
     "text": [
      "[I 2025-07-14 17:42:59,324] A new study created in memory with name: no-name-2f8844fe-0f14-4a4f-9e64-1bcb3b63e832\n"
     ]
    },
    {
     "data": {
      "application/vnd.jupyter.widget-view+json": {
       "model_id": "fc8184e4087e4a4f9671f9092b7f051a",
       "version_major": 2,
       "version_minor": 0
      },
      "text/plain": [
       "  0%|          | 0/150 [00:00<?, ?it/s]"
      ]
     },
     "metadata": {},
     "output_type": "display_data"
    },
    {
     "name": "stderr",
     "output_type": "stream",
     "text": [
      "c:\\Users\\55479\\PycharmProjects\\MS_thesis\\.venv\\lib\\site-packages\\sklearn\\linear_model\\_coordinate_descent.py:681: ConvergenceWarning: Objective did not converge. You might want to increase the number of iterations. Duality gap: 10.179267754655111, tolerance: 0.0003833573799119344\n",
      "  model = cd_fast.enet_coordinate_descent_gram(\n",
      "c:\\Users\\55479\\PycharmProjects\\MS_thesis\\.venv\\lib\\site-packages\\sklearn\\linear_model\\_coordinate_descent.py:681: ConvergenceWarning: Objective did not converge. You might want to increase the number of iterations. Duality gap: 5.014397232853627, tolerance: 0.0001958311749924983\n",
      "  model = cd_fast.enet_coordinate_descent_gram(\n",
      "c:\\Users\\55479\\PycharmProjects\\MS_thesis\\.venv\\lib\\site-packages\\sklearn\\linear_model\\_coordinate_descent.py:681: ConvergenceWarning: Objective did not converge. You might want to increase the number of iterations. Duality gap: 2.424118034691837, tolerance: 8.238460446721549e-05\n",
      "  model = cd_fast.enet_coordinate_descent_gram(\n",
      "c:\\Users\\55479\\PycharmProjects\\MS_thesis\\.venv\\lib\\site-packages\\sklearn\\linear_model\\_coordinate_descent.py:681: ConvergenceWarning: Objective did not converge. You might want to increase the number of iterations. Duality gap: 0.8442627806872887, tolerance: 9.0588399006135e-05\n",
      "  model = cd_fast.enet_coordinate_descent_gram(\n",
      "c:\\Users\\55479\\PycharmProjects\\MS_thesis\\.venv\\lib\\site-packages\\sklearn\\linear_model\\_coordinate_descent.py:681: ConvergenceWarning: Objective did not converge. You might want to increase the number of iterations. Duality gap: 0.42493588970141705, tolerance: 9.80195048052763e-05\n",
      "  model = cd_fast.enet_coordinate_descent_gram(\n"
     ]
    },
    {
     "name": "stdout",
     "output_type": "stream",
     "text": [
      "[I 2025-07-14 17:43:02,685] Trial 0 finished with value: 1.139640567625203 and parameters: {'scaler': 'minmax', 'target_scaler': 'maxabs', 'alpha': 1.6063676259174453e-08, 'fit_intercept': True, 'precompute': True, 'copy_X': False, 'max_iter': 10733, 'tol': 1.0558813779064815e-05, 'warm_start': False, 'positive': False, 'selection': 'random'}. Best is trial 0 with value: 1.139640567625203.\n",
      "[I 2025-07-14 17:43:05,908] Trial 1 finished with value: 1.2307383861907069 and parameters: {'scaler': 'standard', 'target_scaler': 'none', 'alpha': 1.2133147609286499, 'fit_intercept': True, 'precompute': True, 'copy_X': False, 'max_iter': 1170, 'tol': 0.023186906702901938, 'warm_start': False, 'positive': False, 'selection': 'cyclic'}. Best is trial 0 with value: 1.139640567625203.\n"
     ]
    },
    {
     "name": "stderr",
     "output_type": "stream",
     "text": [
      "c:\\Users\\55479\\PycharmProjects\\MS_thesis\\.venv\\lib\\site-packages\\sklearn\\linear_model\\_coordinate_descent.py:681: ConvergenceWarning: Objective did not converge. You might want to increase the number of iterations. Duality gap: 0.30373257043538615, tolerance: 0.002135391286154795\n",
      "  model = cd_fast.enet_coordinate_descent_gram(\n",
      "c:\\Users\\55479\\PycharmProjects\\MS_thesis\\.venv\\lib\\site-packages\\sklearn\\linear_model\\_coordinate_descent.py:681: ConvergenceWarning: Objective did not converge. You might want to increase the number of iterations. Duality gap: 0.6628023650555406, tolerance: 0.004270749317496909\n",
      "  model = cd_fast.enet_coordinate_descent_gram(\n",
      "c:\\Users\\55479\\PycharmProjects\\MS_thesis\\.venv\\lib\\site-packages\\sklearn\\linear_model\\_coordinate_descent.py:681: ConvergenceWarning: Objective did not converge. You might want to increase the number of iterations. Duality gap: 0.9813233792956453, tolerance: 0.006406107348839096\n",
      "  model = cd_fast.enet_coordinate_descent_gram(\n",
      "c:\\Users\\55479\\PycharmProjects\\MS_thesis\\.venv\\lib\\site-packages\\sklearn\\linear_model\\_coordinate_descent.py:681: ConvergenceWarning: Objective did not converge. You might want to increase the number of iterations. Duality gap: 1.2350109298422467, tolerance: 0.00854146538018118\n",
      "  model = cd_fast.enet_coordinate_descent_gram(\n",
      "c:\\Users\\55479\\PycharmProjects\\MS_thesis\\.venv\\lib\\site-packages\\sklearn\\linear_model\\_coordinate_descent.py:681: ConvergenceWarning: Objective did not converge. You might want to increase the number of iterations. Duality gap: 1.2636161764967255, tolerance: 0.01067682341152323\n",
      "  model = cd_fast.enet_coordinate_descent_gram(\n"
     ]
    },
    {
     "name": "stdout",
     "output_type": "stream",
     "text": [
      "[I 2025-07-14 17:43:09,246] Trial 2 finished with value: 1.193759775826528 and parameters: {'scaler': 'standard', 'target_scaler': 'standard', 'alpha': 7.705004503489671e-05, 'fit_intercept': False, 'precompute': True, 'copy_X': True, 'max_iter': 16143, 'tol': 3.3254812672742136e-08, 'warm_start': True, 'positive': True, 'selection': 'cyclic'}. Best is trial 0 with value: 1.139640567625203.\n",
      "[I 2025-07-14 17:43:11,732] Trial 3 finished with value: 1.1839782614899064 and parameters: {'scaler': 'minmax', 'target_scaler': 'standard', 'alpha': 1.785801651522147e-05, 'fit_intercept': True, 'precompute': True, 'copy_X': False, 'max_iter': 15336, 'tol': 8.490639132761147e-05, 'warm_start': True, 'positive': True, 'selection': 'random'}. Best is trial 0 with value: 1.139640567625203.\n",
      "[I 2025-07-14 17:43:12,883] Trial 4 finished with value: 1.319966965819377 and parameters: {'scaler': 'none', 'target_scaler': 'maxabs', 'alpha': 7.897952712237135e-06, 'fit_intercept': False, 'precompute': True, 'copy_X': True, 'max_iter': 4138, 'tol': 0.017697543538533197, 'warm_start': False, 'positive': True, 'selection': 'random'}. Best is trial 0 with value: 1.139640567625203.\n",
      "[I 2025-07-14 17:43:19,664] Trial 5 finished with value: 1.3218479171402358 and parameters: {'scaler': 'maxabs', 'target_scaler': 'none', 'alpha': 1.7061975743910147e-05, 'fit_intercept': False, 'precompute': False, 'copy_X': True, 'max_iter': 10196, 'tol': 1.2768743671138996e-06, 'warm_start': True, 'positive': True, 'selection': 'random'}. Best is trial 0 with value: 1.139640567625203.\n"
     ]
    },
    {
     "name": "stderr",
     "output_type": "stream",
     "text": [
      "c:\\Users\\55479\\PycharmProjects\\MS_thesis\\.venv\\lib\\site-packages\\sklearn\\linear_model\\_coordinate_descent.py:681: ConvergenceWarning: Objective did not converge. You might want to increase the number of iterations. Duality gap: 11.935717547574217, tolerance: 9.56928264765279e-07\n",
      "  model = cd_fast.enet_coordinate_descent_gram(\n",
      "c:\\Users\\55479\\PycharmProjects\\MS_thesis\\.venv\\lib\\site-packages\\sklearn\\linear_model\\_coordinate_descent.py:681: ConvergenceWarning: Objective did not converge. You might want to increase the number of iterations. Duality gap: 7.370951165411317, tolerance: 4.325139211785618e-07\n",
      "  model = cd_fast.enet_coordinate_descent_gram(\n",
      "c:\\Users\\55479\\PycharmProjects\\MS_thesis\\.venv\\lib\\site-packages\\sklearn\\linear_model\\_coordinate_descent.py:681: ConvergenceWarning: Objective did not converge. You might want to increase the number of iterations. Duality gap: 3.567731011378522, tolerance: 1.6340218158004762e-07\n",
      "  model = cd_fast.enet_coordinate_descent_gram(\n",
      "c:\\Users\\55479\\PycharmProjects\\MS_thesis\\.venv\\lib\\site-packages\\sklearn\\linear_model\\_coordinate_descent.py:681: ConvergenceWarning: Objective did not converge. You might want to increase the number of iterations. Duality gap: 3.850040027737871, tolerance: 1.8271498511662625e-07\n",
      "  model = cd_fast.enet_coordinate_descent_gram(\n",
      "c:\\Users\\55479\\PycharmProjects\\MS_thesis\\.venv\\lib\\site-packages\\sklearn\\linear_model\\_coordinate_descent.py:681: ConvergenceWarning: Objective did not converge. You might want to increase the number of iterations. Duality gap: 4.100838325385687, tolerance: 2.008265686146809e-07\n",
      "  model = cd_fast.enet_coordinate_descent_gram(\n"
     ]
    },
    {
     "name": "stdout",
     "output_type": "stream",
     "text": [
      "[I 2025-07-14 17:43:21,037] Trial 6 finished with value: 1.1324078641862227 and parameters: {'scaler': 'none', 'target_scaler': 'maxabs', 'alpha': 4.762459848032179e-05, 'fit_intercept': False, 'precompute': True, 'copy_X': True, 'max_iter': 4137, 'tol': 1.929416511888843e-08, 'warm_start': False, 'positive': False, 'selection': 'random'}. Best is trial 6 with value: 1.1324078641862227.\n",
      "[I 2025-07-14 17:43:24,237] Trial 7 finished with value: 1.2307383861907069 and parameters: {'scaler': 'robust', 'target_scaler': 'maxabs', 'alpha': 0.039796095129452105, 'fit_intercept': True, 'precompute': True, 'copy_X': False, 'max_iter': 18059, 'tol': 0.0002702154649551783, 'warm_start': False, 'positive': False, 'selection': 'cyclic'}. Best is trial 6 with value: 1.1324078641862227.\n",
      "[I 2025-07-14 17:43:28,628] Trial 8 finished with value: 1.217521135365877 and parameters: {'scaler': 'robust', 'target_scaler': 'maxabs', 'alpha': 0.003071410705373143, 'fit_intercept': True, 'precompute': False, 'copy_X': False, 'max_iter': 15057, 'tol': 0.00035272016853479923, 'warm_start': True, 'positive': True, 'selection': 'cyclic'}. Best is trial 6 with value: 1.1324078641862227.\n",
      "[I 2025-07-14 17:43:31,235] Trial 9 finished with value: 1.2172394475566946 and parameters: {'scaler': 'minmax', 'target_scaler': 'standard', 'alpha': 0.16769540109719847, 'fit_intercept': True, 'precompute': True, 'copy_X': False, 'max_iter': 18340, 'tol': 3.900415752907823e-06, 'warm_start': False, 'positive': False, 'selection': 'cyclic'}. Best is trial 6 with value: 1.1324078641862227.\n",
      "[I 2025-07-14 17:43:34,337] Trial 10 finished with value: 1.2307383861907069 and parameters: {'scaler': 'maxabs', 'target_scaler': 'minmax', 'alpha': 0.014127726116954972, 'fit_intercept': True, 'precompute': False, 'copy_X': True, 'max_iter': 14199, 'tol': 3.284263989875833e-06, 'warm_start': False, 'positive': False, 'selection': 'cyclic'}. Best is trial 6 with value: 1.1324078641862227.\n",
      "[I 2025-07-14 17:45:54,514] Trial 11 finished with value: 1.1981204149020284 and parameters: {'scaler': 'minmax', 'target_scaler': 'standard', 'alpha': 2.2878246658598074e-08, 'fit_intercept': False, 'precompute': False, 'copy_X': False, 'max_iter': 16541, 'tol': 3.3215017827674794e-06, 'warm_start': False, 'positive': True, 'selection': 'cyclic'}. Best is trial 6 with value: 1.1324078641862227.\n"
     ]
    },
    {
     "name": "stderr",
     "output_type": "stream",
     "text": [
      "c:\\Users\\55479\\PycharmProjects\\MS_thesis\\.venv\\lib\\site-packages\\sklearn\\linear_model\\_coordinate_descent.py:681: ConvergenceWarning: Objective did not converge. You might want to increase the number of iterations. Duality gap: 2801.8589403254155, tolerance: 0.007992492899423276\n",
      "  model = cd_fast.enet_coordinate_descent_gram(\n",
      "c:\\Users\\55479\\PycharmProjects\\MS_thesis\\.venv\\lib\\site-packages\\sklearn\\linear_model\\_coordinate_descent.py:681: ConvergenceWarning: Objective did not converge. You might want to increase the number of iterations. Duality gap: 6127.319701402477, tolerance: 0.01598486133039154\n",
      "  model = cd_fast.enet_coordinate_descent_gram(\n",
      "c:\\Users\\55479\\PycharmProjects\\MS_thesis\\.venv\\lib\\site-packages\\sklearn\\linear_model\\_coordinate_descent.py:681: ConvergenceWarning: Objective did not converge. You might want to increase the number of iterations. Duality gap: 10137.638611573348, tolerance: 0.023977229761360082\n",
      "  model = cd_fast.enet_coordinate_descent_gram(\n",
      "c:\\Users\\55479\\PycharmProjects\\MS_thesis\\.venv\\lib\\site-packages\\sklearn\\linear_model\\_coordinate_descent.py:681: ConvergenceWarning: Objective did not converge. You might want to increase the number of iterations. Duality gap: 145234.93605617533, tolerance: 0.03996196662329626\n",
      "  model = cd_fast.enet_coordinate_descent_gram(\n"
     ]
    },
    {
     "name": "stdout",
     "output_type": "stream",
     "text": [
      "[I 2025-07-14 17:45:55,951] Trial 12 finished with value: 1.1842670414634857 and parameters: {'scaler': 'none', 'target_scaler': 'standard', 'alpha': 0.00024530940950079816, 'fit_intercept': True, 'precompute': True, 'copy_X': True, 'max_iter': 3879, 'tol': 1.2446845497676886e-07, 'warm_start': False, 'positive': True, 'selection': 'random'}. Best is trial 6 with value: 1.1324078641862227.\n",
      "[I 2025-07-14 17:45:58,723] Trial 13 finished with value: 1.1841126226017251 and parameters: {'scaler': 'standard', 'target_scaler': 'minmax', 'alpha': 2.554394810315551e-08, 'fit_intercept': True, 'precompute': True, 'copy_X': True, 'max_iter': 3877, 'tol': 1.0888336764584933e-05, 'warm_start': False, 'positive': True, 'selection': 'random'}. Best is trial 6 with value: 1.1324078641862227.\n",
      "[I 2025-07-14 17:48:24,091] Trial 14 finished with value: 1.1353700287259791 and parameters: {'scaler': 'minmax', 'target_scaler': 'robust', 'alpha': 7.615514722769491e-05, 'fit_intercept': True, 'precompute': False, 'copy_X': False, 'max_iter': 18155, 'tol': 2.347134318617988e-07, 'warm_start': False, 'positive': False, 'selection': 'cyclic'}. Best is trial 6 with value: 1.1324078641862227.\n",
      "[I 2025-07-14 17:48:27,165] Trial 15 finished with value: 1.2307383861907069 and parameters: {'scaler': 'minmax', 'target_scaler': 'robust', 'alpha': 1.0834510725685724, 'fit_intercept': True, 'precompute': False, 'copy_X': True, 'max_iter': 7754, 'tol': 0.0027220163230221046, 'warm_start': False, 'positive': True, 'selection': 'random'}. Best is trial 6 with value: 1.1324078641862227.\n",
      "[I 2025-07-14 17:48:31,478] Trial 16 finished with value: 1.1754169296126555 and parameters: {'scaler': 'minmax', 'target_scaler': 'robust', 'alpha': 1.560042305917772e-05, 'fit_intercept': False, 'precompute': False, 'copy_X': True, 'max_iter': 6909, 'tol': 0.0005100693088018998, 'warm_start': False, 'positive': True, 'selection': 'cyclic'}. Best is trial 6 with value: 1.1324078641862227.\n",
      "[I 2025-07-14 17:48:33,974] Trial 17 finished with value: 1.2308033826768046 and parameters: {'scaler': 'maxabs', 'target_scaler': 'minmax', 'alpha': 0.10225659202196542, 'fit_intercept': False, 'precompute': True, 'copy_X': False, 'max_iter': 7798, 'tol': 3.930927459068068e-06, 'warm_start': False, 'positive': True, 'selection': 'cyclic'}. Best is trial 6 with value: 1.1324078641862227.\n"
     ]
    },
    {
     "name": "stderr",
     "output_type": "stream",
     "text": [
      "c:\\Users\\55479\\PycharmProjects\\MS_thesis\\.venv\\lib\\site-packages\\sklearn\\linear_model\\_coordinate_descent.py:695: ConvergenceWarning: Objective did not converge. You might want to increase the number of iterations, check the scale of the features or consider increasing regularisation. Duality gap: 2.595e+00, tolerance: 2.359e-02\n",
      "  model = cd_fast.enet_coordinate_descent(\n"
     ]
    },
    {
     "name": "stdout",
     "output_type": "stream",
     "text": [
      "[I 2025-07-14 17:51:25,660] Trial 18 finished with value: 1.2202057742077166 and parameters: {'scaler': 'robust', 'target_scaler': 'standard', 'alpha': 1.4971401859629912e-07, 'fit_intercept': False, 'precompute': False, 'copy_X': True, 'max_iter': 17438, 'tol': 3.6742683316655024e-07, 'warm_start': True, 'positive': True, 'selection': 'cyclic'}. Best is trial 6 with value: 1.1324078641862227.\n",
      "[I 2025-07-14 17:51:28,685] Trial 19 finished with value: 1.3364845757003052 and parameters: {'scaler': 'standard', 'target_scaler': 'minmax', 'alpha': 10.270228468903733, 'fit_intercept': False, 'precompute': True, 'copy_X': False, 'max_iter': 5909, 'tol': 2.0741880033374006e-07, 'warm_start': True, 'positive': True, 'selection': 'random'}. Best is trial 6 with value: 1.1324078641862227.\n"
     ]
    },
    {
     "name": "stderr",
     "output_type": "stream",
     "text": [
      "c:\\Users\\55479\\PycharmProjects\\MS_thesis\\.venv\\lib\\site-packages\\sklearn\\linear_model\\_coordinate_descent.py:695: ConvergenceWarning: Objective did not converge. You might want to increase the number of iterations, check the scale of the features or consider increasing regularisation. Duality gap: 1.225e+04, tolerance: 5.797e-04\n",
      "  model = cd_fast.enet_coordinate_descent(\n",
      "c:\\Users\\55479\\PycharmProjects\\MS_thesis\\.venv\\lib\\site-packages\\sklearn\\linear_model\\_coordinate_descent.py:695: ConvergenceWarning: Objective did not converge. You might want to increase the number of iterations, check the scale of the features or consider increasing regularisation. Duality gap: 5.089e+04, tolerance: 1.740e-03\n",
      "  model = cd_fast.enet_coordinate_descent(\n",
      "c:\\Users\\55479\\PycharmProjects\\MS_thesis\\.venv\\lib\\site-packages\\sklearn\\linear_model\\_coordinate_descent.py:695: ConvergenceWarning: Objective did not converge. You might want to increase the number of iterations, check the scale of the features or consider increasing regularisation. Duality gap: 2.065e+05, tolerance: 5.590e-03\n",
      "  model = cd_fast.enet_coordinate_descent(\n",
      "c:\\Users\\55479\\PycharmProjects\\MS_thesis\\.venv\\lib\\site-packages\\sklearn\\linear_model\\_coordinate_descent.py:695: ConvergenceWarning: Objective did not converge. You might want to increase the number of iterations, check the scale of the features or consider increasing regularisation. Duality gap: 2.220e+05, tolerance: 6.344e-03\n",
      "  model = cd_fast.enet_coordinate_descent(\n",
      "c:\\Users\\55479\\PycharmProjects\\MS_thesis\\.venv\\lib\\site-packages\\sklearn\\linear_model\\_coordinate_descent.py:695: ConvergenceWarning: Objective did not converge. You might want to increase the number of iterations, check the scale of the features or consider increasing regularisation. Duality gap: 2.364e+05, tolerance: 6.978e-03\n",
      "  model = cd_fast.enet_coordinate_descent(\n"
     ]
    },
    {
     "name": "stdout",
     "output_type": "stream",
     "text": [
      "[I 2025-07-14 18:10:19,355] Trial 20 finished with value: 1.1383691450478288 and parameters: {'scaler': 'none', 'target_scaler': 'robust', 'alpha': 1.6956448807460853e-06, 'fit_intercept': False, 'precompute': False, 'copy_X': False, 'max_iter': 12026, 'tol': 1.110839461806612e-08, 'warm_start': False, 'positive': False, 'selection': 'random'}. Best is trial 6 with value: 1.1324078641862227.\n"
     ]
    },
    {
     "name": "stderr",
     "output_type": "stream",
     "text": [
      "c:\\Users\\55479\\PycharmProjects\\MS_thesis\\.venv\\lib\\site-packages\\sklearn\\linear_model\\_coordinate_descent.py:695: ConvergenceWarning: Objective did not converge. You might want to increase the number of iterations, check the scale of the features or consider increasing regularisation. Duality gap: 1.225e+04, tolerance: 5.554e-04\n",
      "  model = cd_fast.enet_coordinate_descent(\n"
     ]
    }
   ],
   "source": [
    "# ✅ 4. Tune hyperparameters\n",
    "def objective(trial):\n",
    "    # --------- Choose scaler for data ------------\n",
    "    scaler_name = trial.suggest_categorical(\"scaler\", [\"standard\", \"minmax\", \"maxabs\", \"robust\", \"none\"])\n",
    "    scaler = {\n",
    "        \"standard\": StandardScaler(),\n",
    "        \"minmax\": MinMaxScaler(),\n",
    "        \"maxabs\": MaxAbsScaler(),\n",
    "        \"robust\": RobustScaler(),\n",
    "        \"none\": None\n",
    "    }[scaler_name]\n",
    "\n",
    "    target_scaler_name = trial.suggest_categorical(\"target_scaler\", [\"standard\", \"minmax\", \"maxabs\", \"robust\", \"none\"])\n",
    "    target_scaler = {\n",
    "        \"standard\": StandardScaler(),\n",
    "        \"minmax\": MinMaxScaler(),\n",
    "        \"maxabs\": MaxAbsScaler(),\n",
    "        \"robust\": RobustScaler(),\n",
    "        \"none\": None\n",
    "    }[target_scaler_name]\n",
    "\n",
    "    # --------- Tune Lasso Hyperparameters ----------\n",
    "    parameters = {\n",
    "        \"alpha\": trial.suggest_float(\"alpha\", 1e-8, 100.0, log=True),\n",
    "        \"fit_intercept\": trial.suggest_categorical(\"fit_intercept\", [True, False]),\n",
    "        \"precompute\": trial.suggest_categorical(\"precompute\", [True, False]),\n",
    "        \"copy_X\": trial.suggest_categorical(\"copy_X\", [True, False]),\n",
    "        \"max_iter\": trial.suggest_int(\"max_iter\", 500, 20000),\n",
    "        \"tol\": trial.suggest_float(\"tol\", 1e-8, 1e-1, log=True),\n",
    "        \"warm_start\": trial.suggest_categorical(\"warm_start\", [True, False]),\n",
    "        \"positive\": trial.suggest_categorical(\"positive\", [True, False]),\n",
    "        \"selection\": trial.suggest_categorical(\"selection\", [\"cyclic\", \"random\"]),\n",
    "        \"random_state\": 42  # fixed for reproducibility\n",
    "    }\n",
    "\n",
    "    # --------- Time Series Cross Validation ----------\n",
    "    tscv = TimeSeriesSplit(n_splits=5)\n",
    "    rmses = []\n",
    "\n",
    "    for train_idx, val_idx in tscv.split(X_full_train):\n",
    "        X_train, X_val = X_full_train.iloc[train_idx], X_full_train.iloc[val_idx]\n",
    "        y_train, y_val = y_full_train.iloc[train_idx], y_full_train.iloc[val_idx]\n",
    "\n",
    "        # --------- Apply scaling if needed ----------\n",
    "        if scaler:\n",
    "            ct = ColumnTransformer(\n",
    "                transformers=[('scale', scaler, FEATURES_WHOLE_SCALED)],\n",
    "                remainder='passthrough'  # leave all other columns untouched\n",
    "            )\n",
    "            X_train_scaled = pd.DataFrame(\n",
    "                ct.fit_transform(X_train),\n",
    "                index=X_train.index\n",
    "            )\n",
    "            X_val_scaled = pd.DataFrame(\n",
    "                ct.transform(X_val),\n",
    "                index=X_val.index\n",
    "            )\n",
    "        else:\n",
    "            X_train_scaled = X_train\n",
    "            X_val_scaled = X_val\n",
    "\n",
    "        if target_scaler:\n",
    "            y_train_scaled = target_scaler.fit_transform(y_train.to_numpy().reshape(-1, 1)).ravel()\n",
    "        else:\n",
    "            y_train_scaled = y_train\n",
    "\n",
    "        # --------- Train model ----------\n",
    "        model = Lasso(**parameters)\n",
    "        model.fit(X_train_scaled, y_train_scaled)\n",
    "\n",
    "        # --------- Predict & evaluate ----------\n",
    "        y_pred_scaled = model.predict(X_val_scaled)\n",
    "\n",
    "        if target_scaler:\n",
    "            y_pred = target_scaler.inverse_transform(y_pred_scaled.reshape(-1, 1)).ravel()\n",
    "        else:\n",
    "            y_pred = y_pred_scaled\n",
    "\n",
    "        rmse = root_mean_squared_error(y_val, y_pred)\n",
    "        rmses.append(rmse)\n",
    "\n",
    "    return np.mean(rmses)  # return average cross-validated rmse\n",
    "\n",
    "# --------- Set the switch ----------\n",
    "if not is_tuning_done:\n",
    "\n",
    "    # --------- Run Optuna Study ----------\n",
    "    study = optuna.create_study(\n",
    "        direction=\"minimize\",\n",
    "        sampler=optuna.samplers.TPESampler(seed=42, n_startup_trials=20), # random search 20 trials and then use TPE\n",
    "        pruner=optuna.pruners.MedianPruner(n_startup_trials=10, n_warmup_steps=2)\n",
    "    )\n",
    "    study.optimize(objective, n_trials=150, show_progress_bar=True)\n",
    "\n",
    "    # --------- Best Result ----------\n",
    "    print(\"Best params:\", study.best_trial.params)\n",
    "    print(\"Best rmse:\", study.best_value)\n",
    "\n",
    "    # --------- Save Best Parameters ----------\n",
    "    with open(\"Lasso_whole_tuning_best_parameters.json\", \"w\") as f:\n",
    "        json.dump(study.best_trial.params, f, indent=4)\n"
   ]
  }
 ],
 "metadata": {
  "kernelspec": {
   "display_name": ".venv",
   "language": "python",
   "name": "python3"
  },
  "language_info": {
   "codemirror_mode": {
    "name": "ipython",
    "version": 3
   },
   "file_extension": ".py",
   "mimetype": "text/x-python",
   "name": "python",
   "nbconvert_exporter": "python",
   "pygments_lexer": "ipython3",
   "version": "3.10.10"
  }
 },
 "nbformat": 4,
 "nbformat_minor": 5
}
