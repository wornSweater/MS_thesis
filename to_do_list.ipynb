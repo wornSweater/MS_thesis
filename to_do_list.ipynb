{
 "cells": [
  {
   "cell_type": "markdown",
   "id": "712c312c",
   "metadata": {},
   "source": [
    "# Fill in the CBOE missing values"
   ]
  },
  {
   "cell_type": "code",
   "execution_count": null,
   "id": "17661618",
   "metadata": {},
   "outputs": [],
   "source": [
    "# find all *** in the settlement values\n",
    "# later work\n",
    "\n",
    "# input_file= os.getcwd() + r\"\\all_settlement_values.json\"\n",
    "# with open(input_file, 'r') as f:\n",
    "#     settlement_values = json.load(f)\n",
    "\n",
    "# for type, data in settlement_values.items():\n",
    "#     for year, series in data.items():\n",
    "#         for i in series:\n",
    "#             if '*' in str(i['settlement_value']):\n",
    "#                 print(i)"
   ]
  }
 ],
 "metadata": {
  "kernelspec": {
   "display_name": ".venv",
   "language": "python",
   "name": "python3"
  },
  "language_info": {
   "name": "python",
   "version": "3.10.10"
  }
 },
 "nbformat": 4,
 "nbformat_minor": 5
}
