{
 "cells": [
  {
   "cell_type": "code",
   "execution_count": null,
   "id": "bc51a7d8",
   "metadata": {},
   "outputs": [],
   "source": [
    "# sort the data by date, as a time series\n",
    "# pd read chunksize, for validation\n",
    "# split into train, val and test\n",
    "# train the model, tune the hypers and get performance \n",
    "# get the SHAP to see how is the importance\n",
    "# get the return and the sharpe ratio\n",
    "\n",
    "# pd read chunksize, but with rolling window (the number of )"
   ]
  },
  {
   "cell_type": "code",
   "execution_count": null,
   "id": "4c581067",
   "metadata": {},
   "outputs": [],
   "source": []
  }
 ],
 "metadata": {
  "kernelspec": {
   "display_name": ".venv",
   "language": "python",
   "name": "python3"
  },
  "language_info": {
   "name": "python",
   "version": "3.10.10"
  }
 },
 "nbformat": 4,
 "nbformat_minor": 5
}
