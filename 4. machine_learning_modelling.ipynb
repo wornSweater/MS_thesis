{
 "cells": [
  {
   "cell_type": "code",
   "execution_count": null,
   "id": "bc51a7d8",
   "metadata": {},
   "outputs": [],
   "source": [
    "# sort the data by date, as a time series\n",
    "# pd read chunksize, for validation\n",
    "# split into train, val and test\n",
    "# train the model, tune the hypers and get performance \n",
    "# get the SHAP to see how is the importance\n",
    "# get the return and the sharpe ratio"
   ]
  }
 ],
 "metadata": {
  "language_info": {
   "name": "python"
  }
 },
 "nbformat": 4,
 "nbformat_minor": 5
}
